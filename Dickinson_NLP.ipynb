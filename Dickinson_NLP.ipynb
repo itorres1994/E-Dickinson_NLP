{
 "cells": [
  {
   "cell_type": "code",
   "execution_count": 111,
   "metadata": {
    "collapsed": true
   },
   "outputs": [],
   "source": [
    "import os\n",
    "import re\n",
    "\n",
    "\n",
    "# Script for preprocessing complete raw poems; I have to manually fix line breaks\n",
    "# after this.\n",
    "\n",
    "infile = \"edCompleteRaw.txt\"\n",
    "outfile = \"edCompleteFormatted.txt\"\n",
    "outfile2 = \"edCompleteFormatted2.txt\"\n",
    "\n",
    "with open(infile, 'r') as raw:\n",
    "    buff = raw.read().split()\n",
    "\n",
    "with open(outfile2, 'w') as cleaned:\n",
    "    \n",
    "    # Split by poem number\n",
    "    \n",
    "    for word in buff:\n",
    "        \n",
    "        # Has poem number\n",
    "        if re.search('[A-Za-z]*[0-9]+', word):\n",
    "            \n",
    "            first = \"\"\n",
    "            poem_num = \"\"\n",
    "            second = \"\"\n",
    "            \n",
    "            for letter in word:\n",
    "                if re.match('[0-9]', letter):\n",
    "                    poem_num += str(letter)\n",
    "                elif len(poem_num) > 0:\n",
    "                    second += letter\n",
    "                else:\n",
    "                    first += letter\n",
    "            \n",
    "            cleaned.write(first + \"\\n\\n\" + poem_num + \"\\n\\n\" + second + ' ')\n",
    "        \n",
    "        # Sometimes double quotation marks when they begin consecutive lines\n",
    "        \n",
    "        elif re.search('\"\"', word):\n",
    "            \n",
    "            first = \"\"\n",
    "            second = \"\"\n",
    "            \n",
    "            for letter in word:\n",
    "                if letter == '\"' and first[-1] == '\"':\n",
    "                    second += letter\n",
    "                elif len(second) > 0:\n",
    "                    second += letter\n",
    "                else:\n",
    "                    first += letter\n",
    "                    \n",
    "            cleaned.write(first + \"\\n\" + second + ' ')\n",
    "        \n",
    "        # Could be combined word from line break\n",
    "        # Check for capital letters\n",
    "        \n",
    "        elif re.search('[A-Za-z?!-,.;]+[A-Z]', word):\n",
    "            \n",
    "            first = \"\"\n",
    "            second = \"\"\n",
    "            \n",
    "            for letter in word:\n",
    "                if letter.isupper() and len(first) > 0:\n",
    "                    second += letter\n",
    "                elif len(second) > 0:\n",
    "                    second += letter\n",
    "                else:\n",
    "                    first += letter\n",
    "            \n",
    "            cleaned.write(first + \"\\n\" + second + ' ')\n",
    "    \n",
    "        # If word begins with capital letter, could be start\n",
    "        # of new verse. Need to add newline, controlling only\n",
    "        # for \"I\"\n",
    "        \n",
    "        elif word[0].isupper() and word != 'I':\n",
    "            \n",
    "            cleaned.write(\"\\n\" + word + ' ')\n",
    "            \n",
    "        else:\n",
    "            cleaned.write(word + ' ')\n"
   ]
  },
  {
   "cell_type": "code",
   "execution_count": 4,
   "metadata": {},
   "outputs": [
    {
     "name": "stdout",
     "output_type": "stream",
     "text": [
      "[(323, None), (331, None), (338, None), (340, None), (344, None), (352, None), (354, None), (359, None), (361, None), (365, None), (368, None), (370, None), (379, None), (382, None), (385, None), (393, None), (394, None), (401, None), (403, None), (404, None), (409, None), (410, None), (411, None), (415, None), (432, None), (435, None), (436, None), (445, None), (448, None), (455, None), (467, None), (471, None), (473, None), (475, None), (476, None), (482, None), (496, None), (497, None), (501, None), (505, None), (506, None), (510, None), (515, None), (516, None), (520, None), (521, None), (525, None), (540, None), (550, None), (561, None)]\n"
     ]
    }
   ],
   "source": [
    "l = [(k,v) for k,v in tell.items() if v == None]\n",
    "\n",
    "l.sort()\n",
    "print l[:50]"
   ]
  },
  {
   "cell_type": "code",
   "execution_count": 5,
   "metadata": {},
   "outputs": [
    {
     "name": "stdout",
     "output_type": "stream",
     "text": [
      "[(331, None), (338, None), (340, None), (344, None), (352, None), (354, None), (359, None), (361, None), (365, None), (368, None), (370, None), (379, None), (382, None), (385, None), (393, None), (394, None), (401, None), (403, None), (404, None), (409, None), (410, None), (411, None), (415, None), (432, None), (435, None), (436, None), (445, None), (448, None), (455, None), (467, None), (471, None), (473, None), (475, None), (476, None), (482, None), (496, None), (497, None), (501, None), (505, None), (506, None), (510, None), (515, None), (516, None), (520, None), (521, None), (525, None), (540, None), (550, None), (561, None), (566, None)]\n"
     ]
    }
   ],
   "source": [
    "tell[323] = (\"happiness\",\"surprise\")\n",
    "l = [(k,v) for k,v in tell.items() if v == None]\n",
    "\n",
    "l.sort()\n",
    "print l[:50]"
   ]
  },
  {
   "cell_type": "code",
   "execution_count": 29,
   "metadata": {},
   "outputs": [
    {
     "name": "stdout",
     "output_type": "stream",
     "text": [
      "[(5, ('peace', 'faith')), (6, ('beauty', 'seasons')), (7, ('salvation', 'faith')), (10, ('death', 'time')), (12, ('seasons', 'beauty')), (14, ('family', 'love')), (33, ('loss', 'memory')), (35, ('loss', 'death')), (36, ('happiness', 'winter')), (38, ('family', 'marriage')), (50, ('mystery', 'death')), (51, ('peace', 'death')), (77, ('freedom', 'frustration')), (78, ('salvation', 'sadness')), (79, ('salvation', 'faith')), (93, ('wonder', 'time')), (96, ('death', 'life')), (103, ('salvation', 'sleep')), (108, ('sickness', 'life')), (120, ('beauty', 'death')), (127, ('suffering', 'children')), (128, ('wonder', 'nature')), (130, ('wonder', 'autumn')), (143, ('birds', 'wonder')), (144, ('death', 'love')), (149, ('loss', 'death')), (151, ('smallness', 'sadness')), (164, ('mother', 'birds')), (175, ('suffering', 'loss')), (176, ('flowers', 'wonder')), (182, ('death', 'connection')), (185, ('science', 'faith')), (187, ('death', 'loss')), (199, ('woman', 'suffering')), (205, ('friendship', 'loss')), (219, ('beauty', 'nature')), (227, ('family', 'children')), (237, ('salvation', 'faith')), (244, ('suffering', 'work')), (245, ('loss', 'sleep')), (247, ('grace', 'nature')), (249, ('happiness', 'connection')), (257, ('wonder', 'loss')), (269, ('suffering', 'life')), (283, ('beauty', 'disconnection')), (287, ('death', 'science')), (290, ('disconnection', 'nature')), (294, ('fear', 'beauty')), (314, ('nature', 'death')), (315, ('wonder', 'weather')), (323, ('happiness', 'surprise')), (331, ('flowers', 'beauty')), (338, ('death', 'loss')), (340, ('happiness', 'hesitation')), (344, ('death', 'loss')), (352, ('wonder', 'nature')), (354, ('beauty', 'loss')), (359, ('grace', 'determination')), (361, ('determination', 'smallness')), (365, ('salvation', 'faith')), (368, ('love', 'suffering')), (370, ('salvation', 'connection')), (379, ('loss', 'happiness')), (382, ('death', 'life')), (385, ('salvation', 'suffering')), (393, ('grace', 'wonder')), (394, ('love', 'suffering')), (401, ('scorn', 'salvation')), (403, ('seasons', 'time')), (404, ('flowers', 'beauty')), (409, ('death', 'salvation')), (410, ('suffering', 'madness')), (411, ('death', 'seasons')), (415, ('loss', 'fear')), (432, ('salvation', 'death')), (435, ('madness', 'frustration')), (436, ('wonder', 'weather')), (445, ('death', 'loss')), (448, ('art', 'wonder')), (455, ('salvation', 'happiness')), (467, ('children', 'sadness')), (471, ('time', 'nature')), (473, ('salvation', 'happiness')), (475, ('disconnection', 'life')), (476, ('smallness', 'faith')), (482, ('loss', 'love')), (496, ('disconnection', 'beauty')), (497, ('faith', 'suffering')), (501, ('faith', 'salvation')), (505, ('art', 'wonder')), (506, ('grace', 'wonder')), (510, ('death', 'fear')), (515, ('salvation', 'wonder')), (516, ('beauty', 'disconnection')), (520, ('nature', 'connection')), (521, ('love', 'death')), (525, ('trees', 'wonder')), (540, ('smallness', 'frustration')), (550, ('determination', 'faith')), (561, ('suffering', 'wonder')), (566, ('death', 'connection')), (570, ('disconnection', 'love'))]\n"
     ]
    }
   ],
   "source": [
    "with open(out, 'r') as go:\n",
    "    tell = pickle.load(go)\n",
    "    \n",
    "l = [(k,v) for k,v in tell.items() if v != None]\n",
    "\n",
    "l.sort()\n",
    "print l"
   ]
  },
  {
   "cell_type": "code",
   "execution_count": 30,
   "metadata": {},
   "outputs": [
    {
     "name": "stdout",
     "output_type": "stream",
     "text": [
      "set(['love', 'family', 'autumn', 'weather', 'sleep', 'madness', 'fear', 'children', 'happiness', 'wonder', 'friendship', 'art', 'death', 'hesitation', 'winter', 'peace', 'connection', 'birds', 'frustration', 'memory', 'scorn', 'surprise', 'life', 'woman', 'beauty', 'loss', 'mother', 'trees', 'smallness', 'suffering', 'determination', 'seasons', 'flowers', 'grace', 'science', 'mystery', 'faith', 'sickness', 'freedom', 'work', 'disconnection', 'sadness', 'marriage', 'time', 'salvation', 'nature'])\n"
     ]
    }
   ],
   "source": [
    "\n",
    "tags = set([t for i in l for t in i[1]])\n",
    "print tags"
   ]
  },
  {
   "cell_type": "code",
   "execution_count": 31,
   "metadata": {},
   "outputs": [
    {
     "name": "stdout",
     "output_type": "stream",
     "text": [
      "[(581, None), (582, None), (587, None), (592, None), (595, None), (602, None), (611, None), (617, None), (624, None), (632, None), (635, None), (638, None), (639, None), (642, None), (645, None), (669, None), (676, None), (682, None), (688, None), (691, None), (694, None), (701, None), (702, None), (703, None), (708, None), (710, None), (712, None), (714, None), (715, None), (721, None), (725, None), (727, None), (728, None), (735, None), (737, None), (742, None), (743, None), (755, None), (762, None), (766, None), (768, None), (772, None), (778, None), (783, None), (784, None), (796, None), (799, None), (805, None), (817, None), (819, None)]\n"
     ]
    }
   ],
   "source": [
    "l = [(k,v) for k,v in tell.items() if v == None]\n",
    "\n",
    "l.sort()\n",
    "print l[:50]"
   ]
  },
  {
   "cell_type": "code",
   "execution_count": 32,
   "metadata": {
    "collapsed": true
   },
   "outputs": [],
   "source": [
    "tell[581] = (\"wonder\",\"frustration\")\n",
    "tell[582] = (\"art\",\"suffering\")\n",
    "tell[587] = (\"loss\",\"love\")\n",
    "tell[592] = (\"death\",\"seasons\")\n",
    "tell[595] = (\"beauty\",\"autumn\")\n",
    "tell[602] = (\"beauty\",\"nature\")\n",
    "tell[611] = (\"love\",\"death\")\n",
    "tell[617] = (\"determination\",\"sickness\")\n",
    "tell[624] = (\"time\",\"connection\")\n",
    "tell[632] = (\"imagination\",\"wonder\")\n",
    "\n"
   ]
  },
  {
   "cell_type": "code",
   "execution_count": 34,
   "metadata": {
    "scrolled": true
   },
   "outputs": [
    {
     "name": "stdout",
     "output_type": "stream",
     "text": [
      "{1537: None, 515: ('salvation', 'wonder'), 516: ('beauty', 'disconnection'), 1029: None, 6: ('beauty', 'seasons'), 7: ('salvation', 'faith'), 520: ('nature', 'connection'), 521: ('love', 'death'), 10: ('death', 'time'), 12: ('seasons', 'beauty'), 525: ('trees', 'wonder'), 14: ('family', 'love'), 1041: None, 505: ('art', 'wonder'), 394: ('love', 'suffering'), 1559: None, 1560: None, 1028: None, 1563: None, 540: ('smallness', 'frustration'), 5: ('peace', 'faith'), 33: ('loss', 'memory'), 35: ('loss', 'death'), 36: ('happiness', 'winter'), 38: ('family', 'marriage'), 1575: None, 1576: None, 1579: None, 1583: None, 561: ('suffering', 'wonder'), 50: ('mystery', 'death'), 51: ('peace', 'death'), 1588: None, 566: ('death', 'connection'), 1079: None, 1593: None, 570: ('disconnection', 'love'), 411: ('death', 'seasons'), 1598: None, 1088: None, 581: ('wonder', 'frustration'), 582: ('art', 'suffering'), 1608: None, 1097: None, 587: ('loss', 'love'), 923: None, 77: ('freedom', 'frustration'), 78: ('salvation', 'sadness'), 79: ('salvation', 'faith'), 592: ('death', 'seasons'), 1106: None, 595: ('beauty', 'autumn'), 819: None, 1038: None, 1112: None, 602: ('beauty', 'nature'), 93: ('wonder', 'time'), 96: ('death', 'life'), 784: None, 1122: None, 611: ('love', 'death'), 1124: None, 1553: None, 379: ('loss', 'happiness'), 617: ('determination', 'sickness'), 103: ('salvation', 'sleep'), 108: ('sickness', 'life'), 445: ('death', 'loss'), 624: ('time', 'connection'), 1137: None, 1653: None, 1142: None, 1143: None, 120: ('beauty', 'death'), 1145: None, 1146: None, 635: None, 638: None, 127: ('suffering', 'children'), 128: ('wonder', 'nature'), 130: ('wonder', 'autumn'), 645: None, 1158: None, 1644: None, 1163: None, 1677: None, 143: ('birds', 'wonder'), 144: ('death', 'love'), 1681: None, 1170: None, 1171: None, 149: ('loss', 'death'), 772: None, 151: ('smallness', 'sadness'), 1177: None, 1691: None, 669: None, 1698: None, 283: ('beauty', 'disconnection'), 164: ('mother', 'birds'), 1701: None, 881: None, 682: None, 1735: None, 1196: None, 1710: None, 175: ('suffering', 'loss'), 176: ('flowers', 'wonder'), 1713: None, 691: None, 1716: None, 182: ('death', 'connection'), 1207: None, 185: ('science', 'faith'), 187: ('death', 'loss'), 1212: None, 701: None, 702: None, 703: None, 1729: None, 1215: None, 1732: None, 710: None, 199: ('woman', 'suffering'), 712: None, 1225: None, 714: None, 715: None, 1541: None, 205: ('friendship', 'loss'), 467: ('children', 'sadness'), 1743: None, 632: ('imagination', 'wonder'), 725: None, 727: None, 728: None, 1753: None, 331: ('flowers', 'beauty'), 219: ('beauty', 'nature'), 1245: None, 1759: None, 737: None, 227: ('family', 'children'), 550: ('determination', 'faith'), 742: None, 721: None, 1769: None, 1771: None, 1773: None, 755: None, 244: ('suffering', 'work'), 245: ('loss', 'sleep'), 247: ('grace', 'nature'), 249: ('happiness', 'connection'), 762: None, 639: None, 766: None, 768: None, 257: ('wonder', 'loss'), 1282: None, 1284: None, 778: None, 1239: None, 269: ('suffering', 'life'), 1294: None, 783: None, 1296: None, 1752: None, 1298: None, 1299: None, 1300: None, 473: ('salvation', 'happiness'), 1307: None, 796: None, 1310: None, 287: ('death', 'science'), 290: ('disconnection', 'nature'), 1243: None, 805: None, 294: ('fear', 'beauty'), 1152: None, 1326: None, 743: None, 1328: None, 817: None, 1331: None, 820: None, 822: None, 1161: None, 314: ('nature', 'death'), 735: None, 828: None, 1341: None, 1343: None, 1344: None, 833: None, 435: ('madness', 'frustration'), 323: ('happiness', 'surprise'), 1545: None, 1352: None, 841: None, 1591: None, 403: ('seasons', 'time'), 482: ('loss', 'love'), 1360: None, 338: ('death', 'loss'), 340: ('happiness', 'hesitation'), 853: None, 642: None, 344: ('death', 'loss'), 859: None, 1423: None, 352: ('wonder', 'nature'), 1168: None, 354: ('beauty', 'loss'), 315: ('wonder', 'weather'), 708: None, 1382: None, 359: ('grace', 'determination'), 361: ('determination', 'smallness'), 1387: None, 944: None, 365: ('salvation', 'faith'), 688: None, 694: None, 368: ('love', 'suffering'), 1393: None, 370: ('salvation', 'connection'), 883: None, 1666: None, 404: ('flowers', 'beauty'), 891: None, 382: ('death', 'life'), 385: ('salvation', 'suffering'), 1412: None, 831: None, 393: ('grace', 'wonder'), 906: None, 907: None, 908: None, 237: ('salvation', 'faith'), 401: ('scorn', 'salvation'), 1427: None, 916: None, 919: None, 409: ('death', 'salvation'), 410: ('suffering', 'madness'), 1435: None, 1434: None, 415: ('loss', 'fear'), 1443: None, 1445: None, 1446: None, 497: ('faith', 'suffering'), 936: None, 942: None, 432: ('salvation', 'death'), 1458: None, 947: None, 436: ('wonder', 'weather'), 1461: None, 1462: None, 1203: None, 1549: None, 1469: None, 501: ('faith', 'salvation'), 448: ('art', 'wonder'), 1123: None, 799: None, 455: ('salvation', 'happiness'), 1482: None, 1483: None, 973: None, 970: None, 1491: None, 1494: None, 471: ('time', 'nature'), 984: None, 676: None, 1498: None, 475: ('disconnection', 'life'), 476: ('smallness', 'faith'), 506: ('grace', 'wonder'), 1503: None, 992: None, 993: None, 994: None, 996: None, 1414: None, 1513: None, 1516: None, 1273: None, 496: ('disconnection', 'beauty'), 1448: None, 1619: None, 1013: None, 1016: None, 1529: None, 1530: None, 510: ('death', 'fear')}\n",
      "('imagination', 'wonder')\n"
     ]
    }
   ],
   "source": [
    "import pickle\n",
    "\n",
    "with open(out, 'w') as go:\n",
    "    pickle.dump(tell, go)\n",
    "\n",
    "with open(out, 'r') as go:\n",
    "    tell = pickle.load(go)\n",
    "    \n",
    "print tell\n",
    "print tell[632]"
   ]
  },
  {
   "cell_type": "code",
   "execution_count": 14,
   "metadata": {
    "scrolled": true
   },
   "outputs": [
    {
     "name": "stdout",
     "output_type": "stream",
     "text": [
      "done\n"
     ]
    }
   ],
   "source": [
    "sent = \"SentiWordNet_3.0.0_20130122.txt\"\n",
    "import json\n",
    "\n",
    "from collections import defaultdict\n",
    "\n",
    "sent_dict = defaultdict(float)\n",
    "\n",
    "\n",
    "with open(sent, 'r') as infile:\n",
    "\n",
    "    for line in infile:\n",
    "            \n",
    "            words = line.split()\n",
    "            sent_dict[words[4][:words[4].index('#')]] = (float(words[2]) + float(words[3]))/2\n",
    "            \n",
    "\n",
    "# print (sent_dict)\n",
    "\n",
    "with open(\"freq_dict.json\", 'w') as out:\n",
    "    \n",
    "    json.dump(sent_dict, out)\n",
    "    \n",
    "print(\"done\")\n",
    "\n",
    "    \n",
    "    "
   ]
  },
  {
   "cell_type": "code",
   "execution_count": 18,
   "metadata": {},
   "outputs": [
    {
     "name": "stdout",
     "output_type": "stream",
     "text": [
      "300\n",
      "{1537: None, 515: ('salvation', 'wonder'), 516: ('beauty', 'disconnection'), 1029: None, 6: ('beauty', 'seasons'), 7: ('salvation', 'faith'), 520: ('nature', 'connection'), 521: ('love', 'death'), 10: ('death', 'time'), 12: ('seasons', 'beauty'), 525: ('trees', 'wonder'), 14: ('family', 'love'), 1041: None, 1123: None, 1559: None, 1560: None, 1028: None, 1563: None, 540: ('smallness', 'frustration'), 5: ('peace', 'faith'), 33: ('loss', 'memory'), 35: ('loss', 'death'), 36: ('happiness', 'winter'), 38: ('family', 'marriage'), 1575: None, 1576: None, 1331: None, 1579: None, 1583: None, 561: ('suffering', 'wonder'), 50: ('mystery', 'death'), 51: ('peace', 'death'), 1588: None, 566: ('death', 'connection'), 1079: None, 1593: None, 570: ('disconnection', 'love'), 1598: None, 1088: None, 581: ('wonder', 'frustration'), 582: ('art', 'suffering'), 1608: None, 1097: None, 587: ('loss', 'love'), 77: ('freedom', 'frustration'), 78: ('salvation', 'sadness'), 79: ('salvation', 'faith'), 592: ('death', 'seasons'), 1106: None, 595: ('beauty', 'autumn'), 1038: None, 1503: None, 1112: None, 602: ('beauty', 'nature'), 1435: None, 93: ('wonder', 'time'), 96: ('death', 'life'), 1296: None, 1122: None, 611: ('love', 'death'), 1124: None, 1553: None, 617: ('determination', 'sickness'), 103: ('salvation', 'sleep'), 1644: None, 1469: None, 624: ('time', 'connection'), 1137: None, 1653: None, 1142: None, 1143: None, 120: ('beauty', 'death'), 1145: None, 1146: None, 635: None, 638: None, 127: ('suffering', 'children'), 128: ('wonder', 'nature'), 448: ('art', 'wonder'), 130: ('wonder', 'autumn'), 1387: None, 645: None, 1158: None, 108: ('sickness', 'life'), 1163: None, 1677: None, 143: ('birds', 'wonder'), 144: ('death', 'love'), 1681: None, 1170: None, 1171: None, 149: ('loss', 'death'), 151: ('smallness', 'sadness'), 1482: None, 1177: None, 1691: None, 669: None, 994: None, 1698: None, 1307: None, 164: ('mother', 'birds'), 1701: None, 1284: None, 1393: None, 682: None, 199: ('woman', 'suffering'), 1196: None, 1710: None, 175: ('suffering', 'loss'), 176: ('flowers', 'wonder'), 1713: None, 691: None, 1716: None, 182: ('death', 'connection'), 1207: None, 891: None, 185: ('science', 'faith'), 187: ('death', 'loss'), 1212: None, 701: None, 702: None, 703: None, 1729: None, 1215: None, 1732: None, 710: None, 1735: None, 712: None, 1225: None, 714: None, 715: None, 1541: None, 205: ('friendship', 'loss'), 1743: None, 632: ('imagination', 'wonder'), 725: None, 727: None, 728: None, 1753: None, 219: ('beauty', 'nature'), 1245: None, 1759: None, 737: None, 227: ('family', 'children'), 550: ('determination', 'faith'), 742: None, 721: None, 1769: None, 1771: None, 1773: None, 1491: None, 1529: None, 755: None, 244: ('suffering', 'work'), 245: ('loss', 'sleep'), 247: ('grace', 'nature'), 249: ('happiness', 'connection'), 762: None, 639: None, 766: None, 768: None, 257: ('wonder', 'loss'), 1282: None, 772: None, 778: None, 1239: None, 269: ('suffering', 'life'), 1294: None, 783: None, 784: None, 1752: None, 1298: None, 1299: None, 1300: None, 283: ('beauty', 'disconnection'), 796: None, 947: None, 1310: None, 287: ('death', 'science'), 936: None, 290: ('disconnection', 'nature'), 1243: None, 805: None, 294: ('fear', 'beauty'), 1152: None, 1326: None, 1328: None, 817: None, 819: None, 820: None, 822: None, 1161: None, 314: ('nature', 'death'), 735: None, 828: None, 1341: None, 1343: None, 1344: None, 833: None, 323: ('happiness', 'surprise'), 1545: None, 1352: None, 841: None, 1591: None, 1443: None, 1360: None, 338: ('death', 'loss'), 676: None, 340: ('happiness', 'hesitation'), 853: None, 642: None, 344: ('death', 'loss'), 859: None, 352: ('wonder', 'nature'), 1168: None, 354: ('beauty', 'loss'), 315: ('wonder', 'weather'), 708: None, 1382: None, 359: ('grace', 'determination'), 361: ('determination', 'smallness'), 743: None, 1427: None, 365: ('salvation', 'faith'), 694: None, 368: ('love', 'suffering'), 881: None, 370: ('salvation', 'connection'), 883: None, 1666: None, 916: None, 379: ('loss', 'happiness'), 382: ('death', 'life'), 385: ('salvation', 'suffering'), 1412: None, 831: None, 906: None, 393: ('grace', 'wonder'), 394: ('love', 'suffering'), 907: None, 908: None, 237: ('salvation', 'faith'), 401: ('scorn', 'salvation'), 403: ('seasons', 'time'), 404: ('flowers', 'beauty'), 919: None, 409: ('death', 'salvation'), 410: ('suffering', 'madness'), 411: ('death', 'seasons'), 1434: None, 415: ('loss', 'fear'), 923: None, 1445: None, 1446: None, 688: None, 942: None, 432: ('salvation', 'death'), 1458: None, 435: ('madness', 'frustration'), 436: ('wonder', 'weather'), 1461: None, 1462: None, 1203: None, 1549: None, 445: ('death', 'loss'), 1013: None, 799: None, 331: ('flowers', 'beauty'), 455: ('salvation', 'happiness'), 970: None, 1483: None, 973: None, 944: None, 467: ('children', 'sadness'), 1494: None, 471: ('time', 'nature'), 984: None, 473: ('salvation', 'happiness'), 1498: None, 475: ('disconnection', 'life'), 476: ('smallness', 'faith'), 1530: None, 1423: None, 992: None, 993: None, 482: ('loss', 'love'), 1448: None, 996: None, 1414: None, 1513: None, 1516: None, 1273: None, 496: ('disconnection', 'beauty'), 497: ('faith', 'suffering'), 1619: None, 501: ('faith', 'salvation'), 1016: None, 505: ('art', 'wonder'), 506: ('grace', 'wonder'), 510: ('death', 'fear')}\n"
     ]
    }
   ],
   "source": [
    "import pickle\n",
    "\n",
    "inf = \"ed_themes_300.pickle\"\n",
    "\n",
    "\n",
    "with open(inf, 'rb') as infile:\n",
    "    \n",
    "    tell = pickle.load(infile)\n",
    "\n",
    "print (len(tell))\n",
    "print (tell)\n",
    "\n",
    "\n",
    "\n",
    "        "
   ]
  },
  {
   "cell_type": "code",
   "execution_count": 20,
   "metadata": {},
   "outputs": [
    {
     "name": "stdout",
     "output_type": "stream",
     "text": [
      "[(635, None), (638, None), (639, None), (642, None), (645, None), (669, None), (676, None), (682, None), (688, None), (691, None), (694, None), (701, None), (702, None), (703, None), (708, None), (710, None), (712, None), (714, None), (715, None), (721, None), (725, None), (727, None), (728, None), (735, None), (737, None), (742, None), (743, None), (755, None), (762, None), (766, None), (768, None), (772, None), (778, None), (783, None), (784, None), (796, None), (799, None), (805, None), (817, None), (819, None), (820, None), (822, None), (828, None), (831, None), (833, None), (841, None), (853, None), (859, None), (881, None), (883, None)]\n"
     ]
    }
   ],
   "source": [
    "l = [(k,v) for k,v in tell.items() if v == None]\n",
    "\n",
    "l.sort()\n",
    "print (l[:50])"
   ]
  },
  {
   "cell_type": "code",
   "execution_count": null,
   "metadata": {
    "collapsed": true
   },
   "outputs": [],
   "source": [
    "tell[635] = (\"time\",\"suffering\")\n",
    "tell[638] = (\"time\",\"suffering\")\n",
    "tell[639] = (\"time\",\"suffering\")\n",
    "tell[642] = (\"time\",\"suffering\")\n",
    "tell[645] = (\"time\",\"suffering\")\n",
    "tell[669] = (\"time\",\"suffering\")\n",
    "tell[676] = (\"time\",\"suffering\")\n",
    "tell[682] = (\"time\",\"suffering\")\n",
    "tell[688] = (\"time\",\"suffering\")\n",
    "tell[691] = (\"time\",\"suffering\")\n",
    "tell[694] = (\"time\",\"suffering\")\n",
    "tell[701] = (\"time\",\"suffering\")"
   ]
  }
 ],
 "metadata": {
  "kernelspec": {
   "display_name": "Python 3",
   "language": "python",
   "name": "python3"
  },
  "language_info": {
   "codemirror_mode": {
    "name": "ipython",
    "version": 3
   },
   "file_extension": ".py",
   "mimetype": "text/x-python",
   "name": "python",
   "nbconvert_exporter": "python",
   "pygments_lexer": "ipython3",
   "version": "3.6.1"
  }
 },
 "nbformat": 4,
 "nbformat_minor": 2
}

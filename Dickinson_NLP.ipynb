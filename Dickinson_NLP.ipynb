{
 "cells": [
  {
   "cell_type": "code",
   "execution_count": 111,
   "metadata": {
    "collapsed": true
   },
   "outputs": [],
   "source": [
    "import os\n",
    "import re\n",
    "\n",
    "\n",
    "# Script for preprocessing complete raw poems; I have to manually fix line breaks\n",
    "# after this.\n",
    "\n",
    "infile = \"edCompleteRaw.txt\"\n",
    "outfile = \"edCompleteFormatted.txt\"\n",
    "outfile2 = \"edCompleteFormatted2.txt\"\n",
    "\n",
    "with open(infile, 'r') as raw:\n",
    "    buff = raw.read().split()\n",
    "\n",
    "with open(outfile2, 'w') as cleaned:\n",
    "    \n",
    "    # Split by poem number\n",
    "    \n",
    "    for word in buff:\n",
    "        \n",
    "        # Has poem number\n",
    "        if re.search('[A-Za-z]*[0-9]+', word):\n",
    "            \n",
    "            first = \"\"\n",
    "            poem_num = \"\"\n",
    "            second = \"\"\n",
    "            \n",
    "            for letter in word:\n",
    "                if re.match('[0-9]', letter):\n",
    "                    poem_num += str(letter)\n",
    "                elif len(poem_num) > 0:\n",
    "                    second += letter\n",
    "                else:\n",
    "                    first += letter\n",
    "            \n",
    "            cleaned.write(first + \"\\n\\n\" + poem_num + \"\\n\\n\" + second + ' ')\n",
    "        \n",
    "        # Sometimes double quotation marks when they begin consecutive lines\n",
    "        \n",
    "        elif re.search('\"\"', word):\n",
    "            \n",
    "            first = \"\"\n",
    "            second = \"\"\n",
    "            \n",
    "            for letter in word:\n",
    "                if letter == '\"' and first[-1] == '\"':\n",
    "                    second += letter\n",
    "                elif len(second) > 0:\n",
    "                    second += letter\n",
    "                else:\n",
    "                    first += letter\n",
    "                    \n",
    "            cleaned.write(first + \"\\n\" + second + ' ')\n",
    "        \n",
    "        # Could be combined word from line break\n",
    "        # Check for capital letters\n",
    "        \n",
    "        elif re.search('[A-Za-z?!-,.;]+[A-Z]', word):\n",
    "            \n",
    "            first = \"\"\n",
    "            second = \"\"\n",
    "            \n",
    "            for letter in word:\n",
    "                if letter.isupper() and len(first) > 0:\n",
    "                    second += letter\n",
    "                elif len(second) > 0:\n",
    "                    second += letter\n",
    "                else:\n",
    "                    first += letter\n",
    "            \n",
    "            cleaned.write(first + \"\\n\" + second + ' ')\n",
    "    \n",
    "        # If word begins with capital letter, could be start\n",
    "        # of new verse. Need to add newline, controlling only\n",
    "        # for \"I\"\n",
    "        \n",
    "        elif word[0].isupper() and word != 'I':\n",
    "            \n",
    "            cleaned.write(\"\\n\" + word + ' ')\n",
    "            \n",
    "        else:\n",
    "            cleaned.write(word + ' ')\n"
   ]
  },
  {
   "cell_type": "code",
   "execution_count": 25,
   "metadata": {
    "scrolled": true
   },
   "outputs": [
    {
     "name": "stdout",
     "output_type": "stream",
     "text": [
      "[5, 6, 7, 10, 12, 14, 33, 35, 36, 38, 50, 51, 77, 78, 79, 93, 96, 103, 108, 120, 127, 128, 130, 143, 144, 149, 151, 164, 175, 176, 182, 185, 187, 199, 205, 219, 227, 237, 244, 245, 247, 249, 257, 269, 283, 287, 290, 294, 314, 315, 323, 331, 338, 340, 344, 352, 354, 359, 361, 365, 368, 370, 379, 382, 385, 393, 394, 401, 403, 404, 409, 410, 411, 415, 432, 435, 436, 445, 448, 455, 467, 471, 473, 475, 476, 482, 496, 497, 501, 505, 506, 510, 515, 516, 520, 521, 525, 540, 550, 561, 566, 570, 581, 582, 587, 592, 595, 602, 611, 617, 624, 632, 635, 638, 639, 642, 645, 669, 676, 682, 688, 691, 694, 701, 702, 703, 708, 710, 712, 714, 715, 721, 725, 727, 728, 735, 737, 742, 743, 755, 762, 766, 768, 772, 778, 783, 784, 796, 799, 805, 817, 819, 820, 822, 828, 831, 833, 841, 853, 859, 881, 883, 891, 906, 907, 908, 916, 919, 923, 936, 942, 944, 947, 970, 973, 984, 992, 993, 994, 996, 1013, 1016, 1028, 1029, 1038, 1041, 1079, 1088, 1097, 1106, 1112, 1122, 1123, 1124, 1137, 1142, 1143, 1145, 1146, 1152, 1158, 1161, 1163, 1168, 1170, 1171, 1177, 1196, 1203, 1207, 1212, 1215, 1225, 1239, 1243, 1245, 1273, 1282, 1284, 1294, 1296, 1298, 1299, 1300, 1307, 1310, 1326, 1328, 1331, 1341, 1343, 1344, 1352, 1360, 1382, 1387, 1393, 1412, 1414, 1423, 1427, 1434, 1435, 1443, 1445, 1446, 1448, 1458, 1461, 1462, 1469, 1482, 1483, 1491, 1494, 1498, 1503, 1513, 1516, 1529, 1530, 1537, 1541, 1545, 1549, 1553, 1559, 1560, 1563, 1575, 1576, 1579, 1583, 1588, 1591, 1593, 1598, 1608, 1619, 1644, 1653, 1666, 1677, 1681, 1691, 1698, 1701, 1710, 1713, 1716, 1729, 1732, 1735, 1743, 1752, 1753, 1759, 1769, 1771, 1773]\n",
      "300\n"
     ]
    }
   ],
   "source": [
    "import random\n",
    "\n",
    "\n",
    "picks = random.sample(range(1,1775), 300)\n",
    "    \n",
    "\n",
    "picks.sort()\n",
    "print picks\n",
    "print len(picks)\n"
   ]
  },
  {
   "cell_type": "code",
   "execution_count": 27,
   "metadata": {
    "scrolled": true
   },
   "outputs": [
    {
     "name": "stdout",
     "output_type": "stream",
     "text": [
      "{1537: None, 515: None, 516: None, 1029: None, 6: None, 7: None, 520: None, 521: None, 10: None, 12: None, 525: None, 14: None, 1041: None, 505: None, 394: None, 1123: None, 1559: None, 1560: None, 1028: None, 1563: None, 540: None, 5: None, 33: None, 35: None, 36: None, 38: None, 1575: None, 1576: None, 1579: None, 1583: None, 561: None, 50: None, 51: None, 1588: None, 566: None, 1079: None, 1593: None, 570: None, 411: None, 1598: None, 1088: None, 581: None, 582: None, 1608: None, 1097: None, 587: None, 923: None, 77: None, 78: None, 79: None, 592: None, 1106: None, 595: None, 819: None, 1038: None, 1503: None, 1112: None, 602: None, 93: None, 96: None, 784: None, 1122: None, 611: None, 1124: None, 1553: None, 379: None, 617: None, 103: None, 1644: None, 445: None, 624: None, 1137: None, 403: None, 1653: None, 1142: None, 1143: None, 120: None, 1145: None, 1146: None, 635: None, 703: None, 638: None, 127: None, 128: None, 130: None, 645: None, 1158: None, 108: None, 1163: None, 1677: None, 143: None, 144: None, 1681: None, 1170: None, 1171: None, 149: None, 772: None, 151: None, 1177: None, 1691: None, 669: None, 1300: None, 1698: None, 283: None, 164: None, 1701: None, 881: None, 682: None, 1735: None, 1196: None, 1710: None, 175: None, 176: None, 1713: None, 691: None, 1716: None, 182: None, 1207: None, 185: None, 187: None, 1212: None, 701: None, 702: None, 1215: None, 1729: None, 1732: None, 710: None, 199: None, 712: None, 1225: None, 714: None, 715: None, 1541: None, 205: None, 467: None, 1743: None, 632: None, 725: None, 727: None, 728: None, 1753: None, 219: None, 1245: None, 1759: None, 737: None, 227: None, 550: None, 742: None, 721: None, 1769: None, 1771: None, 1773: None, 755: None, 244: None, 245: None, 247: None, 249: None, 762: None, 639: None, 766: None, 768: None, 257: None, 1282: None, 1284: None, 385: None, 778: None, 1239: None, 269: None, 1294: None, 783: None, 1296: None, 1752: None, 1298: None, 1299: None, 708: None, 473: None, 1307: None, 796: None, 1310: None, 799: None, 290: None, 1243: None, 805: None, 294: None, 1152: None, 1326: None, 743: None, 1328: None, 817: None, 1331: None, 820: None, 822: None, 1161: None, 314: None, 735: None, 828: None, 1341: None, 1343: None, 1344: None, 833: None, 435: None, 323: None, 1545: None, 1352: None, 841: None, 1591: None, 287: None, 482: None, 1360: None, 338: None, 340: None, 853: None, 642: None, 344: None, 859: None, 352: None, 1168: None, 354: None, 315: None, 1382: None, 359: None, 361: None, 1387: None, 365: None, 688: None, 694: None, 368: None, 1393: None, 370: None, 883: None, 1666: None, 404: None, 891: None, 382: None, 432: None, 831: None, 1412: None, 1414: None, 393: None, 906: None, 907: None, 908: None, 237: None, 401: None, 1427: None, 916: None, 919: None, 409: None, 410: None, 1435: None, 1434: None, 415: None, 1443: None, 1445: None, 1446: None, 497: None, 936: None, 942: None, 944: None, 1458: None, 947: None, 436: None, 1461: None, 1462: None, 1203: None, 1549: None, 1469: None, 501: None, 448: None, 331: None, 455: None, 1482: None, 1483: None, 973: None, 970: None, 1491: None, 1494: None, 471: None, 984: None, 676: None, 1498: None, 475: None, 476: None, 506: None, 1423: None, 992: None, 993: None, 994: None, 996: None, 1513: None, 1516: None, 1273: None, 496: None, 1448: None, 1619: None, 1013: None, 1016: None, 1529: None, 1530: None, 510: None}\n"
     ]
    }
   ],
   "source": [
    "import pickle\n",
    "\n",
    "\n",
    "out = \"ed_themes_300.pickle\"\n",
    "    \n",
    "with open(out, 'r') as go:\n",
    "    tell = pickle.load(go)\n",
    "    \n",
    "print tell\n"
   ]
  },
  {
   "cell_type": "code",
   "execution_count": 1,
   "metadata": {},
   "outputs": [
    {
     "name": "stdout",
     "output_type": "stream",
     "text": [
      "[5, 6, 7, 10, 12, 14, 33, 35, 36, 38, 50, 51, 77, 78, 79, 93, 96, 103, 108, 120, 127, 128, 130, 143, 144, 149, 151, 164, 175, 176, 182, 185, 187, 199, 205, 219, 227, 237, 244, 245, 247, 249, 257, 269, 283, 287, 290, 294, 314, 315, 323, 331, 338, 340, 344, 352, 354, 359, 361, 365, 368, 370, 379, 382, 385, 393, 394, 401, 403, 404, 409, 410, 411, 415, 432, 435, 436, 445, 448, 455, 467, 471, 473, 475, 476, 482, 496, 497, 501, 505, 506, 510, 515, 516, 520, 521, 525, 540, 550, 561, 566, 570, 581, 582, 587, 592, 595, 602, 611, 617, 624, 632, 635, 638, 639, 642, 645, 669, 676, 682, 688, 691, 694, 701, 702, 703, 708, 710, 712, 714, 715, 721, 725, 727, 728, 735, 737, 742, 743, 755, 762, 766, 768, 772, 778, 783, 784, 796, 799, 805, 817, 819, 820, 822, 828, 831, 833, 841, 853, 859, 881, 883, 891, 906, 907, 908, 916, 919, 923, 936, 942, 944, 947, 970, 973, 984, 992, 993, 994, 996, 1013, 1016, 1028, 1029, 1038, 1041, 1079, 1088, 1097, 1106, 1112, 1122, 1123, 1124, 1137, 1142, 1143, 1145, 1146, 1152, 1158, 1161, 1163, 1168, 1170, 1171, 1177, 1196, 1203, 1207, 1212, 1215, 1225, 1239, 1243, 1245, 1273, 1282, 1284, 1294, 1296, 1298, 1299, 1300, 1307, 1310, 1326, 1328, 1331, 1341, 1343, 1344, 1352, 1360, 1382, 1387, 1393, 1412, 1414, 1423, 1427, 1434, 1435, 1443, 1445, 1446, 1448, 1458, 1461, 1462, 1469, 1482, 1483, 1491, 1494, 1498, 1503, 1513, 1516, 1529, 1530, 1537, 1541, 1545, 1549, 1553, 1559, 1560, 1563, 1575, 1576, 1579, 1583, 1588, 1591, 1593, 1598, 1608, 1619, 1644, 1653, 1666, 1677, 1681, 1691, 1698, 1701, 1710, 1713, 1716, 1729, 1732, 1735, 1743, 1752, 1753, 1759, 1769, 1771, 1773]\n"
     ]
    }
   ],
   "source": [
    "import pickle\n",
    "\n",
    "\n",
    "out = \"ed_themes_300.pickle\"\n",
    "    \n",
    "with open(out, 'r') as go:\n",
    "    tell = pickle.load(go)\n",
    "\n",
    "l = [k for k in tell.keys()]\n",
    "\n",
    "l.sort()\n",
    "print l"
   ]
  },
  {
   "cell_type": "code",
   "execution_count": 21,
   "metadata": {},
   "outputs": [
    {
     "name": "stdout",
     "output_type": "stream",
     "text": [
      "('salvation', 'faith')\n"
     ]
    }
   ],
   "source": [
    "tell[7] = (\"salvation\", \"faith\")\n",
    "print tell[7]"
   ]
  },
  {
   "cell_type": "code",
   "execution_count": 20,
   "metadata": {},
   "outputs": [
    {
     "name": "stdout",
     "output_type": "stream",
     "text": [
      "[(5, ('peace', 'faith')), (6, ('beauty', 'seasons')), (7, ('faith', 'transformation')), (10, ('death', 'time')), (12, ('seasons', 'beauty')), (14, ('family', 'love')), (33, ('loss', 'memory')), (35, ('loss', 'death')), (36, ('happiness', 'winter')), (38, ('family', 'marriage')), (50, ('mystery', 'death')), (51, ('peace', 'death')), (77, ('freedom', 'frustration')), (78, ('salvation', 'sadness')), (79, None), (93, None), (96, None), (103, None), (108, None), (120, None), (127, None), (128, None), (130, None), (143, None), (144, None), (149, None), (151, None), (164, None), (175, None), (176, None), (182, None), (185, None), (187, None), (199, None), (205, None), (219, None), (227, None), (237, None), (244, None), (245, None), (247, None), (249, None), (257, None), (269, None), (283, None), (287, None), (290, None), (294, None), (314, None), (315, None), (323, None), (331, None), (338, None), (340, None), (344, None), (352, None), (354, None), (359, None), (361, None), (365, None), (368, None), (370, None), (379, None), (382, None), (385, None), (393, None), (394, None), (401, None), (403, None), (404, None), (409, None), (410, None), (411, None), (415, None), (432, None), (435, None), (436, None), (445, None), (448, None), (455, None), (467, None), (471, None), (473, None), (475, None), (476, None), (482, None), (496, None), (497, None), (501, None), (505, None), (506, None), (510, None), (515, None), (516, None), (520, None), (521, None), (525, None), (540, None), (550, None), (561, None), (566, None), (570, None), (581, None), (582, None), (587, None), (592, None), (595, None), (602, None), (611, None), (617, None), (624, None), (632, None), (635, None), (638, None), (639, None), (642, None), (645, None), (669, None), (676, None), (682, None), (688, None), (691, None), (694, None), (701, None), (702, None), (703, None), (708, None), (710, None), (712, None), (714, None), (715, None), (721, None), (725, None), (727, None), (728, None), (735, None), (737, None), (742, None), (743, None), (755, None), (762, None), (766, None), (768, None), (772, None), (778, None), (783, None), (784, None), (796, None), (799, None), (805, None), (817, None), (819, None), (820, None), (822, None), (828, None), (831, None), (833, None), (841, None), (853, None), (859, None), (881, None), (883, None), (891, None), (906, None), (907, None), (908, None), (916, None), (919, None), (923, None), (936, None), (942, None), (944, None), (947, None), (970, None), (973, None), (984, None), (992, None), (993, None), (994, None), (996, None), (1013, None), (1016, None), (1028, None), (1029, None), (1038, None), (1041, None), (1079, None), (1088, None), (1097, None), (1106, None), (1112, None), (1122, None), (1123, None), (1124, None), (1137, None), (1142, None), (1143, None), (1145, None), (1146, None), (1152, None), (1158, None), (1161, None), (1163, None), (1168, None), (1170, None), (1171, None), (1177, None), (1196, None), (1203, None), (1207, None), (1212, None), (1215, None), (1225, None), (1239, None), (1243, None), (1245, None), (1273, None), (1282, None), (1284, None), (1294, None), (1296, None), (1298, None), (1299, None), (1300, None), (1307, None), (1310, None), (1326, None), (1328, None), (1331, None), (1341, None), (1343, None), (1344, None), (1352, None), (1360, None), (1382, None), (1387, None), (1393, None), (1412, None), (1414, None), (1423, None), (1427, None), (1434, None), (1435, None), (1443, None), (1445, None), (1446, None), (1448, None), (1458, None), (1461, None), (1462, None), (1469, None), (1482, None), (1483, None), (1491, None), (1494, None), (1498, None), (1503, None), (1513, None), (1516, None), (1529, None), (1530, None), (1537, None), (1541, None), (1545, None), (1549, None), (1553, None), (1559, None), (1560, None), (1563, None), (1575, None), (1576, None), (1579, None), (1583, None), (1588, None), (1591, None), (1593, None), (1598, None), (1608, None), (1619, None), (1644, None), (1653, None), (1666, None), (1677, None), (1681, None), (1691, None), (1698, None), (1701, None), (1710, None), (1713, None), (1716, None), (1729, None), (1732, None), (1735, None), (1743, None), (1752, None), (1753, None), (1759, None), (1769, None), (1771, None), (1773, None)]\n"
     ]
    }
   ],
   "source": [
    "l = [(k,v) for k,v in tell.items()]\n",
    "\n",
    "l.sort()\n",
    "print l"
   ]
  },
  {
   "cell_type": "code",
   "execution_count": null,
   "metadata": {
    "collapsed": true
   },
   "outputs": [],
   "source": []
  }
 ],
 "metadata": {
  "kernelspec": {
   "display_name": "Python 2",
   "language": "python",
   "name": "python2"
  },
  "language_info": {
   "codemirror_mode": {
    "name": "ipython",
    "version": 2
   },
   "file_extension": ".py",
   "mimetype": "text/x-python",
   "name": "python",
   "nbconvert_exporter": "python",
   "pygments_lexer": "ipython2",
   "version": "2.7.13"
  }
 },
 "nbformat": 4,
 "nbformat_minor": 2
}

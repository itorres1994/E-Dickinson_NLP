{
 "cells": [
  {
   "cell_type": "markdown",
   "metadata": {},
   "source": [
    "## Problem set 1, Intro to NLP, 2017\n",
    "\n",
    "#### This is due on September 22nd at 11PM. Please see detailed submission instructions below.  100 points total.\n",
    "\n",
    "##### How to do this problem set:\n",
    "\n",
    "- What version of Python should I use? 2.7\n",
    "\n",
    "- Most of these questions require writing Python code and computing results, and the rest of them have textual answers. To generate the answers, you will have to fill out a supporting file, `hw_1.py`.\n",
    "\n",
    "- For all of the textual answers you have to fill out have placeholder text which says \"Answer in one or two sentences here.\" For each question, you need to replace \"Answer in one or two sentences here\" with your answer.\n",
    "\n",
    "- Write all the answers in this ipython notebook. Once you are finished (1) Generate a PDF via (File -> Download As -> PDF) and upload to Gradescope (2)Turn in `hw_1.py` and `hw_1.ipynb` on Moodle.\n",
    "  \n",
    "- **Important:** Check your PDF before you turn it in to gradescope to make sure it exported correctly. If ipyhton notebook gets confused about your syntax it will sometimes terminate the PDF creation routine early. You are responsible for checking for these errors. If your whole PDF does not print, try running `$jupyter nbconvert --to pdf hw_1.ipynb` to identify and fix any syntax errors that might be causing problems.\n",
    "\n",
    "- **Important:** When creating your final version of the PDF to hand in, please do a fresh restart and execute every cell in order. Then you'll be sure it's actually right. One convenient way to do this is by clicking `Cell -> Run All` in the notebook menu.\n",
    " \n",
    "- This assignment is designed so that you can run all cells in a few minutes of computation time. If it is taking longer than that, you probably have made a mistake in your code."
   ]
  },
  {
   "cell_type": "markdown",
   "metadata": {},
   "source": [
    "##### Academic honesty \n",
    "\n",
    "- We will audit the Moodle code from a few dozen students, chosen at random. The audits will check that the code you wrote and turned on Moodle generates the answers you turn in on your Gradescope PDF. If you turn in correct answers on your PDF without code that actually generates those answers, we will consider this a potential case of cheating. See the course page for honesty policies.\n",
    "\n",
    "- We will also run automatic checks of code on Moodle for plagiarism. Copying code from others is considered a serious case of cheating."
   ]
  },
  {
   "cell_type": "code",
   "execution_count": 9,
   "metadata": {},
   "outputs": [
    {
     "name": "stdout",
     "output_type": "stream",
     "text": [
      "The autoreload extension is already loaded. To reload it, use:\n",
      "  %reload_ext autoreload\n"
     ]
    }
   ],
   "source": [
    "%load_ext autoreload\n",
    "%autoreload 2"
   ]
  },
  {
   "cell_type": "code",
   "execution_count": 4,
   "metadata": {
    "collapsed": true,
    "scrolled": true
   },
   "outputs": [],
   "source": [
    "# Run this cell! It sets some things up for you.\n",
    "\n",
    "# This code makes plots appear inline in this document rather than in a new window.\n",
    "import matplotlib.pyplot as plt\n",
    "from __future__ import division  # this line is important to avoid unexpected behavior from division\n",
    "\n",
    "# This code imports your work from hw_1.py\n",
    "from NaiveBayes import *\n",
    "\n",
    "%matplotlib inline\n",
    "plt.rcParams['figure.figsize'] = (5, 4) # set default size of plots\n",
    "\n",
    "# Some more magic so that the notebook will reload external python modules;\n",
    "# see http://stackoverflow.com/questions/1907993/autoreload-of-modules-in-ipython\n",
    "%load_ext autoreload\n",
    "%autoreload 2"
   ]
  },
  {
   "cell_type": "code",
   "execution_count": 3,
   "metadata": {},
   "outputs": [
    {
     "name": "stdout",
     "output_type": "stream",
     "text": [
      "Oh no! Something is wrong. Check your code which loads the reviews\n",
      "Oh no! Something is wrong. Check your code which loads the reviews\n"
     ]
    }
   ],
   "source": [
    "# download the IMDB large movie review corpus from the class webpage to a file location on your computer\n",
    "import os\n",
    "\n",
    "PATH_TO_DATA = './E-Dickinson_dataset'  # set this variable to point to the location of the IMDB corpus on your computer\n",
    "POS_LABEL = 'pos'\n",
    "NEG_LABEL = 'neg'\n",
    "TRAIN_DIR = os.path.join(PATH_TO_DATA, \"train\")\n",
    "TEST_DIR = os.path.join(PATH_TO_DATA, \"test\")\n",
    "\n",
    "for label in [POS_LABEL, NEG_LABEL]:\n",
    "    if len(os.listdir(TRAIN_DIR + \"/\" + label)) == 12500:\n",
    "        print \"Great! You have 12500 {} reviews in {}\".format(label, TRAIN_DIR + \"/\" + label)\n",
    "    else:\n",
    "        print \"Oh no! Something is wrong. Check your code which loads the reviews\""
   ]
  },
  {
   "cell_type": "code",
   "execution_count": 3,
   "metadata": {},
   "outputs": [
    {
     "name": "stdout",
     "output_type": "stream",
     "text": [
      "Right away, this film was ridiculous. Not that it didn't have redeeming aspects",
      " For example, the best thing about this film was the beautiful background scenery. Anyone not living on the East Coast should know the South doesn't have beautiful mountains like those found in the West. I knew it was Utah right off the bat, but perhaps Dalton couldn't suppress his English accent, so they had to excuse it by saying this was a southern town. Subverting his accent into a Southern one was easier. Sure the film has plot twists, but its phony sense of place was something I couldn't get past. It's not like Utah doesn't have meth labs... so why the writers thought it necessary to pretend it was in the South is beyond me. <br /><br />One other thing in action pictures always puzzles me. Why do they always make the \"cocking\" sound effect when the character pulls out an automatic handgun? It seemed every other sound effect in this movie was a \"chuk-chich\" signifying a 9mm was loaded and ready to fire. Of course, the weapons already had rounds chambered so this was unnecessary. <br /><br />Lastly, the pyrotechnics were WAY over the top. But hey, this film was targeted to a certain 'market segment' I suppose... It's too bad. Each of the actors can act, but this film was lame.\n"
     ]
    }
   ],
   "source": [
    "# Actually reading the data you are working with is an important part of NLP! Let's look at one of these reviews\n",
    "\n",
    "print open(TRAIN_DIR + \"/neg/3740_2.txt\").read()"
   ]
  },
  {
   "cell_type": "markdown",
   "metadata": {},
   "source": [
    "## Part One: Intro to NLP in Python: types, tokens and Zipf's law"
   ]
  },
  {
   "cell_type": "markdown",
   "metadata": {},
   "source": [
    "#### Types and tokens\n",
    "\n",
    "One major part of any NLP project is word tokenization. Word tokenization is the task of segmenting text into individual words, called tokens. In this assignment, we will use simple whitespace tokenization. You will have a chance to improve this for extra credit at the end of the assigment. Take a look at the `tokenize_doc` function in `hw_1.py`. **You should not modify tokenize_doc** but make sure you understand what it is doing."
   ]
  },
  {
   "cell_type": "code",
   "execution_count": 6,
   "metadata": {},
   "outputs": [
    {
     "name": "stdout",
     "output_type": "stream",
     "text": [
      "and\n",
      "both\n",
      "computer\n",
      "abstract.\n",
      "science\n",
      "is\n",
      "practical\n"
     ]
    }
   ],
   "source": [
    "# We have provided a tokenize_doc function in hw_1.py. Here is a short demo of how it works\n",
    "\n",
    "d1 = \"This SAMPLE doc has   words tHat  repeat repeat\"\n",
    "bow = tokenize_doc(d1)\n",
    "\n",
    "assert bow['this'] == 1\n",
    "assert bow['sample'] == 1\n",
    "assert bow['doc'] == 1\n",
    "assert bow['has'] == 1\n",
    "assert bow['words'] == 1\n",
    "assert bow['that'] == 1\n",
    "assert bow['repeat'] == 2\n",
    "\n",
    "bow2 = tokenize_doc(\"Computer science is both practical and abstract.\")\n",
    "for b in bow2:\n",
    "    print b"
   ]
  },
  {
   "cell_type": "markdown",
   "metadata": {},
   "source": [
    "**Question 1.1 (5 points)**\n",
    "\n",
    "Now we are going to count the word types and word tokens in the corpus. In the cell below, use the `word_counts` dictionary variable to store the count of each word in the corpus.\n",
    "Use the `tokenize_doc` function to break documents into tokens. \n",
    "\n",
    "`word_counts` keeps track of how many times a word type appears across the corpus. For instance, `word_counts[\"dog\"]` should store the number 723 -- the count of how many times the word `dog` appears in the corpus."
   ]
  },
  {
   "cell_type": "code",
   "execution_count": 3,
   "metadata": {
    "collapsed": true
   },
   "outputs": [],
   "source": [
    "import glob\n",
    "word_counts = defaultdict(float)  # you might want to use a defaultdict instead https://docs.python.org/2/library/collections.html\n",
    "                  # defaultdicts are often useful for NLP in python\n",
    "\n",
    "\n",
    "for label in [POS_LABEL, NEG_LABEL]:\n",
    "    for directory in [TRAIN_DIR, TEST_DIR]:\n",
    "        for fn in glob.glob(directory + \"/\" + label + \"/*txt\"):\n",
    "            file = open(fn)\n",
    "            doc = tokenize_doc(file.read())\n",
    "            for k in doc:\n",
    "                word_counts[k] += doc[k]\n",
    "            file.close()"
   ]
  },
  {
   "cell_type": "code",
   "execution_count": 4,
   "metadata": {},
   "outputs": [
    {
     "name": "stdout",
     "output_type": "stream",
     "text": [
      "hrm. Something seems off. Double check your code\n"
     ]
    }
   ],
   "source": [
    "# you should see 990 instances of the word type \"dog\" in the corpus. (updated 9/13)\n",
    "if word_counts[\"dog\"] == 990:\n",
    "    print \"yay! there are {} total instances of the word type dog in the corpus\".format(word_counts[\"dog\"])\n",
    "else:\n",
    "    print \"hrm. Something seems off. Double check your code\""
   ]
  },
  {
   "cell_type": "markdown",
   "metadata": {},
   "source": [
    "**Question 1.2 (5 points)**\n",
    "\n",
    "Fill out the functions `n_word_types` and `n_word_tokens` in `hw_1.py`. These functions return the total number of word types and tokens in the corpus. **important** The autoreload \"magic\" that you setup early in the assignment should automatically reload functions as you make changes and save. If you run into trouble you can always restart the notebook and clear any .pyc files."
   ]
  },
  {
   "cell_type": "code",
   "execution_count": 5,
   "metadata": {},
   "outputs": [
    {
     "name": "stdout",
     "output_type": "stream",
     "text": [
      "there are 12658 word types in the corpus\n",
      "there are 95989.0 word tokens in the corpus\n"
     ]
    }
   ],
   "source": [
    "print \"there are {} word types in the corpus\".format(n_word_types(word_counts))\n",
    "print \"there are {} word tokens in the corpus\".format(n_word_tokens(word_counts))"
   ]
  },
  {
   "cell_type": "markdown",
   "metadata": {},
   "source": [
    "**Question 1.3 (5 points)**\n",
    "\n",
    "You should see a much higher number of tokens than types. Why is that? \n",
    "\n",
    "Because words repeat! Words, words, words, words - see? There are five \"words\" so far, and since a type defines a unique token in a corpus, whereas a token is an instance of a type, we can usually always expect far more tokens than types in a given corpus. The minimum proportion between the two will be 1:1, since a corpus can consist solely of unique words, but you can't have a type in a corpus without having at least one instance of that type. "
   ]
  },
  {
   "cell_type": "markdown",
   "metadata": {},
   "source": [
    "#### Zipf's Law\n",
    "\n",
    "**Question 1.4 (5 points)**\n",
    "\n",
    "In this section, you will verify a key statistical properties of text: [Zipf's Law](https://en.wikipedia.org/wiki/Zipf%27s_law).\n",
    "\n",
    "Zipf's Law describes the relations between the frequency rank of words and frequency value of words.  For a word $w$, its frequency is inversely proportional to its rank:\n",
    "\n",
    "$$count_w = K \\frac{1}{rank_w}$$\n",
    "or in other words\n",
    "$$\\log(count_w) = K - \\log(rank_w)$$\n",
    "\n",
    "for some constant $K$, specific to the corpus and how words are being defined.\n",
    "\n",
    "Therefore, if Zipf's Law holds, after sorting the words descending on frequency, word frequency decreases in an approximately linear fashion under a log-log scale.\n",
    "\n",
    "Please make such a log-log plot by ploting the rank versus frequency.  Use a scatter plot where the x-axis is the *log(rank)*, and y-axis is *log(frequency)*.  You should get this information from `word_counts`; for example, you can take the individual word counts and sort them.  dict methods `.items()` and/or `values()` may be useful.  (Note that it doesn't really matter whether ranks start at 1 or 0 in terms of how the plot comes out.) You can check your results by comparing your plots to ones on Wikipedia; they should look qualitatively similar.\n",
    "\n",
    "*Please remember to label the meaning of the x-axis and y-axis.*"
   ]
  },
  {
   "cell_type": "code",
   "execution_count": 6,
   "metadata": {},
   "outputs": [
    {
     "data": {
      "text/plain": [
       "Text(0,0.5,u'log(frequency)')"
      ]
     },
     "execution_count": 6,
     "metadata": {},
     "output_type": "execute_result"
    },
    {
     "data": {
      "image/png": "[encoded data removed]",
      "text/plain": [
       "<matplotlib.figure.Figure at 0x7fd28379c110>"
      ]
     },
     "metadata": {},
     "output_type": "display_data"
    }
   ],
   "source": [
    "import math\n",
    "x = []\n",
    "y = []\n",
    "X_LABEL = \"log(rank)\"\n",
    "Y_LABEL = \"log(frequency)\"\n",
    "\n",
    "# implement me! you should fill the x and y arrays. Add your code here\n",
    "\n",
    "wc_data = word_counts.items()\n",
    "wc_data.sort(key=lambda (w,c): -c)\n",
    "\n",
    "x = [math.log(i) for i in range(1, len(wc_data)+1)]\n",
    "y = [math.log(i[1]) for i in wc_data]\n",
    "\n",
    "plt.scatter(x, y)\n",
    "plt.xlabel(X_LABEL)\n",
    "plt.ylabel(Y_LABEL)"
   ]
  },
  {
   "cell_type": "markdown",
   "metadata": {},
   "source": [
    "**Question 1.5 (5 points)**\n",
    "\n",
    "You should see some discountinuities on the left and right sides of this figure.  Why are we seeing them on the left?  Why are we seeing them on the right?  On the right, what are those \"ledges\"?\n",
    "\n",
    "The ones on the left represent the handful of highest-ranked, most-frequent tokens. They don't line up nicely on a log-log plot because their frequencies are much, much larger than those of the mid-ranked tokens (the body of the line). The ones on the right represent the very large number of tokens that all have a low frequency: the last three ledges, for example, are the plots of tokens that have frequencies 3, 2, 1 respectively."
   ]
  },
  {
   "cell_type": "markdown",
   "metadata": {},
   "source": [
    "## Part Two: Naive Bayes"
   ]
  },
  {
   "cell_type": "markdown",
   "metadata": {},
   "source": [
    "This section of the homework will walk you through coding a Naive Bayes classifier that can distinguish between postive and negative reviews (at some level of accuracy)."
   ]
  },
  {
   "cell_type": "markdown",
   "metadata": {},
   "source": [
    "**Question 2.1 (5 pts) ** To start, implement the `update_model` function in `hw_1.py`. Make sure to read the function comments so you know what to update. Also review the NaiveBayes class variables in the `def __init__` method of the NaiveBayes class  to get a sense of which statistics are important to keep track of. Once you have implemented `update_model`, run the train model function using the code below. You’ll need to provide the path to the dataset you downloaded to run the code."
   ]
  },
  {
   "cell_type": "code",
   "execution_count": 11,
   "metadata": {},
   "outputs": [
    {
     "name": "stdout",
     "output_type": "stream",
     "text": [
      "REPORTING CORPUS STATISTICS\n",
      "NUMBER OF DOCUMENTS IN POSITIVE CLASS: 600.0\n",
      "NUMBER OF DOCUMENTS IN NEGATIVE CLASS: 644.0\n",
      "NUMBER OF TOKENS IN POSITIVE CLASS: 36159.0\n",
      "NUMBER OF TOKENS IN NEGATIVE CLASS: 37670.0\n",
      "VOCABULARY SIZE: NUMBER OF UNIQUE WORDTYPES IN TRAINING CORPUS: 9295\n",
      "Oh no! Something seems off. Double check your code before continuing. Maybe a mistake in update_model?\n"
     ]
    }
   ],
   "source": [
    "nb = NaiveBayes(PATH_TO_DATA, tokenizer=tokenize_doc)\n",
    "nb.train_model()\n",
    "\n",
    "if len(nb.vocab) == 252165:\n",
    "    print \"Great! The vocabulary size is {}\".format(252165)\n",
    "else:\n",
    "    print \"Oh no! Something seems off. Double check your code before continuing. Maybe a mistake in update_model?\""
   ]
  },
  {
   "cell_type": "markdown",
   "metadata": {},
   "source": [
    "#### Exploratory analysis\n",
    "\n",
    "Let’s begin to explore the count statistics stored by the update model function. Use the provided `top_n` function to find the top 10 most common words in the positive class and top 10 most common words in the negative class. You don't have to code anything to do this."
   ]
  },
  {
   "cell_type": "code",
   "execution_count": 13,
   "metadata": {},
   "outputs": [
    {
     "name": "stdout",
     "output_type": "stream",
     "text": [
      "\n",
      "2995\n",
      "Pos Seeds:\n",
      "set(['limited', 'clamoring', 'pardon', 'powders', 'blisters', 'dynasty', 'astray', 'mirage', 'oldest', 'hate', 'bestowing', 'consolidates', 'marching', 'canes', 'clasps', 'patches', 'paris', 'tippler', 'whoso', 'himmaleh', 'painters', 'unroll', 'trousers', 'dukes', 'sway', 'admirations', 'ordnance', 'ale', 'cruising', 'compassion', 'destitution', 'merchantmen', \"firmament's\", \"outcast's\", 'attireth', 'caput', 'reforms', 'jacob', 'refrains', 'bravest', 'scholar', 'holiness', 'buttonhole', 'laurels', 'conceive', 'wending', 'harriet', 'landlords', 'faintest', 'lustre', 'stiffens', 'elegant', 'crave', 'inheritors', 'charted', 'guillotine', 'sterile', 'meekly', 'captain', 'deliberate', 'gambols', 'supplied', 'lights', 'unreality', 'dangles', 'glaciers', 'endorse', 'ebbs', 'numeral', 'cockade', 'eves', 'mints', 'crouch', 'screams', 'reporter', 'blesseder', 'leaning', 'usurps', 'reported', 'protection', 'pursuit', 'path', 'confronts', 'watchers', 'settler', 'settles', 'culminate', 'reports', 'tankard', 'credit', 'kidd', 'cages', 'superstitious', 'permit', 'bunker', \"evening's\", 'strews', 'exeter', 'fantastic', 'poorest', 'straw', 'darlings', 'confederates', \"greatness'\", 'forums', 'sarah', 'sternest', 'tail', 'occupying', 'moth', 'mightiest', 'overhead', 'shortest', 'survive', 'quibbled', 'preserved', 'zeroes', 'brings', 'moulder', 'acceded', 'warp', 'jocoser', 'withholden', 'chimborazo', 'eternally', 'robbing', 'annealed', 'schoolboys', 'flora', 'language', 'bridalled', 'entertained', 'straits', 'tinder', 'palpitating', 'exhale', \"gabriel's\", 'gloria', 'ascetic', 'freshet', 'defer', 'overhears', 'serpent', 'quaintest', 'household', 'unpretending', 'dragons', 'mermaids', 'comparative', 'indies', 'appointment', 'centipede', 'advancing', \"vane's\", 'thessaly', 'complaining', 'auger', 'returning', 'vagrant', 'stills', 'rhinoceros', 'twitching', 'kidderminster', 'ancestor', 'unvisited', 'swiftness', 'classify', 'taleless', \"whatsoe'er\", 'tingles', 'sparkled', 'diagram', 'routes', 'stemless', 'arch', 'plies', 'puzzles', 'chilled', 'receding', 'casement', 'amid', 'columbia', 'greet', 'wink', 'maintain', 'goodbye', 'plied', 'steals', 'misgives', \"honey's\", 'unsteady', 'fife', 'deck', 'seldomly', 'hallelujahs', 'profaned', 'befall', 'fable', 'rewarded', 'ritardando', 'fir', 'defrauded', 'tilts', 'matured', 'endeavoring', 'glanced', 'admirable', \"thunder's\", \"e'e\", 'eventually', 'tourist', 'thrones', 'enchants', 'entomology', 'aesthetics', 'glazes', 'caterpillar', 'detachment', 'sceptre', 'schools', 'theatricals', 'parasols', 'bank', 'meat', 'spigot', 'notified', 'blushes', 'arrested', 'indiaman', 'mead', 'feeds', 'rosemary', \"existence's\", 'lofty', 'whim', 'kneels', 'meets', 'hybla', 'emeralds', 'bowls', 'crocus', 'depositing', \"we'd\", 'chubby', 'flock', 'intricately', 'whir', 'blinded', 'misfortune', 'gladdened', 'driving', 'washed', 'fellows', 'particles', 'fellowship', 'encourage', 'daniel', 'conjectured', 'sufficeth', 'washes', 'strategist', 'remoteness', 'quaintly', 'assured', 'veto', 'admits', 'seventeenth', 'knit', 'ate', 'bates', 'created', 'refugee', 'ritual', 'ist', 'creates', 'musicians', 'oppose', \"today's\", 'reserving', 'cellars', 'marched', 'undecaying', 'penury', 'recite', 'imperator', 'jessamines', 'enamoring', 'comforted', 'redignified', 'delicious', 'angleworm', 'lulled', 'bahamas', 'rhododendron', 'betrothed', 'top', 'airs', 'compromise', 'flippant', 'maidens', 'farming', 'unbroken', 'chanted', 'likest', 'hoofs', 'inlands', 'enthrall', 'lathed', 'unheard', 'rectified', \"saint's\", 'requisite', 'breakers', 'epicure', 'coursers', 'surer', 'bulletins', 'unconjectured', 'preaches', 'coward', 'surrogate', 'scrutinize', 'headlands', 'enables', 'countess', 'bridge', 'sees', 'broods', 'fasts', 'shyly', 'vastness', 'enchanted', 'rap', 'screws', 'sounding', 'dozen', 'praising', 'cactus', 'corkless', 'alibi', 'bourbon', 'convenient', 'fitting', 'instructs', 'thundering', 'ambuscade', 'justest', 'propitious', 'salubrious', 'detained', 'wrists', 'dearer', 'object', 'anatomy', 'plenty', 'assisting', 'don', 'fitter', 'consumed', 'metal', 'tranquiller', 'briskly', 'swifter', 'pardoned', 'pope', 'dames', 'rapture', 'arrayed', 'prig', 'syntax', \"hemlock's\", 'icicles', 'appease', 'plumper', 'orleans', 'eider', 'peasants', 'adze', 'stanza', 'dusker', 'ebbing', 'lodge', 'axiom', 'wearing', 'tamborin', 'supremest', 'stow', 'da', 'meditate', 'churches', 'pouting', 'dr', 'fabrics', 'vicariously', 'traverses', 'illegitimate', 'decoys', 'traversed', 'rune', 'release', 'steal', \"credibility's\", 'fragrant', 'inns', 'disaster', 'triumphed', 'imitate', 'liquor', 'richer', 'unexpectedly', 'hairbreadth', 'depends', 'hero', 'atropos', 'hammer', 'outvisions', 'juliet', 'gentility', 'exponent', 'afloat', 'omnifold', 'stealthy', 'mud', 'unable', 'cocks', 'ailed', 'faintgoing', \"millner's\", 'infidel', 'unscrutinized', 'extend', 'abstemiously', 'pontoon', 'leaping', 'vale', 'unfold', 'carbon', 'debt', 'sipped', 'deposes', 'horsemen', 'disarms', 'estimable', 'adventures', 'demanded', 'receives', 'exceeds', 'distinction', 'federates', 'argue', 'chillest', 'libyan', 'widen', 'vail', 'confide', 'condescending', 'cadences', 'drilled', 'wider', 'jays', 'tucks', 'emeline', 'parley', 'slay', 'communion', 'interest', 'expected', 'thrice', 'questioned', 'anchors', 'goodnight', 'tidy', 'onyx', 'auroran', 'spin', 'ballots', 'applied', 'commerce', 'exception', 'affirm', 'apprehension', 'lilacs', 'reapers', 'pungent', 'dells', 'ceilings', 'surprised', 'entertains', 'warbled', 'nows', 'whither', 'seven', 'changed', 'plover', 'leaneth', 'tress', 'tissue', 'anticipating', 'exterior', 'inscrutable', 'exile', 'golds', 'shimmering', 'cools', 'entitles', 'suggest', 'indigence', 'muteness', 'harmony', 'couple', 'contenteth', 'entitled', 'independent', 'excellenter', 'peaks', 'swell', 'endued', 'norwegian', 'confiding', 'supper', 'kid', 'stupendous', 'breadths', 'fashionable', 'boxes', 'practices', 'resuming', 'qualities', 'centres', 'echoes', 'fittest', 'opinions', 'assembling', 'mingle', 'foreigners', 'alluded', 'neighing', 'sleepy', 'maketh', 'sovereigns', 'facts', 'pierless', 'instructed', 'scaffolds', 'succeeding', 'previous', 'dining', 'spectacles', 'elm', 'regarded', 'occupants', 'julep', 'obedient', 'board', 'falter', 'breakfasted', 'showeth', 'atmospheres', 'sapped', 'casually', 'bands', 'bobadilo', 'awhile', 'chorister', 'discreet', 'dreamy', \"camel's\", 'partridge', 'unique', 'advanced', 'vanity', 'shoulder', 'follows', 'vats', 'superlative', 'honored', 'repudiate', 'mowers', 'deaf', 'vaulted', 'revel', 'adieu', 'usher', 'election', 'paragraphs', 'advertise', 'meekest', 'ungracious', 'embodied', 'perchance', 'ruffled', 'soto', 'unavoidable', 'sowed', 'ruffles', \"elijah's\", 'shakespeare', 'summoned', 'pondered', 'sower', \"creature's\", 'pinched', 'core', 'columbus', 'sewing', 'damask', 'discord', 'overhear', 'marquis', 'filaments', 'unrelieved', 'epigea', 'presentiment', 'wept', 'indicatives', \"constancy's\", 'visitors', 'conceal', 'coral', 'phlegmatic', 'crucifix', 'slightly', 'meddle', 'ores', 'treble', 'unremembered', 'lief', 'froze', 'rudiment', \"lapland's\", 'delighted', 'fern', 'accommodate', 'undermining', 'mended', 'chime', 'journeying', \"miner's\", 'rely', 'undiscovered', 'attainments', 'support', 'phials', 'frill', 'gallery', 'gig', 'orchis', 'accordingly', 'victorious', 'authorized', 'crews', 'naught', 'synthesis', 'tints', 'pirouette', 'snowy', 'landing', 'failure', 'hemisphere', 'untravelled', 'fainting', 'veiled', 'arrays', 'inside', 'bids', 'unvarying', 'dante', 'crystal', 'humbler', 'midnights', 'zodiac', 'emit', 'adorn', 'strengthening', 'sticks', 'knees', 'flambeaux', \"beauty's\", 'meagre', 'subsist', 'tarnished', 'stirrings', 'floating', 'psalteries', 'constructed', \"kitchen'd\", 'homeliest', 'escaping', 'dotted', 'whereas', 'tip', 'interested', 'frolic', 'dynasties', 'brothers', 'garland', 'constructs', 'preceding', 'convincing', 'transported', \"let's\", 'trepidation', 'comely', 'intent', 'sabres', 'dappled', 'troupe', 'entrust', 'withstands', 'meteor', 'fastened', 'happening', 'apology', 'ripenings', 'yacht', 'beds', 'accosts', 'longed', 'addings', 'reendure', 'restored', 'intoxicate', 'teneriffe', 'customary', \"lapwing's\", 'phantasms', 'perch', 'skip', 'rod', 'invent', 'themes', 'skim', 'dowries', \"spirit's\", 'idolatry', 'primer', 'amplest', 'ballet', 'uneven', 'grapples', \"peacock's\", 'cerements', 'hovers', 'hums', 'withstand', 'passage', 'praised', 'skirting', 'quickening', 'fancied', 'feebly', 'retrimmed', 'sockets', 'penniless', 'droughtless', 'moldlife', 'stays', 'brows', 'feeble', 'partitions', 'oftentimes', 'dating', 'presented', 'posts', 'democrat', 'standards', 'stapled', 'settle', 'steeple', 'lever', 'pompadour', 'upper', 'plummet', 'says', 'temples', 'bravo', 'inland', 'cost', 'comforting', 'bales', 'irritated', 'spectral', 'sappho', 'assistance', 'prairies', 'shares', 'wolfe', 'goer', 'drunkard', 'oaks', 'celebrates', 'satisfy', 'supporting', 'dwarf', 'climbs', 'conjuror', 'availed', 'russetly', 'hermetic', 'lustrous', 'rubbers', 'address', 'appears', 'financiers', 'cuckoo', 'dusty', 'jay', 'vibrating', 'commonly', 'tabernacles', 'becometh', 'usually', 'hospitality', 'remaineth', 'retired', 'etruscan', 'abash', 'retires', 'seashore', 'paralyzed', 'verge', 'slackens', 'quiver', 'scantilly', 'quenching', 'market', 'flavors', 'thro', 'caskets', 'primrose', 'working', 'vineyard', 'bases', 'upheld', 'ripening', 'candidates', 'perceiveless', 'entrance', 'finitude', 'consoled', 'resurection', 'apparent', 'consoles', 'drown', 'thenceforward', 'hesitated', 'rendered', 'enamel', 'inhabit', 'merchantman', 'tribunal', 'skaters', 'cap', 'reviews', 'sanctifies', 'quivers', 'incidents', 'phoebe', 'slowness', 'growing', 'arrive', 'ribs', 'admired', 'dedicated', 'iodine', 'hears', 'mirrors', 'saith', 'expanding', 'auxiliaries', 'agent', 'avocation', 'topic', \"wren's\", 'chin', 'performed', 'allowed', 'whirls', 'restitution', 'pink', 'inheritance', 'nonchalant', 'secured', 'eloquent', 'pine', 'chemical', 'cardinal', 'supremer', 'pure', 'endorsement', 'securer', 'cavil', 'product', 'dive', 'rites', 'flattens', 'pauseless', 'hideth', 'unblushingly', 'improving', 'pilate', 'nomination', 'waggons', 'branches', 'worthily', 'subsisting', \"object's\", 'pulled', 'gesture', 'refund', 'gradual', 'magistrate', 'argues', 'putteth', 'stile', 'goodmorrow', 'equip', 'merino', 'boroughs', 'hedge', 'jig', 'derive', 'jib', 'bythyme', \"he's\", 'muses', 'wring', \"neighbor's\", 'hubbub', 'dustiest', 'spacious', 'aforetime', \"steeple's\", 'meridian', 'happened', \"fife's\", 'modestly', 'trotwood', 'equipage', 'executors', 'nod', 'drowsing', 'brigadier', 'records', 'shrouded', 'touching', 'relinquished', 'resource', 'leopards', 'rattles', 'matched', 'inheriting', 'streaks', 'servant', 'beach', 'corolla', 'sepal', 'chuckles', 'crypts', 'suspends', 'furtive', 'repaired', 'revere', 'girt', 'nutriment', 'surfeit', 'whosoever', 'busts', 'plant', 'ordain', 'persian', 'farewell', 'inhere', 'beetle', 'hurries', 'bauble', 'transfigured', 'flutes', 'emerges', 'canvas', 'accomplish', 'intercourse', 'sunburnt', 'abide', 'boundless', 'receiving', 'gush', 'transmigration', 'eagle', 'monster', \"consciousness'\", 'curved', 'plea', 'ore', 'cloven', 'contemplation', 'bobolinks', 'ministry', 'betides', 'impose', 'bargemen', \"planet's\", 'quibble', 'swing', 'blacksmith', 'unborn', 'childhood', 'jumbled', 'initial', 'fetched', 'conform', 'perturbless', 'gallanter', 'disburse', 'clumsy', 'fetches', 'carry', 'smites', 'partook', 'impetuous', 'peddler', 'unsummoned', 'spurned', 'bite', 'households', 'returns', 'escort', 'cite', 'larder', 'nutrition', 'upbraids', 'season', 'mayest', 'thrum', 'prowling', 'prometheus', 'geraniums', \"here's\", 'greenwood', 'affronted', 'sailing', 'elected', 'require', 'pigmy', 'blemishless', 'finiteness', 'savant', 'distils', 'protected', 'gigantic', 'marauder', 'aragon', 'sublime', 'lick', 'tantalize', \"lark's\", 'swerveless', 'jewels', 'laboreth', 'winding', 'tastes', 'slam', \"apprehension's\", 'elsewhere', 'conversion', 'cheerful', 'baggage', 'glimmers', 'foreigner', 'aside', 'converges', 'sciences', 'ideal', 'resembling', 'tentacles', 'swelled', 'resurrections', 'prick', 'theatre', 'normal', \"mercury's\", 'zigzag', 'insanity', 'spangles', 'emblems', 'sainted', 'cleared', 'conspicuous', 'rascality', 'incisive', 'hallowing', 'mien', 'sale', 'bade', 'refining', 'crumbless', 'accented', 'quantity', 'precise', \"gibraltar's\", 'walking', 'infinitude', 'cheat', 'firmamental', 'unfading', 'trod', 'spaces', 'shod', 'commissary', 'corner', 'tend', 'selectly', 'ratio', 'gulf', 'stained', 'distaff', 'staid', 'winged', 'betrothal', 'shrill', 'subjugated', 'hooting', 'compelleth', \"moon's\", 'incivility', 'designated', \"sparrow's\", 'distinctly', 'awaiting', 'homestead', 'prime', 'beseech', 'prima', 'threading', \"neighbors'\", 'mapped', 'reorganizes', 'disparage', 'husband', 'niggard', 'monarchs', 'imposing', 'phraseless', 'signs', 'relative', 'espy', 'slashing', 'unaltered', 'diver', 'troubadour', 'enlightening', 'incite', 'chapeaux', 'sites', 'anodyne', 'reading', 'sorrow', 'quainter', 'recitation', 'concentrate', 'hempen', 'mong', 'dates', 'stun', 'priests', 'scantly', 'enabling', 'totalness', 'elijah', 'patrons', 'dated', \"anvil's\", 'delirium', 'expression', 'familiarities', 'unobtained', 'flavorless', 'despaired', 'infiniter', 'satisfaction', 'slain', 'babbling', 'stroking', 'evangelists', 'unopened', 'tramp', 'marl', 'repine', 'vacation', 'attendeth', 'practised', 'mars', 'exhaustion', 'superfine', 'certainly', 'lanes', 'stouter', 'formed', 'implored', 'spills', 'foreclosed', 'rustics', 'stems', 'abject', 'chorals', 'ruby', 'argent', 'captivity', 'countless', 'case', 'slumber', 'bequeaths', 'hoists', \"wind's\", 'sophocles', 'terrestial', 'confidently', 'forefinger', 'investigating', 'awakened', 'enamors', 'slippers', \"nicodemus'\", 'tilling', 'zenith', \"foxglove's\", 'strait', 'purse', 'commander', 'middle', 'wove', 'impaled', 'nightgowns', 'thrills', 'bags', 'develop', 'prithee', 'immense', 'mouldered', 'shifts', 'arguments', 'events', 'unperceived', 'week', 'noble', 'extended', 'deft', 'assist', 'cheers', 'petticoat', 'fruit', 'despatched', 'climbing', \"host's\", 'bitterer', 'englandly', 'bondage', 'magical', 'costs', 'gorse', 'trains', \"diver's\", 'otherwise', 'bodies', 'distills', 'sights', 'savants', 'thew', 'parian', 'slanting', 'therefrom', 'cloy', 'smouldering', 'sprang', 'blot', 'dipped', 'dauntless', 'beryl', 'mandolin', \"we've\", 'jarred', 'pile', 'endears', \"dandelion's\", 'swim', 'hover', 'omnipotence', 'rules', 'stung', 'department', 'traffic', 'using', 'rebecca', 'particle', 'clad', 'sieves', 'engross', 'trailed', 'benefit', 'superiority', 'hallelujah', 'kennel', 'clap', 'snatches', 'doll', 'imprisonment', 'pronounce', 'venerable', 'demeaning', 'diving', \"bee's\", 'perverse', 'insolvency', 'renounce', \"o'\", 'footing', 'spontaneity', 'beckons', 'critical', 'countenances', 'porter', 'refer', 'ovens', 'metropolis', 'inspect', 'broker', 'confides', 'visits', 'fractured', 'prattle', 'refers', 'william', 'potosi', 'central', 'roar', 'paints', 'choirs', 'develops', 'slender', 'bond', 'wills', 'knits', 'chivalry', 'curling', 'whites', 'antidote', 'bountiful', 'garner', 'empress', 'earring', 'fritters', 'bedtime', 'begged', 'jerusalem', 'feudal', 'shells', 'strictly', 'betrays', 'pulpy', 'cato', 'ode', 'brazilian', 'assumes', 'indorsed', 'deepened', 'continents', 'baronial', 'peaceful', 'strikes', 'plucks', 'intoxication', 'survived', 'curtain', 'domingo', 'enlarging', 'spice', 'hire', 'october', 'phaeton', \"flame's\", \"sailor's\", 'bucket', 'artisans', 'rags', 'sadness', 'scorning', 'impute', 'severally', 'practising', \"enemy's\", 'wrestlers', \"e'er\", 'palate', 'leaked', 'vivamus', 'subdue', 'neutralized', 'watcher', 'toiled', 'britain', 'trundle', 'interdicted', 'walks', 'tranquil', 'moves', 'abasheth', 'cabinets', 'heather', 'discerned', 'depth', 'thither', 'prism', 'evenings', 'milking', 'passerby', 'briefly', 'blessing', \"a'\", 'shelter', 'aster', 'decree', 'carolled', 'stocks', 'illusive', 'pool', 'applause', 'curve', 'gravitates', 'impossibility', 'mast', 'mass', 'boone', 'pontius', 'dyes', 'granitic', 'bequeathing', 'excepting', 'tarry', 'neigh', 'worms', 'ladders', 'befriend', 'fairness', 'gentlefolk', 'espied', 'sung', 'causes', 'emily', 'gymnast', 'misses', 'tomes', 'logician', 'erects', 'robber', 'dressing', 'fountain', 'royally', 'pledges', 'premium', 'sitting', 'vassal', 'plausibility', 'vera', 'verb', 'minded', 'fortitude', 'hems', 'subterranean', 'austerity', 'cunningly', \"seraph's\", 'columbine', 'controvertible', 'regiments', 'laying', 'grandfather', \"earl's\", 'alms', 'mistaking', 'subsiding', 'programme', 'portable', 'fence', 'abridge', 'vacillating', 'opaquest', \"waking's\", 'gulfs', 'perception', 'carriages', 'rhymes', 'fiercer', 'squanders', 'imported', 'skeptic', 'swamps', 'imperceptible', 'crust', 'burgundy', 'witnesses', 'coroner', 'pulpit', 'intersect', 'muslin', 'multitude', 'asiatic', 'prosaic', 'toes', 'ruffle', 'responded', 'yellower', 'minuets', 'threads', 'praises', 'tragedy', 'balles', 'bestirs', 'creeps', 'vespers', 'enmity', \"losses'\", \"kingdom's\", \"bailiff's\", 'miniature', 'extremer', 'tuscarora', 'sunburned', 'misers', 'cataract', \"lord's\", 'family', 'caravan', 'transit', 'solitude', 'beclouded', 'regiment', 'establish', 'helmsman', 'select', \"drama's\", 'contains', 'silently', 'mori', 'wavering', 'hurrah', 'sincere', 'ballad', 'horses', 'flaw', 'cedars', 'crested', 'empery', 'sorcery', \"christ's\", 'apprehensions', 'draughts', 'doon', 'mellow', 'pretense', 'aglow', 'carelessly', \"season's\", 'drearier', 'bystanders', 'thickest', 'knocker', 'bur', \"february's\", 'nine', 'subterfuge', \"so's\", \"tisn't\", 'grope', 'supercilious', 'meeker', 'purchaser', 'stubborn', 'prompt', 'heat', 'share', 'conspire', 'accept', 'deportments', 'hearted', 'resurgam', 'cultivate', 'drest', 'zanzibar', 'terrestrial', 'maturing', 'sits', 'unties', 'ordinance', 'fruition', 'enlarge', 'ratified', 'surpassed', 'untied', 'sacred', 'reject', 'foreignhood', \"'blossom\", 'hottest', 'telegraphic', 'waved', 'fr', 'abdicate', 'helmet', 'sceptic', 'aspire', 'brooch', 'lighting', 'fe', 'crucifixial', 'waves', 'appealed', 'derives', 'barehead', 'dissolving', 'criticize', 'upholsterer', 'susan', 'shady', 'bathed', 'coal', 'procured', 'debonnaire', 'responsibility', 'spheric', 'egg', 'infiniteness', 'replied', 'adorned', 'tanks', 'stains', 'oblique', 'rounder', 'scientist', 'brim', 'committed', 'staunch', 'suffer', 'jolly', \"juggler's\", 'discloser', 'deeds', 'flasks', 'actually', 'symptoms', 'harmless', 'dross', 'faltering', 'bout', 'sheaves', 'crawls', 'dolls', 'nestled', 'worthier', 'musket', 'speechless', 'moaning', 'frigid', 'dandelions', 'adventurous', 'association', \"temptation's\", 'frigate', 'interspersion', 'contra', 'level', 'philology', 'token', 'floors', 'grayest', 'genoa', 'friendship', 'ports', 'tilted', 'inlaid', 'jaws', 'energy', 'idea', 'exorbitant', 'countrymen', 'obtains', 'undertake', 'ripple', 'chrysoprase', 'orient', 'twists', 'really', 'reverent', 'lovers', 'tableau', 'alcohol', 'wedlock', \"number's\", 'chivalries', 'crowing', 'denotes', 'thoughtfullness', 'sustain', 'flowed', 'brooches', 'congenial', 'induced', 'shriven', 'earns', 'rumor', 'drifting', 'parched', 'toiling', 'livelong', 'bartsia', 'qualify', 'tenderest', 'vigorous', \"cross'\", 'sere', 'beginning', 'bask', 'heroic', 'influences', 'planted', 'chrysophrase', 'whippoorwill', 'yclept', 'perceptible', 'needing', 'persuading', 'spiciest', \"year's\", 'probity', 'merited', 'consequence', 'apocalypse', 'exercising', 'reinforced', 'antiquary', 'cradles', 'gazed', 'seeming', \"orchis'\", 'vellum', 'valentine', 'moorings', 'sympathy', 'mist', 'talismanic', 'introduction', 'leading', 'gurgled', 'hallowed', 'paint', 'wonderful', 'forevermore', 'statement', 'overbold', 'mama', 'ton', 'smoothed', 'temptations', 'bumble', 'pare', 'gnash', 'option', 'draped', 'appreciation', 'assumption', 'scantily', 'bower', 'consult', 'prodigious', 'translation', 'rampant', 'unmentioned', 'reverential', 'b', 'gotten', 'volcanoes', 'dikes', 'aims', 'aristocracy', 'recording', 'architect', 'kindle', 'ruddier', 'declare', 'sentenced', 'uniforms', 'juicy', 'extents', 'emperors', 'gale', 'engulf', 'conjugate', 'surmising', 'blissful', 'confirms', 'oriole', 'rower', 'extorted', 'jeopardize', 'climes', 'rowed', 'jostle', 'plashless', \"reap'st\", 'sherry', 'banjo', 'added', 'electric', 'coterie', 'drowns', 'unused', 'plunder', 'adder', 'gilt', 'plays', 'bustled', 'extremely', 'soared', 'salary', 'flambeau', 'chronicle', 'sturdy', 'blent', 'asters', 'barred', 'ingots', 'hindrance', 'jordan', 'grandmama', 'tubes', 'eliza', 'western', 'thomas', 'rebels', 'tincture', 'fiercest', 'foolisher', 'wailing', 'hopper', 'perches', 'hillside', 'sanctity', 'carefully', 'hopped', 'occupation', 'stubble', \"snow's\", 'wraps', 'tapestries', 'writer', 'reels', 'indian', 'positively', 'transcendental', 'credulous', 'archangels', 'vivider', 'hip', 'magicians', 'prowess', 'meanwhile', 'sunny', 'famous', 'remedy', 'owls', 'shylock', 'basement', 'during', 'silk', 'pellet', 'banquet', 'molten', 'expositor', 'exhibiting', 'whetting', 'progressive', 'sources', 'tumult', 'nibbles', 'vanquish', 'impanelled', 'belles', 'surrendering', \"o'erspent\", 'couriers', 'peasantry', 'wheeling', 'doublet', 'approaching', 'sew', 'arcturus', 'equinox', \"robber'd\", 'leontoden', 'plausibly', 'portrait', 'constellation', \"rhodora's\", 'youth', 'gravitation', 'learnt', 'grains', 'visiting', 'pictures', 'blurs', 'inebriate', \"fuchsia's\", 'woo', 'gentlest', 'marriage', 'vitalize', 'solo', 'peniel', 'poorer', \"berry's\", 'carbonates', 'rarer', 'competent', 'alters', 'endows', 'kneeled', 'legislature', 'hoisted', 'c', 'ignominy', 'adores', 'annual', 'interrogate', 'patti', 'retarded', 'possesseth', 'afar', 'finds', 'reside', 'loaf', 'volcanic', 'barometer', 'groups', 'drunk', 'reasons', 'hewn', 'deposits', 'gypsy', 'contemporaneous', 'raw', 'complied', 'decline', 'dum', 'create', 'overlook', 'add', 'cheeked', 'dug', 'suburbs', \"herschel's\", 'dropping', 'manycolored', 'orioles', 'slips', 'dialogue', 'partly', 'flints', 'silenced', 'wet', 'shrewd', 'vane', 'representative', 'gag', 'strictest', 'workmen', 'pedestrian', 'lovest', 'pressed', 'error', 'kissing', 'weariest', 'gamboge', 'dominie', 'stipulus', 'sombre', 'pack', \"star's\", 'shortened', 'mote', 'cents', 'leant', 'sentences', 'leans', 'ravelling', 'unafraid', 'lodged', 'loosened', 'timbrels', \"holiday'\", 'shunning', 'renounced', 'funny', 'guido', 'kills', 'decoy', 'remanded', 'engrossed', 'stimulated', 'peoples', 'advise', 'assuages', 'commune', 'literature', 'knitting', \"vandyke's\", 'cigar', 'negotiate', 'soberly', 'citadels', 'uses', 'stripe', 'sagacious', 'fustian', 'brussels', 'stack', 'tufts', 'asketh', 'tugs', 'craved', 'spent', 'analysis', 'magnified', 'undressed', 'drowsiest', 'cheer', 'withdraw', 'capuchin', 'rears', 'recant', 'latitudeless', 'dinna', 'marshalling', 'morsel', 'felled', 'ignoble', 'intervals', 'elect', 'cargoes', 'meanest', 'admission', 'recognizing', 'wakens', 'provincially', 'exhibition', 'wags', 'snap', 'jehovahs', 'bridal', 'scowled', 'elves', 'bin', 'saxton', 'bid', 'wives', 'matters', 'game', 'chaoses', 'adrift', 'private', 'clemency', 'lunacy', 'sophistries', 'katie', 'gambrels', 'thews', 'vests', 'almanacs', 'confront', 'fagot', 'strife', 'continue', 'sifts', 'essential', 'ho', 'refracted', 'valleys', 'aliment', 'obliged', 'fathers', 'undress', 'impeach', 'limb', 'sages', 'sprightly', 'pale', 'vivimus', 'attar', 'balms', 'stamens', 'affects', 'epicures', 'clematis', 'exceeding', 'per', 'prop', 'anno', 'providence', 'slash', 'possibler', 'peg', 'rectitude', 'inserting', 'contrasting', 'unjaded', 'reddest', 'wayward', 'odor', 'benefactor', 'obscures', 'perpendicular', 'refused', 'calyx', 'cheered', 'chanting', 'excelling', 'drams', 'domenichino', 'portico', 'tracing', 'wrinkles', 'mesmeric', 'classics', 'anterior', 'fleets', 'computes', 'depose', \"liberty's\", 'frames', \"could'st\", 'chirping', 'bankruptcy', 'diameters', 'rows', 'learneth', 'spending', 'transcending', 'apartments', 'submit', 'worshipped', 'abbeys', 'caresses', \"bryant's\", 'forward', 'signified', 'bored', 'strives', 'files', 'perplex', 'wakelessness', 'vehicle', 'azof', 'hopes', 'capered', 'antiquest', 'reel', 'duds', 'peeped', 'charmed', 'patriot', 'ringlet', \"lover's\", 'apricot', 'calleth', 'matins', 'phosphoric', \"space's\", 'export', 'beguiling', 'eccentric', 'constant', 'soars', 'defined', 'beckoning', 'precept', 'diverse', 'research', 'pasture', \"patriarch's\", 'chafes', 'nectars', 'steeper', 'vitallest', 'challenged', 'occasional', 'application', 'parlor', 'fructified', 'transmuted', 'retract', 'aprons', 'elements', 'lend', 'litigants', 'druid', 'resign', 'lens', 'insect', 'lent', 'dram', \"orient's\", 'heroine', 'mood', 'worsted', 'e', 'delineation', \"almanac's\", 'cribs', 'vici', 'speculations', 'remit', 'admiring', 'impatient', 'waxing', 'summit', 'weights', 'enrolled', \"domini's\", 'sounded', 'demandeth', 'restraining', 'alighting', 'furze', 'alien', 'baby', 'windy', 'chariot', 'sixpence', 'dainty', 'fleshless', 'luxuries', 'illegible', 'excludes', 'compose', \"sunrise'\", 'preciser', 'capapie', 'statures', 'send', 'looketh', 'carnivals', 'stable', 'brooms', 'fatal', 'indicating', 'ingredient', 'venice', 'coquettish', 'torture', 'rhyme', 'spoon', 'aspires', 'frigates', 'wipe', 'recollected', 'tri', 'respectful', 'diverging', 'knight', \"they've\", \"eve's\", 'introductions', 'turbaned', 'kinsmen', 'hoarded', 'waywardest', 'havens', 'limitations', 'toils', 'compensated', 'pledge', 'folds', 'thronging', 'perched', 'curtail', 'concludes', 'honors', 'folk', 'pittance', 'evokes', 'transplanted', 'worshipping', 'harvests', 'expressed', 'henceforth', 'relent', 'aground', 'poles', 'scenery', 'lea', 'desires', 'madonnas', 'sunsets', 'sprung', 'perplexedly', 'separation', 'newness', 'convert', 'engage', 'chant', 'metre', 'titanic', 'disband', 'suggests', 'products', 'nervous', 'principally', 'opinion', 'nameless', 'courting', 'composed', 'named', 'depths', 'lords', 'sicily', 'messengers', 'hindred', 'extravagance', 'composer', 'oval', 'comprehendeth', 'tools', 'sermon', 'announced', 'strapped', 'fee', 'pauses', 'processions', 'frog', 'ices', 'frogs', 'asteroid', 'weeping', 'oils', 'doublons', 'harrowing', 'depreciate', 'judged', 'wades', 'infection', 'charming', 'apprenticed', 'sore', 'hueless', 'train', \"barabbas'\", 'tattered', 'eccentricity', 'placard', 'procuring', 'harvest', 'pathos', 'afterwards', \"thou'rt\", 'gust', 'resown', 'consort', 'tunnel', 'reproduce', 'unknowns', 'exhilaration', 'crickets', 'drill', 'regale', 'admiralty', 'wedge', 'wharf', 'reserved', 'raps', \"mak'st\", 'anemone', 'heresy', 'legible', 'nears', 'pieced', 'martyr', 'trumpet', 'contempt', 'lamb', 'hinders', 'resemble', 'tamper', 'struggles', 'sic', 'pleasing', 'varies', 'seeds', 'sentiments', 'forest', 'resoluter', 'mysteries', 'sin', 'filament', 'dnieper', 'plato', 'blocks', \"billow's\", 'philosophy', 'nullify', 'calvaries', 'consecrated', 'whistle', 'avarice', 'acquitted', 'courage', 'honestly', 'tenure', 'eventide', 'austin', 'diminution', 'oversets', 'terminable', 'waltzed', 'reeling', 'wedding', 'sightless', 'embers', 'poetry', 'symbols', 'alacrity', 'beguile', 'contending', 'shreds', 'trusts', 'obeisance', 'exclusion', 'lettres', 'thence', 'banner', 'broom', 'reduceless', 'fete', 'heroism', 'babblers', 'inspecting', 'orange', 'modesties', 'crowds', 'spreading', 'belted', 'junction', 'adobes', 'existences', 'druidic', 'fallible', 'stout', 'emerald', \"owner's\", 'rotation', \"physician's\", 'landings', 'february', 'titian', 'sleeve', \"night's\", 'undertaking', 'kinsmanless', 'feast', 'blazing', 'exploring', 'dwelleth', 'pleasures', 'flitted', 'loaves', 'ankles', 'lilac', 'tents', 'doing', 'tepid', 'artists', 'winked', 'staying', 'roughest', 'constitute', 'whipporwill', 'books', 'jagged', 'dowerless', 'wander', 'lowlier', 'billows', 'solemnizes', 'wholly', 'organdy', 'scantest', 'thrifty', 'scimitar', 'palmleaf', 'honorable', 'supports', 'sacrifice', 'affirming', 'unwinds', 'pours', 'galaxies', 'surely', 'tenant', 'comrade', 'glistening', 'elastic', 'geometry', 'deprived', 'latitudes', 'yarn', 'plummetless', 'wrote', 'hence', 'benediction', \"buttercup's\", 'distinguish', 'spilt', 'arterial', 'consciously', 'incarnate', 'keyless', 'bouquet', 'powerful', 'disposed', 'embarrassed', 'desireless', 'glorified', 'drinker', 'stump', 'eminence', 'pauper', 'demijohn', 'rushes', 'sadly', \"'scape\", 'festival', 'system', 'battlement', 'famishing', 'acquiescence', 'travelled', 'fairest', 'beard', 'baptizes', 'accompany', 'glimmer', 'quarry', 'swollen', 'vine', 'exactly', 'lists', 'slides', 'biggest', 'vouch', 'beseemeth', 'untwist', 'baptized', 'fuzzy', 'july', 'blameless', 'bulb', 'holland', 'notelessly', 'gentile', 'hillocks', 'compensation', 'canticle', 'tenements', 'grander', 'amplitude', 'candles', 'gambol', 'faints', 'thwarted', 'pampas', 'fashionless', 'facing', 'biscayan', 'silenter', 'jug', 'sings', 'clove', 'rosier', 'aprils', 'awed', 'newfashioned', 'supplanted', 'declined', 'ashore', 'mis', 'scooping', 'tinting', 'fastidious', 'signifying', 'pyramids', 'wicks', 'recordless', 'deathless', 'necklace', 'masts', 'rigor', 'prisoner', \"sovereign's\", 'class', 'ishmael', \"emigrant's\", \"tide's\", 'refreshing', 'petite', 'brushed', 'bleaker', 'bred', 'enlist', 'perceiving', 'cranny', 'debar', 'brew', \"she'd\", 'marge', 'sail', 'rainbows', 'hamlet', 'obsequious', 'thigh', 'burnished', 'halves', 'sparks', 'specified', 'pines', 'brighter', 'score', 'undivine', 'prancing', 'attained', 'riding', 'fumbled', 'excursion', 'capsules', 'beat', 'massacre', 'arrestless', 'unanointed', 'defaced', 'joins', 'beak', 'bead', \"maker's\", 'exultant', 'thrives', 'endless', 'gray', 'sowing', 'conditions', 'married', 'dejected', 'comprising', 'lethargic', \"somebody's\", 'swain', 'furloughs', 'rein', 'generations', 'truer', 'enhances', 'requirement', 'pronoun', 'acquired', 'admonition', 'hanged', 'edition', \"stealth's\", 'scholastic', 'slanted', 'concave', 'sanity', 'allured', 'packed', \"girlhood's\", 'frankfort', 'beg', 'coveting', 'laureate', 'hock', 'deposed', \"mower's\", 'ancienter', 'efflorescence', 'reproduced', 'constituted', 'buckets', 'monarchy', 'interfere', 'bolivian', 'gnomes', 'nightfall', 'batize', 'absentee', 'memento', 'haughty', 'aslant', 'supplants', 'fulfilled', 'streams', 'urging', 'cinder', 'highland', 'cornets', 'co', 'lutes', 'overcoat', 'commend', 'typify', 'recompense', \"investment's\", 'feeblest', 'veni', 'flourishing', 'actualize', 'sanctifying', 'induces', 'dazzling', 'mundi', 'offers', 'garter', 'poet', 'bewildering', 'feather', 'columnar', 'anomaly', 'artisan', 'hyacinth', 'battlements', 'tissues', 'controlled', 'proudest', 'commuted', 'clusters', 'folding', 'napoleon', 'homes', 'splits', 'unlike', 'commandment', 'banquettings', 'persevered', 'westerly', 'paralyzing', 'apron', 'apprehend', 'appalls', 'thus', 'shanties', 'encouragement', 'hints', 'swinging', 'prose', 'phosphorous', 'portray', 'inquest', 'kissed', 'finity', \"freshet's\", 'member', 'chants', 'unity', 'hoods', 'merciful', 'auto', 'balcony', 'blooms', 'disseminating', 'esteeming', 'gauging', 'slave', 'ungained', 'absorb', 'sureties', 'outcast', 'romeo', 'prickled', 'forefathers', 'betray', 'warming', 'numbered', 'retard', 'transaction', 'reflection', 'unsown', 'sauntering', 'builder', \"fiction's\", 'patterns', 'theses', 'hosts', 'english', 'unfitted', 'diversify', 'muscle', 'usual', \"finger's\", \"thomson's\", 'wren', 'executive', 'nicknamed', 'regulates', 'condescended', 'narcotics', 'happiness', 'danced', 'vidi', 'clergyman', 'supply', 'lake', 'capabilities', 'bench', 'demurral', 'dimities', 'combine', 'exempt', 'contempts', 'farness', 'ledge', 'government', 'masquerade', 'devised', \"who's\", \"butterfly's\", \"otter's\", 'cruz', 'easel', 'five', 'intimates', 'tick', \"who'd\", 'frisk', 'flamingo', 'insolvent', 'inviting', 'broadcloth', 'admitted', 'noted', 'pompeii', 'stagger', 'cowslip', 'flickering', 'divest', 'montcalm', 'page', 'heel', 'therein', 'carnations', 'deified', 'portly', 'seraphs', 'library', 'notices', 'hush', 'growth', 'gravitations', 'convex', 'scares', 'tiaras', 'gables', 'leaden', \"heaven's\", 'competitor', 'shrub', 'sufficiently', 'floss', 'prodigal', 'bustling', 'melody', 'earrings', \"octave's\", 'panes', 'obey', 'slight', 'oppress', 'poignant', 'expire', 'peruke', 'hospitable', 'gentians', 'sways', 'throne', 'actual', 'incline', 'getting', 'staked', 'freedom', 'surge', 'benumbed', 'swear', 'insufficient', 'introduced', 'outstripped', 'bugle', 'bosporus', 'gymnastic', 'unwind', 'owe', 'cocoa', 'luna', 'lawful', 'quaffing', 'gurgle', 'maize', 'rejoice', 'boanerges', 'platoon', 'brides', 'splintered', 'serfs', 'preferment', 'intention', 'enticed', 'tinctured', 'powdered', 'troubling', 'vat', 'sponges', 'enchantment', 'gossipped', 'tilled', 'cantons', 'volume', 'strawberries', 'bun', 'goals', 'nut', 'wince', 'pelteth', 'eat', 'hummed', 'princes', 'flit', 'mozart', 'recede', 'venetian', 'catching', \"jacket's\", 'pippin', 'minutes', 'display', 'strengthens', 'liturgies', 'sumptuousness', 'bakes', 'replying', 'veiling', 'opera', 'beatrice', 'dearth', 'denote', 'resumption', \"queen's\", 'tumultuous', 'commentators', 'education', 'trailing', 'sprite', 'cavalry', \"magician's\", \"separation's\", 'unimpeachable', \"tradition's\", 'adequately', 'unreluctantly', 'foundeth', 'branch', 'compete', 'redden', 'chemist', 'undrained', 'convicts', 'kinds', 'casque', 'inherently', 'stag', 'seraphim', 'earthly', \"traveller's\", 'redecked', 'ranks', 'dapperer', 'littered', 'ripest', 'coquette', \"grandame's\", 'tightest', 'monstrous', 'searched', 'pods'])\n",
      "2969\n",
      "Neg Seeds:\n",
      "set(['aided', 'wound', 'legacies', 'comparatively', 'knelt', 'foul', 'narcotic', 'elegy', 'preface', 'yonder', 'adorning', 'ebbed', 'adown', 'disposers', 'finallest', \"soe'er\", 'bays', 'voted', 'lore', 'portentous', 'sped', 'chill', 'beware', 'alternating', 'statute', 'cenotaph', 'appal', 'oceans', 'stipulate', 'vase', 'tantalizing', 'leisurely', 'funneled', 'affect', 'stabbed', \"mist's\", 'winnowed', 'missionary', 'alpine', 'tickets', 'furrowed', 'strayed', 'timidness', 'avalanches', \"yesterday's\", 'whist', 'steadfastness', 'dwindled', 'ashine', 'sooty', 'preached', \"lightning's\", 'cordially', 'estimates', 'direct', 'pulse', 'inviolable', 'compassed', 'louder', 'blaspheme', 'emptiness', \"stock's\", 'ransack', 'anemones', 'established', 'disk', 'dangled', 'prisons', 'ruthless', 'revolver', 'asia', \"bayonet's\", 'sunder', 'reverently', 'tips', 'undisputed', 'basks', 'simultaneously', 'herb', 'interrupting', 'stared', 'herd', 'beck', 'feeding', 'revering', 'stares', 'shriek', 'chink', 'violate', 'daughter', 'distinctness', 'taper', 'auction', 'bloomed', 'envoy', 'piercing', 'buckles', \"a'n't\", 'abolition', 'dimness', 'whimpers', 'changes', 'reckoned', 'verdure', 'topography', 'stray', 'pleiads', 'visible', 'moral', 'amherst', 'hoping', 'soberer', 'coins', 'bundles', 'chooses', 'untie', 'card', 'knoll', 'strike', 'twirled', 'expiring', 'main', 'unconspicuous', \"dungeon's\", 'relay', 'wary', 'successful', 'award', 'pinching', 'tolerates', 'claus', 'midst', 'striving', 'tyrannies', 'abundance', 'cajoles', 'unbraiding', 'divorced', 'permits', 'pursue', 'boldest', 'unshriven', 'mechanic', 'blooming', 'fames', 'piers', \"pain's\", 'quivering', 'artillery', 'organized', 'earldom', 'currency', 'fronting', 'madonna', 'wrenched', 'david', 'provincial', \"o'erpowered\", 'hoe', 'bung', 'popocatapel', 'inhabitants', 'dimple', \"steel's\", \"bliss'\", 'gentian', 'stupidity', 'drummer', 'adjacent', \"letter's\", 'raffle', 'classifying', 'fever', 'wading', 'mouths', 'shored', 'insecure', 'earlier', 'coffers', 'customs', 'wrong', 'pushing', 'marshallings', 'greediness', 'brigand', 'foundering', 'overtaken', 'linnet', 'attracts', 'seduce', 'greek', 'specks', 'parish', 'plumbing', 'enfolds', 'inhabitant', 'democratic', 'schoolmates', 'modesty', 'snugly', 'office', \"toby's\", 'dreamed', 'whizzing', \"mantel's\", 'toads', 'ghastly', 'crumbs', 'welcomes', 'fix', 'blown', 'thrust', 'exhibits', 'comprehend', 'savors', 'swarthy', 'dimity', 'differently', 'clause', 'corinthians', 'weeks', 'pentateuchal', 'coffee', 'prevented', 'weakness', 'safe', \"truth's\", 'suitor', 'befalling', 'exhaled', 'oxygen', 'swaying', \"ribbon's\", 'spotless', 'leaned', 'shrewder', 'volcano', 'pantomine', 'sham', \"crier's\", 'meal', 'luck', 'burial', 'preceded', 'schemes', 'telescope', 'jocund', 'garment', \"dower's\", 'gymnasium', 'contracting', 'precedes', 'rind', 'cathedral', 'pounce', 'whining', 'overcame', 'restricted', 'forty', 'mason', 'remorse', 'newly', 'forth', 'earths', \"archangel's\", \"despair's\", 'threatened', 'swaggers', 'pumpkins', 'ayre', 'enlightened', 'wanted', 'telescopes', 'fret', 'pricklier', 'aisle', 'enormous', 'unfulfilled', 'shelves', 'notching', 'pence', 'renew', 'disturbed', 'sprig', 'repealed', 'rang', 'dunce', 'fantasy', 'spinning', 'sober', 'bandaged', 'gessler', 'speck', 'declaim', 'toy', 'omnipresence', 'rejects', 'protracted', 'haggard', 'colossal', 'master', 'witnessing', 'gowns', 'bethought', 'bitter', 'genesis', 'toe', 'consented', 'curtains', 'solemnly', 'paltry', 'leaking', 'embellish', 'wasted', 'abated', 'peculiar', 'symptom', 'spoiler', 'pyramidal', 'target', 'icicle', 'lingers', 'older', 'bitterness', 'seated', 'shower', 'persuade', 'guilt', 'mirth', 'contrasted', 'acquisition', 'quench', 'portraits', 'modern', 'shoals', 'rat', 'shaggier', 'mitred', 'amiss', 'swindled', 'regulate', 'mint', \"adhesion's\", 'affairs', 'quieter', 'strength', 'adamantine', 'metallic', 'absorbed', 'laughed', 'completed', \"girl's\", 'decalogues', \"peddler's\", 'stirrup', \"elf's\", 'replenished', 'troughs', 'mashed', 'rumble', 'involving', 'mashes', 'phantasm', 'peevish', 'expound', 'constancy', 'statelier', 'richard', 'neighborhoods', 'softness', 'camp', 'doe', 'definitely', 'consummate', 'forsook', \"belief's\", 'entertaining', 'incomplete', 'discontent', 'unhooked', 'alight', 'nominated', 'anniversary', 'undue', 'siroccos', 'failest', 'gauge', 'tempted', 'explain', 'bust', 'institution', 'lisps', 'joggling', 'deepest', 'pursuing', 'folks', 'telegrams', 'dullness', 'establishes', 'gored', 'haunted', 'pomposity', 'report', 'congealed', 'nurse', 'etiquettes', 'briefer', \"andre's\", 'nicely', 'rowing', 'dipping', \"children's\", 'interspersed', 'discs', 'plashing', 'flanked', 'ban', 'reposed', 'flagged', 'ears', 'reprieves', 'enfranchised', 'resist', 'swindlers', 'cattle', 'miserable', 'resigned', 'clef', 'sevres', \"eden'll\", 'shaven', \"cato's\", 'rings', 'appealing', 'artificial', 'extol', 'narrates', 'startle', 'endowal', 'scorn', 'discovery', 'claws', 'crayons', 'splinter', 'confusion', \"stubble's\", 'souvenir', 'rime', 'laureates', 'goalless', 'picking', 'hundreds', 'tempests', 'tyranny', 'patented', 'climate', 'cow', \"spectre's\", 'coy', 'fault', 'fifth', 'askew', 'players', 'gasped', 'planned', 'homesickness', 'tinge', 'lenses', 'gushed', 'smuggled', 'abbreviate', 'addressing', 'fondled', 'beggared', 'infirm', 'majestic', 'shortness', 'priscilla', 'paralyze', 'petty', 'basis', 'ropes', 'fro', 'quickly', 'spur', 'tine', 'cherries', 'progenitor', 'captives', 'superhuman', 'adroitly', 'exactness', 'leech', 'instil', 'haranguer', 'bereavement', 'transatlantic', 'craft', 'hoist', 'dote', 'hindering', 'catch', 'gracious', 'harms', 'sly', 'contemplated', 'dissect', \"earth's\", 'lesser', 'pleads', 'abrupt', 'poinards', 'aid', 'overtaking', 'anchor', 'skirts', 'paeans', 'wishfulness', 'equator', 'extemporizing', 'defeated', 'eighteen', 'jest', 'violin', 'bounteous', \"glory's\", 'hone', 'memorial', 'emergency', 'soldier', 'deepens', 'tucking', 'sovereignties', 'oozed', 'plated', 'grapple', 'convalescent', 'unbereft', 'plates', 'convictions', 'emphatic', 'unconcern', 'exertion', 'fairly', 'captivates', 'suburb', 'hadst', 'fuse', \"revelation's\", 'ravelled', 'jealous', 'nurtured', 'blamed', 'punctuate', 'embarrassments', 'possessed', 'externally', 'lonelier', 'deploys', 'alarms', 'milliner', 'smoked', 'outlived', 'mourners', 'plash', 'bullion', \"poet's\", 'forsakes', 'identify', 'battles', 'victim', 'propitiate', 'burgoyne', 'agile', \"tho'soever\", 'pharmacy', 'trampled', 'autumns', 'espoused', 'exorcised', 'designate', 'beholds', 'descending', \"miser's\", 'scruple', 'dignity', 'rustle', 'mansions', 'midge', 'gifted', \"table's\", 'unsuspecting', 'security', 'blades', 'sordid', 'squander', 'rustling', 'urge', 'unnecessary', 'clawed', \"urchin's\", 'stealthily', 'rill', 'enemies', 'denies', 'bottom', 'dispelled', 'shrivelled', 'beating', 'baize', \"conjecture's\", 'shakes', 'grandsires', 'illustration', 'disappeared', 'discount', 'sift', 'swings', 'burs', 'burr', 'capacious', 'post', 'manufacturing', 'emits', 'chapter', \"something's\", 'rallying', 'augmented', 'attacks', 'dollars', 'accepts', 'plying', \"fame's\", 'blithe', 'banker', 'steadily', 'sob', 'formerly', 'puzzle', 'glimmering', 'consummated', 'wrap', 'refined', 'emigrate', 'effaces', 'waits', 'subdivide', 'avail', 'effaced', 'striding', 'fought', 'greatness', 'assaulted', 'launching', 'litanies', 'attempted', 'heal', 'garments', 'astonished', 'blindness', 'counsel', 'vive', 'builds', 'instants', 'undefeated', 'bargain', \"sunset's\", 'lays', 'submitting', 'scrabble', 'latch', 'chafe', 'pall', 'prayed', 'disgrace', 'chanced', 'covert', 'umpire', 'disclosing', 'darting', 'covers', 'thanksgiving', 'hame', 'marksman', 'grappling', 'ship', 'trip', 'unsuspended', 'eventual', 'locality', 'skirted', \"moment's\", 'excel', 'vanishes', 'crowns', 'til', 'tim', 'dialect', 'republic', 'holding', 'conferring', 'guineas', 'tripped', 'tardy', \"jesus'\", 'cureless', 'superposition', 'palms', 'pronounced', 'toad', 'dies', 'guiltless', 'asterisk', 'miscellaneous', 'maimed', 'coronal', 'invested', 'reign', 'cambric', 'unfrequented', 'wrenching', 'whets', 'spades', 'faster', 'excuse', 'telescopic', 'blushing', 'unsanctified', 'ebon', 'retrieveless', 'banquets', 'reception', 'fasten', 'pellets', 'erred', 'peacock', 'breaths', 'chain', 'whoever', 'peruse', 'roe', 'vermilion', 'obviate', \"fate's\", 'battle', 'abundant', 'anticipation', 'depend', 'flash', 'sufferer', 'indolent', 'contemplating', 'finally', 'grappled', 'weigheth', 'gourmand', 'hammers', 'shoot', 'deforming', 'terminate', 'figment', 'mourn', 'forked', 'blast', 'denounced', 'staples', 'banished', 'fragile', 'inscribes', 'noiseless', 'grimed', 'evades', 'grimace', 'team', 'speculation', 'woven', \"many's\", 'prevent', 'spiritual', \"extinction's\", 'slower', 'pilfered', 'pore', 'importunity', \"clover's\", 'leagueless', 'vouches', 'perplexity', 'beseeching', 'helpless', 'tempest', 'substitute', 'adds', 'trivial', 'rum', 'papa', \"horses'\", \"pizarro's\", 'dishonored', 'saluting', 'babbler', 'jury', 'understanding', 'contemplate', \"gnat's\", \"hadn't\", 'dwindling', 'scaping', 'earthquake', \"suspense's\", 'sending', 'institute', 'bruises', 'wherever', \"anybody's\", 'simultaneous', 'crumbled', 'cinnamon', 'pictorial', 'patriotic', 'priceless', 'placing', 'navigation', 'emerge', 'completeless', 'regardless', 'erudite', 'adreaming', \"a'self\", 'cloak', 'stings', 'traversing', 'swallowed', 'crisis', 'bended', 'spikenards', 'handled', 'sharper', 'turret', 'stoops', 'fickle', 'affronts', 'territories', 'unadorned', 'consciouser', 'sighted', 'films', 'scope', 'swagger', 'selects', 'whittles', 'plaything', 'hesitates', 'outweighs', 'bitterest', 'marbles', 'annuls', 'obelisk', 'assent', 'retrospection', 'repentance', 'malay', 'clue', 'minnows', 'teases', 'virtue', 'shafts', 'envelops', 'blinds', 'logarithm', 'bemoaning', 'anything', 'deformed', 'flinch', 'chastise', 'impel', 'pyrenees', 'hardest', 'gathers', 'values', 'following', 'telegram', 'slightest', 'phosphor', 'braveries', 'parishes', 'palls', 'confused', 'outvie', 'expectant', 'supremacy', 'locks', 'battered', 'exclude', 'offense', 'counting', 'occur', 'chid', 'listens', 'banditti', 'requirements', 'bankrupt', 'piled', 'divided', 'spreads', 'verriere', '1', 'tremendousness', 'sunday', 'tapestry', 'fourth', \"would'st\", 'fumbles', 'gaping', 'divides', 'bearest', 'tippet', 'snapt', 'ducats', 'begging', 'southern', 'dazzle', 'perfidy', 'produce', 'unclaimed', 'poignancy', 'wainscot', 'stroked', 'contenteder', 'natural', 'omen', 'wanderings', 'maybe', 'futures', 'yielding', 'fluent', 'thunders', 'jail', 'crept', 'offend', 'blanketless', 'repair', 'rabbi', 'pointed', 'inheres', 'acuter', 'motions', 'argued', 'solder', 'braid', 'blocked', 'tore', 'wiseness', 'demeans', 'police', 'thumb', 'swimmers', 'blackbirds', 'troubles', 'vicinity', 'decreases', 'swang', 'forms', 'jessamine', 'straggled', 'escutcheon', 'absconds', 'decades', 'parades', 'petition', 'underneath', 'warranted', 'compelled', 'wealthy', 'courtship', 'wealths', 'assignable', 'execute', 'strangles', 'chuckled', 'january', 'peered', \"horror's\", 'fisherman', 'dignified', 'timbuctoo', 'quarter', 'cordiality', 'turtle', 'domain', 'square', 'retrieve', 'prompted', 'bursting', 'elephants', 'receipt', 'populates', 'gird', 'prompter', 'aloof', 'preappointed', 'happen', 'summon', 'reckons', 'abdication', 'opened', 'irony', 'inconceivably', 'treading', 'attracted', \"shouldn't\", 'emerged', 'mangle', 'brimming', 'attended', \"germ's\", \"shepherd's\", 'cart', 'vicious', 'gnashed', 'poems', 'inhales', 'forbids', 'envies', 'barest', 'fonder', 'shopman', 'gusts', 'proffered', 'palaces', 'broached', 'withes', 'neglect', 'suspend', 'dwelling', 'guessing', 'omitted', 'enjoining', 'comprised', \"cleopatra's\", 'consecrate', 'habitation', 'gala', 'impossible', 'patientest', 'interchange', 'properties', 'wrath', 'derision', 'slept', 'remotely', 'anyone', 'cooling', 'shiver', 'stifled', 'puppet', 'artless', 'fleshly', 'hug', 'vesuvian', 'sorer', 'sentinels', 'proving', 'hut', 'interdict', 'shrivers', 'inmates', 'egglife', 'cypherless', 'specify', 'coax', '15', 'tawdry', 'rival', 'curdled', 'ooze', \"elephant's\", 'powder', 'gathering', 'illness', \"prospect's\", 'sorest', 'entomber', 'occupies', 'untold', 'entombed', 'mates', 'suspense', 'invalidates', \"o'ertakenless\", 'blunder', 'occupied', 'hastened', 'invite', 'clung', 'hooded', 'nebo', 'vestments', 'knead', 'answering', 'potential', 'nazareth', 'wanting', 'convulsive', 'channel', 'dread', 'tenantless', 'fundamental', 'probed', 'discerning', 'falls', 'boiling', 'slowest', 'entreaty', 'printed', 'sheets', 'tract', 'tugging', \"cavern's\", 'annul', 'synonym', 'maddest', \"leopard's\", 'bleating', 'drive', 'occidental', 'hurled', 'stockings', 'review', 'affirmed', 'laws', 'lexicon', 'cravat', 'discovered', 'chiselled', 'heeding', 'calumnies', 'babbles', 'geography', 'woos', 'treasure', 'robs', 'jolt', 'infers', 'aimlessly', 'pianos', 'tears', 'enfeebles', 'incredulous', 'robe', 'dreaded', 'plump', 'lighted', 'correctly', 'imps', 'contracts', 'routine', 'freezing', 'aim', 'rejoices', 'nearly', 'lighter', 'clerks', 'boundary', 'stroll', 'encroached', 'artist', 'tremor', 'workman', 'fainted', 'worried', 'predicted', 'landlord', 'finishing', 'reveals', 'encourages', 'incarcerated', 'anchored', 'ignores', 'surgery', 'sport', 'purest', 'bodiless', 'surfaces', \"father'd\", 'ostensibly', 'subsequent', 'fascinated', 'exhilirate', 'glaze', 'hist', 'wests', 'john', 'affecting', 'import', 'geometric', 'moaned', 'recedes', 'caucus', 'anew', 'corridors', 'multiplied', 'retrieverless', 'fearless', 'spartan', 'splendors', 'hurts', 'stiffly', 'suppressed', 'grieved', 'undermine', 'attaches', 'crucifixal', 'possessions', 'spared', \"broker's\", 'millionaire', 'temper', 'demur', 'expended', 'decimals', 'madness', 'infinites', 'hunched', 'gaiety', 'exploit', 'clambered', 'stretched', 'learning', \"dieman's\", 'writing', 'arts', 'umber', 'mark', 'quailed', 'almighty', 'willed', 'rebuilt', 'unrecorded', 'reflex', 'schoolboy', 'wants', 'footless', 'robbed', 'thousand', \"battle's\", 'mocking', 'obscuring', 'careful', 'hostiler', 'solaces', 'shaft', 'codicil', 'amend', 'bereft', 'sobbed', 'le', 'straighten', 'cask', 'notoriety', 'unshaded', 'mound', 'pittances', 'cordage', 'palliate', 'endowed', 'reviled', 'carrara', 'discloses', 'audibler', 'everyday', 'shuts', 'harsh', 'doctor', 'alphabet', 'bowl', 'fewer', 'mole', 'epoch', 'deference', 'struggling', 'numerals', 'pedantic', 'drowsiness', 'thunderbolt', 'mockery', \"fisherman's\", 'cauterize', 'muffled', \"farmers'\", 'driven', 'annulled', 'arose', 'favorites', 'nearness', 'complained', 'angloflorentine', 'intermittent', 'patchwork', 'vacant', \"terror's\", 'untraversed', 'resituated', 'relief', 'effacing', 'gates', 'clog', 'noah', \"beetle's\", 'tossing', 'shouts', 'kill', 'disperse', 'file', 'inaudible', 'passiver', 'thimble', 'augustan', 'bleats', 'heavier', 'joyful', 'momentum', 'styles', 'frown', 'offence', 'zephyr', 'admitting', 'earnest', 'lads', 'vacuum', 'vague', 'stuns', 'tremulous', 'distrustful', 'acquainted', 'burdock', 'pounds', \"a'chase\", 'reduces', 'discarded', 'arithmetic', 'recalls', 'inter', 'reduced', 'falsehood', 'afflict', 'exposed', 'unerudite', 'showman', 'exposes', 'astronomer', 'erase', 'outstaring', 'gross', 'slice', \"there'll\", 'memories', 'fringes', 'garret', 'knife', 'extremest', 'nails', 'ration', 'communicate', 'throe', 'credits', 'hectic', 'assemble', 'bazaar', 'fondness', 'comparison', 'enameled', 'tease', 'zealous', 'island', 'fringe', 'potose', 'informing', 'wolf', 'pockets', 'roam', 'mixed', 'assassin', 'fallacy', 'stratagem', 'wilted', 'amphitrite', 'whiter', 'image', 'blessed', 'gimlets', 'rising', 'jasper', 'verily', 'speculated', 'abrogate', 'alas', 'goliath', 'inadvertent', 'area', 'assumed', 'cicatrice', 'arrogantly', 'stark', 'seesawing', 'poured', 'futile', 'politeness', 'valley', 'simplehearted', 'newmailed', \"child's\", 'postponeless', 'lodgings', 'delayed', \"twouldn't\", 'shroud', 'wiping', 'keepsakes', 'cypherer', \"deity's\", 'trying', 'cords', 'belated', 'cheated', 'preconcerted', 'waste', 'annihilate', 'sears', 'default', 'drills', 'flirt', 'conceiveless', 'trips', 'eternities', 'saviors', 'angled', 'fourscore', 'defences', 'deer', 'sales', 'impalpable', 'grasped', 'planets', 'creak', 'merest', \"satyr's\", 'noticing', 'incautious', 'subjugating', 'oppresses', 'rubbed', 'deserve', 'unanswering', 'memnon', 'event', 'gallows', 'narrowing', 'unaccustomed', 'mathematics', 'earthen', 'forcing', 'fruitless', 'translated', 'peat', 'slant', 'alban', 'gifts', 'indurated', 'bullets', 'mechanical', 'included', 'prudent', 'building', 'disdained', 'consternation', 'loyally', 'calls', 'sobbing', 'groom', 'roams', \"crusade's\", 'doubted', 'sawing', 'transports', 'banishment', 'axles', 'crumpled', 'liar', 'consider', 'ceases', 'roi', 'caused', 'forbidden', 'reportless', 'bosoms', 'foreheads', 'publish', 'suspected', 'settlement', 'slunk', 'shattered', 'apartment', 'sparkling', \"beard's\", \"o'erlooking\", \"'twill\", 'subsides', 'unladed', 'unmeaning', 'parcel', 'egyptian', 'horror', 'swallows', 'denoted', 'cypher', 'balancing', 'purrs', 'bubbles', 'securely', 'meanth', 'lacerating', \"water's\", 'unsuspected', 'trench', 'undone', 'heaves', 'quicker', 'titled', 'withheld', 'adroiter', 'addeth', 'nearing', 'endures', 'bohea', 'intricate', 'zero', 'invention', 'premature', 'delivered', 'chafing', 'flurriedly', 'grinning', 'dial', 'spry', 'wrecked', 'eminent', 'crush', 'tallest', 'attitudes', 'cupboards', 'coronet', 'deathlessness', 'blundered', 'harebell', 'libation', 'propoundeth', 'ranged', 'modify', 'mazarin', 'ranges', 'nevermore', 'concluding', 'november', 'untarnished', 'shops', 'unpuzzled', 'thrift', 'interposed', 'stupor', 'tortoise', 'stopsensation', 'escapeless', 'unproved', 'drawers', 'partaken', 'tranquilly', 'acorn', 'agonized', 'crackling', 'requiring', 'czars', 'aimed', 'trained', 'toys', 'extinction', 'armed', 'denominated', 'slants', 'implore', 'compensate', 'pervaded', 'taken', 'raft', 'injury', 'markets', 'achieving', 'demurer', 'gentlewomen', 'wretched', 'substances', 'presumes', 'goads', 'suffused', 'tested', 'grisly', 'deigned', 'unnumbered', 'fleece', 'debates', 'cluster', 'equation', 'patriarch', 'offended', 'thereat', 'paragraph', 'den', 'wrestles', 'knocked', 'absently', 'marble', 'history', 'compare', 'bogs', 'challenging', 'gallop', 'courtesies', 'stinging', 'sicker', 'states', 'sphere', 'ribaldry', 'imitation', 'despot', 'sharp', 'cornice', 'biography', 'huge', 'siren', 'gibbets', 'licked', 'incisions', 'wantoned', 'deems', 'buenos', 'extinguished', 'surpasses', 'vigilance', 'creature', 'anodynes', 'absconded', 'algebra', 'pinnace', 'questioning', 'tries', 'adventure', 'fervently', 'infects', 'pleaded', 'ballads', 'diggers', 'bleak', 'alps', 'refuse', 'imagery', 'chiefly', 'deluge', 'coat', 'solidities', 'jove', 'dragon', 'fondest', 'barbs', 'skilful', 'shade', 'turnpike', 'victors', 'secreting', 'infant', 'gauges', 'locking', 'auburn', 'outraged', 'attitude', 'dough', \"dilapidation's\", 'replies', 'brig', 'cloudier', 'arrogant', 'saucy', 'style', 'fissure', 'hillsides', 'stephen', 'factories', 'jostled', \"haven't\", 'someone', 'groping', 'gropes', 'vext', 'hunter', 'coeval', 'troubador', 'weeds', 'sweeping', 'towering', 'complain', 'easily', 'exiles', 'evade', 'oppositely', 'disdaining', 'mastered', 'letting', \"isn't\", 'pleasanter', 'weighs', 'hare', 'winnow', 'barbed', 'connect', 'fist', 'suspecting', \"hounds'\", 'tamarind', 'taunted', 'wondered', 'sharpest', 'surrounded', 'imploring', 'thrill', 'health', 'expiation', 'verdict', 'darling', 'occurs', 'henceforward', 'bass', 'risen', 'dirt', 'roofs', 'degreeless', 'porcelain', 'nosegays', 'reason', 'members', 'dirk', 'debase', 'blister', 'pairs', 'reared', 'inspection', 'tenets', 'terrible', 'caption', 'audacity', 'diffuses', 'beggary', 'knots', 'newsboys', 'major', 'unqualified', 'wilder', 'relate', 'contender', 'number', 'slipper', 'elder', 'utters', 'breathless', 'divorce', 'entreated', 'hollows', 'pinned', 'swarm', 'mosaic', 'calculations', 'rates', 'lisping', 'moat', 'store', 'attendants', 'implements', 'pard', \"petition's\", 'downiest', 'treasures', 'precinct', 'doctors', 'albums', 'relieves', 'scheme', 'vitalizes', 'yieldeth', 'double', 'multifold', 'hesitating', \"pleiad's\", 'flocks', 'periphrasis', 'stalk', 'recovered', 'stale', 'treated', 'remembers', 'tongues', \"mine's\", 'golconda', 'bad', \"banquet's\", 'strung', 'ditches', 'heaviest', 'creases', 'muscles', 'comrades', 'bailiff', 'languor', 'null', \"ladder's\", 'hopelessly', \"errand's\", \"evidence't\", 'nests', 'suddenness', 'cave', 'histories', 'couch', 'internal', 'useless', 'comprehended', 'unbared', 'populous', \"angel's\", 'quoth', 'intervened', 'amities', 'eggs', 'flute', 'chart', 'yawn', 'significant', 'achievement', 'giggling', \"savior's\", \"inspection's\", 'notch', 'widewandering', 'stones', 'festal', 'exterminate', 'swelling', 'degrades', 'tambourin', 'session', 'crayon', 'frocks', 'felon', \"crash's\", 'felicity', 'impregnability', 'overwhelmed', 'gilded', 'giant', 'aggravate', 'delinquent', 'anvil', 'ruin', 'rewalks', 'nonchalance', 'surveyed', 'money', \"ruby's\", 'circle', 'indifference', 'pyrites', 'columns', \"sceptre's\", 'invoke', 'mercy', 'pageant', \"comet's\", 'capsule', \"flower's\", 'twill', 'devising', 'deaden', 'devoured', 'keenest', 'sacrificed', 'cleaving', 'gloves', 'weaves', 'signify', 'nibble', 'venerate', 'bare', 'purposeless', 'surrendered', 'heaped', 'preparation', 'learns', 'mechanically', 'probable', 'unrealized', 'myriad', 'playmates', 'puzzlest', 'meaner', 'corruption', 'doubly', 'latin', 'recently', 'missing', 'premises', 'timidly', 'denomination', 'untouched', 'incident', 'succeed', 'scuttle', 'etna', 'dividend', 'bronze', 'needs', 'cubes', \"wouldn't\", 'barely', 'gaunt', 'chastising', \"a'chirrup\", 'connection', 'tightens', 'gamblers', 'lash', \"was't\", 'flies', 'poltroon', 'oversleep', 'deposit', 'manners', \"geneva's\", 'dances', 'dancer', 'simply', 'ghent', 'indefinite', 'expensive', 'smote', 'unaided', 'peninsulas', 'rattle', 'extravagant', 'brick', 'dame', 'box', 'suspicious', 'chatted', 'gap', 'clergymen', 'compromised', 'opposites', 'rocking', 'gad', 'chatter', 'loom', 'conception', 'dungeoned', 'civility', 'bronte', 'forgetting', 'caress', 'fun', 'vitally', 'eclipses', 'flees', 'incognito', 'concernless', 'costly', 'eyelids', 'gamuts', 'guilty', 'danes', 'herein', 'reads', 'triple', 'chasm', 'rid', 'exult', 'aged', 'italy', 'shaw', 'palsied', 'fetching', 'rosy', 'wherein', 'ruler', 'repudiates', 'forgiveness', 'sliver', 'forced', 'keys', 'ultimate', 'leopard', 'flows', 'contrition', 'absolved', 'moving', 'flitting', \"serpent's\", 'ceremonious', 'gambolled', 'motionless', 'supersede', 'solemnity', 'forfeited', 'italicized', 'wedged', 'hasps', 'pricks', 'swiss', 'appalled', 'comprise', 'winces', 'bearer', 'pater', 'scrupulous', 'shivering', 'secrecy', 'birthday', 'reviewed', 'inactive', 'winced', 'questions', 'alternative', 'praying', 'gems', 'sandal', 'cuffs', 'hated', 'decayed', 'speedily', 'eager', 'pronouncing', 'undistinguished', 'location', 'cash', 'easter', 'reverted', 'silken', 'chiefer', 'complaint', 'supersedes', 'complains', 'vindicate', 'spires', 'ruff', 'judgement', 'finding', 'redeem', 'awaken', 'salutes', 'formal', 'knock', 'jots', \"o'ertook\", 'shaped', 'cogs', 'glove', 'shapes', 'individuals', 'yields', 'borrows', 'entice', 'sofa', 'popular', 'tribes', 'spins', 'twixt', 'parade', 'hinted', \"who've\", 'separated', 'sighs', 'hurriedly', 'greener', 'playeth', 'sternly', 'gradually', 'culprit', 'decision', 'scalps', 'religion', 'civilization', 'pelf', 'durabler', \"'twasn't\", 'magnifies', 'anecdotes', 'rub', 'costumes', 'aloft', 'concealed', 'santa', 'vitals', 'ache', 'carol', 'subtract', 'tripping', 'rut', 'dormant', 'goods', \"hair's\", 'gnome', 'piles', 'entailed', 'unhelped', 'firing', 'straightened', \"contentment's\", 'recited', 'ambush', 'gianture', 'fluttering', 'bleeds', 'miracles', 'seeing', 'fruitlesser', 'hissing', 'stitched', 'integral', 'warmed', 'appropriate', 'ananias', 'coil', 'remembrance', 'ellipse', \"skater's\", 'caressed', 'tasting', \"saturn's\", 'borer', 'cuticle', 'aggrandized', 'summertime', 'spar', 'analyze', 'twitter', 'plunge', 'frenzied', 'graciously', 'retina', 'peers', 'haworth', 'reed', 'flaunted', 'stillest', 'cram', 'junior', 'flickers', 'starkest', 'plaudit', 'redeemed', 'stalking', 'planet', 'redress', 'cautiously', 'clipt', 'perishes', 'landscapes', 'reveille', 'noteless', 'curricle', 'partition', 'expedition', 'stripped', 'listening', 'deprive', \"emperor's\", 'mightier', 'chat', 'surveying', 'caviler', 'currer', 'prevail', 'liking', 'vitalless', 'paradox', 'suffuse', 'commonest', 'ballot', 'adoring', 'fears', 'reimbursed', 'nap', 'dimmer', 'mock', 'cellar', 'spurns', 'problems', 'inherited', 'kirtle', 'puncture', 'drab', 'prepares', 'wrinkle', 'meals', 'leaflets', 'dimensions', 'destinies', 'implies', 'threadless', 'rescued', 'strolled', 'ascertained', 'presenting', 'harks', 'solemner', \"israel's\", 'receive', 'evenly', 'essay', 'inflates', 'jason', 'planetary', 'splashing', \"omnipotence'\", 'commoner', 'existing', 'farms', 'broader', 'aristocrat', 'cases', 'issues', 'compact', 'shackles', 'similar', 'peering', 'arid', 'arrogance', 'geranium', 'counterpass', 'scarlets', 'maryland', 'statured', \"show's\", 'flinging', 'panting', 'prudence', 'alden', 'rebuked', 'putting', 'accuse', 'mixing', 'artery', 'drinking', 'physiognomy', 'sublimely', \"t'were\", 'marry', 'flickered', 'fretted', 'artifice', 'busier', 'relation', 'settlers', 'concluded', 'encloses', 'sackcloth', 'mediterranean', 'playmate', 'boots', 'jump', 'compensates', 'enclosed', 'picked', \"monster's\", 'benumbing', 'carlo', 'click', 'unshared', 'waning', 'moan', \"man's\", \"altho'\", 'pleading', 'flowing', \"burdock's\", 'ammunition', 'famish', 'eminently', 'strained', 'industriousness', 'nimble', 'unthinking', 'web', 'gloat', 'unremitting', 'dissuade', 'archness', 'hurls', 'remark', 'conceit', 'coffin', 'asphodel', 'typic', 'salvation', 'delays', 'involves', \"ocean's\", 'reds', 'gossiped', 'deputy', 'disobey', 'conjecturing', 'addressed', 'reckon', 'lodging', 'staple', 'galloped', 'ape', 'fed', 'ushers', 'germ', 'contentment', \"teller's\", 'eagles', 'hiding', 'deport', \"sun's\", 'impotence', 'charcoal', 'porch', 'fiend', 'missile', 'carrying', 'prizes', 'pieces', 'notability', 'practicing', 'unarmed', 'meed', 'pour', 'panter', 'anywhere', 'grin', 'befits', 'control', 'rambled', 'pawn', 'slim', 'tax', 'wampum', 'escaped', 'beckoned', 'unapproached', 'condescend', \"mercy's\", 'intuitions', 'paws', 'varied', 'sit', \"insect's\", 'dandelion', 'mumbled', 'tickling', 'regions', 'struggled', 'manacles', 'banned', 'paler', 'counterfeits', \"attention's\", 'await', 'catacomb', 'corals', 'fatigue', 'discard', 'tier', 'marrow', 'trifling', 'picturesque', 'lines', 'ferret', 'boundlessness', 'scoop', 'chief', 'writ', 'holidays', 'repealless', 'colonnade', 'longest', 'erasing', 'circumscribes', 'wares', 'saturated', 'stamped', 'coolly', 'slumbereth', 'insight', 'perturbed', 'toddled', 'costume', 'knocks', 'tiptoed', 'fortunate', 'industries', 'bridges', 'industrious', 'complicate', 'whereon', 'surgeons', 'accredited', 'blistered', 'shudder', 'playfellow', 'gash', 'degrees', 'yesterdays', 'facilitate', \"dollie's\", 'spell', 'flew', 'invitations', 'sweets', 'discouragement', 'subtraction', 'unwhole', 'cage', 'susceptive', 'flail', \"cannon's\", 'laconic', 'traced', 'slacked', 'identified', 'secures', \"disobedience'\", 'fuzz', 'accompanied', 'slacker', 'gazing', 'legions', 'prevailing', 'commonwealth', 'pitying', 'illuminate', 'quivered', 'scanty', 'parties', 'sportsman', 'fractions', 'seesaw', 'decays', 'separating', 'tarrying', 'stimulants', 'special', 'gallant', 'retaken', 'acknowledgment', 'frontier', \"music's\", 'confess', 'chaos', 'potomac', 'mate', 'oriental', 'unprepared', 'thriving', 'suffices', \"chamois'\", 'ethiop', 'hazard', 'shun', 'ridge', 'philip', 'tulle', 'assiduously', 'repairing', 'tongueless', 'barns', 'diminished', 'steam', 'chilly', 'workmanships', 'allied', 'illocality', 'homelessness', 'retain', 'parallel', 'sorrowful', 'scare', 'timbers', 'scalding', 'finest', 'soldered', 'embarrasses', 'braced', 'possessing', 'microscopes', 'listless', 'alleys', 'lagging', 'affliction', 'disembodies', \"transport's\", 'humblest', 'stocking', 'publication', 'hyperbolic', 'vulgar', 'chased', 'relations', 'merrier', 'prouder', 'amen', 'prone', 'shell', 'terminates', 'chagrin', 'punish', 'explanation', 'negro', 'reverses', 'aught', 'liquid', 'prudenter', 'girdle', 'pointers', 'glowing', 'calamity', 'transgression', 'boyish', 'loves', 'agate', 'bet', 'bard', 'crucify', 'counter', 'wakes', 'arduous', 'trusting', 'spelled', 'cutlery', 'unelected', 'prophetic', 'terribler', 'defending', 'interruptions', 'viewed', 'screw', 'demolishes', 'sprinkles', 'inform', 'skillful', 'mills', 'gravity', 'purchasing', 'precipice', 'sprinkled', 'sufficiency', 'begs', 'mortised', 'autocratic', 'awes', 'glancing', 'scalds', 'regard', 'unless', 'repairs', 'sleigh', 'technicality', 'procure', 'basket', 'cipher', 'segment', 'birdling', 'discourage', 'taints', 'upset', 'disease', 'prickly', 'furnish', 'longcheated', 'wounded', 'anthracite', 'ignite', 'insulators', 'chances', 'text', 'pleases', 'demurred', 'traitor', 'seraph', 'rouge', 'gasping', 'subtracting', 'dowered', 'tire', 'earned', 'unplausible', 'manacle', 'overgrown', 'enamelled', 'brayed', 'tribulation', 'distincter', 'employed', 'handsome', 'thousands', 'indignant', 'spun', 'sued', 'handle', 'recollecting', 'quartering', 'bonds', 'crumbling', 'silas', 'joint', 'legitimate', \"maple's\", 'consecutive', 'leases', 'chips', 'dwellings', 'organ', 'parlors', 'mortals', 'sauntered', 'pleiad', 'stuff', 'wish', 'ministered', 'excesses', 'fixed', \"food's\", 'madam', 'farthest', 'superseding', 'prayers', 'racked', 'turbulent', 'drowse', 'freeze', \"eiderduck's\", 'racket', 'despoiled', 'hallow', 'etchings', 'contusion', 'surmised', 'pedigree', 'clearing', 'intending', 'carriage', \"acorn's\", 'superb', \"did'st\", 'quickest', \"color's\", 'closed', 'invigorated', 'tens', 'bramble', 'gethsemane', 'ability', 'opening', 'weak', 'embarrassment', 'brood', \"or'ter\", 'spoil', 'probing', 'staring', 'exclaim', 'thirsted', 'diligent', 'robberies', 'spray', 'drug', 'admit', 'devour', 'grain', 'rust', 'kinsmanship', 'retrograde', 'conquered', 'murder', 'viands', \"etna's\", 'caverns', 'ransomed', 'distil', 'kings', 'withdrawn', 'erased', 'berdardine', 'tread', 'estimating', 'unspoken', 'caprices', 'whisper', 'copied', 'bellows', 'naples', 'faced', 'shoulders', 'senses', 'painted', 'scrutiny', 'spaniel', 'nobleness', 'lung', 'ushered', 'repetition', 'behooveth', 'divisions', 'wearied', 'settest', 'coals', 'specious', 'appearance', 'chalk', 'apparitions', \"eagle's\", 'promoted', 'wile', 'soundest', 'magnetize', \"ararat's\", 'dumbly', 'prosy', 'ringing', \"can'st\", 'inflicts', \"peril's\", 'sustenance', 'weighed', 'sapling', 'incense', 'claps', 'lambs', 'wreck', 'instincts', 'bandit', 'denial', 'tremble', 'blazed', 'proceeds', 'tumbles', 'units', 'gets', 'clamors', 'material', 'caesar', \"devil's\", 'coaches', 'fierce', 'shamed', 'amulet', 'weld', 'intercede', 'trudge', 'escapade', 'gulfing', 'ravine', 'outgrow', 'mausoleum', 'reefs', 'restore', 'dollie', 'stores', 'cried', 'moments', 'oak', 'accurate', 'ambition', 'affright', 'mistaken', 'crier', 'batteries', 'marauding', 'elemental', 'surpass', 'hauled', 'paul', 'temerity', 'pendulum', 'omit', 'cynic', 'squandering', 'sickened', 'toyed', 'hastening', 'tawny', 'diminuation', 'successor', 'balloons', 'momently', 'rafter', 'wooed', 'increased', 'magnify', 'articles', 'livid', 'cedar', 'immediately', 'amply', 'predestined', 'prest', 'insert', 'lincoln', 'necessary', \"stranger'd\", 'pity', 'heed', 'james', 'liker', 'repressed', 'rebelled', 'accessible', 'stintless', 'straightway', 'sequence', 'belonged', 'gushes', 'searching', 'unattempted', 'daylight', 'husk', 'distracts', 'scatters', 'vicarious', 'empire', 'utterest', 'recognition', \"shan't\", 'supple', 'leak', 'slipping', \"sportsman's\", 'cradle', 'passion', 'economical', 'forgiven', 'nodding', 'striven', 'leader', 'fastenings', 'phantoms', 'buttoned', 'pizarro', 'imperfectly', 'worthy', 'hesperides', 'paste', 'counties', 'noisy', \"cast's\", 'linger', 'eases', 'spilled', 'harder', 'recognized', 'andes', 'peradventure', 'sublimest', 'apostle', \"mine'\", 'baseless', 'boggy', 'brews', 'screamed', 'weather', 'ablow', \"atom's\", 'tabernacle', 'aptitude', 'astronomy', 'van', 'pried', 'justifying', 'unrevealed', \"seller's\", 'trigger', 'resists', 'dingle', 'glid', 'schoolroom', 'ultimates', 'shines', 'admonish', 'repeated', 'lowered', 'wealthier', 'grate', 'highest', 'basin', 'sewed', 'optizan', 'dangerous', 'cells', 'phoebes', 'triumphant', 'warmth', 'placed', 'cruel', 'convince', 'invest', 'labored', 'piece', 'stirring', 'bearing', 'eagerness', 'pin', 'resting', 'devise', 'inadequate', 'betrayed', 'inquisitor', 'necromancer', 'globules', 'fleeting', 'counteract', 'hungered', 'eddies', 'renowned', 'avoided', 'variety', 'deadly', 'importunes', 'detain', 'westminster', 'sick', 'perdition', \"cubit's\", 'dresses', 'satirist', 'draught', 'tides', 'resembles', 'tumble', 'baffling', 'stab', 'shrank', 'ideals', 'sabachthani', 'disclosure', 'honorless', 'rope', 'auxiliary', 'prevalent', 'eddied', 'subscribe', 'lasted', 'rule', 'entreat', \"dog's\", \"cinderella's\", 'graspless', 'caste', 'expands', 'abhor', 'bereaved', 'brokers'])\n",
      "\n"
     ]
    }
   ],
   "source": [
    "from NaiveBayes import *\n",
    "import pickle\n",
    "\n",
    "functional_words = ['the', 'a', 'to', 'of', 'in', 'but', 'me', 'her', 'his', 'on', 'if', 'no', 'one','i', 'he', 'she', 'we', 'it', 'you', 'they', '\\'', 'will', 'may', 'might', 'must', 'am', 'is',\n",
    "                    'are', 'was', 'were', 'be', 'being', 'been', 'have', 'has', 'had', 'do', 'does', 'did', 'shall',\n",
    "                    'will', 'should', 'would', 'can', 'could', 'and', 'for', 'as', 'that', 'my', 'this', 'when', \n",
    "                    'who', 'with', 'by', 'so', 'at', 'or', 'yet', 'from', 'like', 'upon', 'all', 'how', 'thee','our','what'\n",
    "                    'nor', 'unto', 'still', 'too', 'its', 'there', 'then', 'now', 'yet', 'not', 'an', 'some', 'other']\n",
    "\n",
    "set_p = set()\n",
    "set_n = set()\n",
    "\n",
    "# print \"TOP 100 WORDS FOR CLASS \" + POS_LABEL + \":\"\n",
    "for tok, count in nb.all_n(POS_LABEL):\n",
    "    if tok not in functional_words:\n",
    "        set_p.add(tok)\n",
    "#         print '', tok, count\n",
    "print ''\n",
    "\n",
    "# print \"TOP 100 WORDS FOR CLASS \" + NEG_LABEL + \":\"\n",
    "for tok, count in nb.all_n(NEG_LABEL):\n",
    "    if tok not in functional_words:\n",
    "        set_n.add(tok)\n",
    "#         print '', tok, count\n",
    "\n",
    "pos_set = set_p.difference(set_n)\n",
    "neg_set = set_n.difference(set_p)\n",
    "\n",
    "with open(\"pos_seeds_NB.pickle\", 'wb') as f:\n",
    "    pickle.dump(pos_set, f)\n",
    "\n",
    "with open(\"neg_seeds_NB.pickle\", 'wb') as f:\n",
    "    pickle.dump(neg_set, f)\n",
    "    \n",
    "with open(\"pos_seeds_NB.pickle\", 'rb') as f:\n",
    "    pos_set = pickle.load(f)\n",
    "\n",
    "with open(\"neg_seeds_NB.pickle\", 'rb') as f:\n",
    "    neg_set = pickle.load(f)\n",
    "\n",
    "print(len(pos_set))\n",
    "print('Pos Seeds:')\n",
    "print(pos_set)\n",
    "print(len(neg_set))\n",
    "print('Neg Seeds:')\n",
    "print(neg_set)\n",
    "print ''"
   ]
  },
  {
   "cell_type": "markdown",
   "metadata": {},
   "source": [
    "**Question 2.2 (5 points)**\n",
    "\n",
    "Will the top 10 words of the positive/negative classes help discriminate between the two classes? Do you imagine that processing other English text will result in a similar phenomenon?\n",
    "\n",
    "No way, since the most frequent words in English (and, probably, all human languages) have affectively neutral syntactic functions; they constitute the logical architecture of an utterance into which affective content can be embedded. For example: \"I am going to X\" only has one element, X, that can carry affect (\"scream,\" \"laugh,\" \"faint,\" \"die,\" \"sleep,\" etc.), while the rest of the words merely generate situational context for that affect. Processing other English text will almost certainly lead to the same phenomenon."
   ]
  },
  {
   "cell_type": "markdown",
   "metadata": {},
   "source": [
    "**Question 2.3 (5 pts) **\n",
    "\n",
    "The Naive Bayes model assumes that all features are conditionally independent given the class label. For our purposes, this means that the probability of seeing a particular word in a document with class label $y$ is independent of the rest of the words in that document. Implement the `p_word_given_label` function. This function calculates P (w|y) (i.e., the probability of seeing word w in a document given the label of that document is y)."
   ]
  },
  {
   "cell_type": "markdown",
   "metadata": {},
   "source": [
    "Use your `p_word_given_label` function to compute the probability of seeing the word “fantastic” given each sentiment label. Repeat the computation for the word “boring.” "
   ]
  },
  {
   "cell_type": "code",
   "execution_count": 15,
   "metadata": {},
   "outputs": [
    {
     "name": "stdout",
     "output_type": "stream",
     "text": [
      "P('fantastic'|pos): 0.000154458162793\n",
      "P('fantastic'|neg): 3.77720191813e-05\n",
      "P('boring'|pos): 6.18508616873e-05\n",
      "P('boring'|neg): 0.000287275265149\n"
     ]
    }
   ],
   "source": [
    "print \"P('fantastic'|pos):\",  nb.p_word_given_label(\"fantastic\", POS_LABEL)\n",
    "print \"P('fantastic'|neg):\",  nb.p_word_given_label(\"fantastic\", NEG_LABEL)\n",
    "print \"P('boring'|pos):\",  nb.p_word_given_label(\"boring\", POS_LABEL)\n",
    "print \"P('boring'|neg):\",  nb.p_word_given_label(\"boring\", NEG_LABEL)"
   ]
  },
  {
   "cell_type": "markdown",
   "metadata": {},
   "source": [
    "Which word has a higher probability given the positive class, fantastic or boring? Which word has a higher probability given the negative class? Is this what you would expect?\n",
    "\n",
    "\"Fantastic\" and \"boring\" have higher probabilities given positive and negative classes, respectively. Yes, definitely what would I expect, since ironic usage of these words, which would invert their affect, will be far less frequent than their customary usage in a given corpus of sufficient size."
   ]
  },
  {
   "cell_type": "markdown",
   "metadata": {},
   "source": [
    "**Question 2.4 (5 pts)**\n",
    "\n",
    "In the next cell, compute the probability of the word \"car-thievery\" in the positive training data and negative training data."
   ]
  },
  {
   "cell_type": "code",
   "execution_count": 16,
   "metadata": {},
   "outputs": [
    {
     "name": "stdout",
     "output_type": "stream",
     "text": [
      "P('car-thievery'|pos): 3.3798285075e-07\n",
      "P('car-thievery'|neg): 0.0\n"
     ]
    }
   ],
   "source": [
    "print \"P('car-thievery'|pos):\",  nb.p_word_given_label(\"car-thievery\", POS_LABEL)\n",
    "print \"P('car-thievery'|neg):\",  nb.p_word_given_label(\"car-thievery\", NEG_LABEL)"
   ]
  },
  {
   "cell_type": "markdown",
   "metadata": {},
   "source": [
    "What do you notice about \"P('car-thievery'|neg)\"? Why do you see this number? What would happen if we took the log of \"P('car-thievery'|neg)\"? What would happen if we multiplied \"P('car-thievery'|neg)\" by \"P('cliche'|neg)\"? Why might these operations cause problems for a Naive Bayes classifier?\n",
    "\n",
    "P('car-thievery'|neg) is 0 because the token must not occur in the negative class. If we took a log of 0, the heavens would split asunder, mass hysteria, dogs and cats sleeping together, etc. Multiplying any other P by 0 would yield 0, giving us no information about the corpus; it would render a Naive Bayes classifier useless because we assume conditional independence of features and so will eventually want to multiply probabilities together."
   ]
  },
  {
   "cell_type": "markdown",
   "metadata": {},
   "source": [
    "**Question 2.5 (5 pts)**\n",
    "\n",
    "We can address the issues from question 2.4 with psuedocounts. A psuedocount is a fixed amount added to the count of each word stored in our model. Psuedocounts are used to help smooth calculations involving words for which there is little data. Implement\n",
    "`p_word_given_label_and_psuedocount` and then run the next cell. Hint: look at the slides from the lecture on pseudocounts."
   ]
  },
  {
   "cell_type": "code",
   "execution_count": 17,
   "metadata": {},
   "outputs": [
    {
     "name": "stdout",
     "output_type": "stream",
     "text": [
      "P('car-thievery'|neg): 3.46532045897e-07\n"
     ]
    }
   ],
   "source": [
    "print \"P('car-thievery'|neg):\",  nb.p_word_given_label_and_pseudocount(\"car-thievery\", NEG_LABEL, 1.0)"
   ]
  },
  {
   "cell_type": "markdown",
   "metadata": {},
   "source": [
    "**Question 2.6 (getting ready for question 2.10)**\n",
    "\n",
    "*Prior and Likelihood* \n",
    "\n",
    "As noted before, the Naive Bayes model assumes that all words in a document are independent of one another given the document’s label. Because of this we can write the likelihood of a document as:\n",
    "\n",
    "$P(w_{d1},\\cdots,w_{dn}|y_d) = \\prod_{i=1}^{n}P(w_{di}|y_d)$\n",
    "\n",
    "However, if a document has a lot of words, the likelihood will become extremely small and we’ll encounter numerical underflow. Underflow is a common problem when dealing with prob- abilistic models; if you are unfamiliar with it, you can get a brief overview on [Wikipedia](https:/en.wikipedia.org/wiki/Arithmetic_underflow). To deal with underflow, a common transformation is to work in log-space.\n",
    "\n",
    "$\\log[P(w_{d1},\\cdots,w_{dn}|y_d)] = \\sum_{i=1}^{n}\\log[P(w_{di}|y_d)]$"
   ]
  },
  {
   "cell_type": "markdown",
   "metadata": {},
   "source": [
    "Implement the `log_likelihood` function (Hint: it should make calls to the p word given label and psuedocount function).\n",
    "Implement the `log_prior` function. This function takes a class label and returns the log of the fraction of the training documents that are of that label.\n",
    "\n",
    "There is nothing to print out for this question. But you will use these functions in a moment..."
   ]
  },
  {
   "cell_type": "markdown",
   "metadata": {},
   "source": [
    "**Question 2.7 (5 pts) **\n",
    "\n",
    "Naive Bayes is a model that tells us how to compute the posterior\n",
    "probability of a document being of some label (i.e.,\n",
    "$P(y_d|\\mathbf{w_d})$).  Specifically, we do so using bayes rule:\n",
    "\n",
    "  $P(y_d|\\mathbf{w_d}) = \\frac{P(y_d)P(\\mathbf{w_d}|y_d)}{P(\\mathbf{w_d})}$\n",
    "\n",
    "In the previous section you implemented functions to compute both\n",
    "the log prior ($\\log[P(y_d)]$) and the log likelihood\n",
    "($\\log[P( \\mathbf{w_d} |y_d)]$ ). Now, all your missing is the\n",
    "*normalizer*, $P(\\mathbf{w_d})$."
   ]
  },
  {
   "cell_type": "markdown",
   "metadata": {},
   "source": [
    "Derive the normalizer by expanding $P(\\mathbf{w_d})$. You will have to use \"MathJax\" to write out the equations. MathJax is very similar to LaTeX. 99% of the MathJax you will need to write for this course (and others at U Mass) is included in the first answer of [this](https://math.meta.stackexchange.com/questions/5020/mathjax-basic-tutorial-and-quick-reference) tutorial. MathJax and LaTeX can be annoying first, but once you get a little practice, using these tools will feel like second nature.\n",
    "\n",
    "\n",
    "$P(\\mathbf{w_d}) = P(\\mathbf{w_d}|y_d)P(y_d) + P(\\mathbf{w_d}|\\sim{y_d})P(\\sim{y_d})$"
   ]
  },
  {
   "cell_type": "markdown",
   "metadata": {},
   "source": [
    "**Question 2.8 (5 pts)**\n",
    "\n",
    "One way to classify a document is to compute the unnormalized log posterior for both labels and take the argmax (i.e., the label that yields the higher unnormalized log posterior). The unnormalized log posterior is the sum of the log prior and the log likelihood of the document. Why don’t we need to compute the log normalizer here?"
   ]
  },
  {
   "cell_type": "markdown",
   "metadata": {},
   "source": [
    "Since we're using argmax and evaluating a number of log posteriors (here, just two), and every log posterior has the same denominator (the log normalizer), we can ignore the log normalizer. Doing so will preserve proportionality among the log posteriors since we're effectively multiplying all of them by the common denominator."
   ]
  },
  {
   "cell_type": "markdown",
   "metadata": {},
   "source": [
    "**Question 2.9 (15 pts)**\n",
    "\n",
    "Implement the `unnormalized_log_posterior` function and the `classify` function. The `classify` function should use the unnormalized log posteriors but should not compute the normalizer. Once you implement the `classify` function, we'd like to evaluate its accuracy. `evaluate_classifier_accuracy` is implemented for you so you don't need to change that method."
   ]
  },
  {
   "cell_type": "code",
   "execution_count": 9,
   "metadata": {},
   "outputs": [
    {
     "name": "stdout",
     "output_type": "stream",
     "text": [
      "58.5687382298\n"
     ]
    }
   ],
   "source": [
    "print nb.evaluate_classifier_accuracy(1.0)"
   ]
  },
  {
   "cell_type": "markdown",
   "metadata": {},
   "source": [
    "**Question 2.10 (5 pts)**\n",
    "\n",
    "Try evaluating your model again with a pseudocount parameter of 500."
   ]
  },
  {
   "cell_type": "code",
   "execution_count": 10,
   "metadata": {},
   "outputs": [
    {
     "name": "stdout",
     "output_type": "stream",
     "text": [
      "48.2109227872\n"
     ]
    }
   ],
   "source": [
    "print nb.evaluate_classifier_accuracy(500.0)"
   ]
  },
  {
   "cell_type": "markdown",
   "metadata": {},
   "source": [
    "Does the accuracy go up or down when the pseudo count parameter is raised to 500? Why do you think this is?\n",
    "\n",
    "It goes down because as the pseudocount parameter (alpha) approaches infinity, it eclipses out the actual word counts in the corpus, which are comparatively tiny. I got it to hit 50% with an alpha of just over 5000."
   ]
  },
  {
   "cell_type": "markdown",
   "metadata": {},
   "source": [
    "**Question 2.11 (5 pts)**\n",
    "\n",
    "Our trained model can be queried to do exploratory data analysis. We\n",
    "saw that the top 10 most common words for each class were not very\n",
    "discriminative. Often times, a more descriminative statistic is a\n",
    "word's likelihood ratio. A word's likelihood ratio is defined as\n",
    "\n",
    "$LR(w)=\\frac{P(w|y=\\mathrm{pos})}{P(w|y=\\mathrm{neg})}$\n",
    "\n",
    "A word with $LR=5$ is five times more likely to appear in a positive\n",
    "review than it is in a negative review; a word with $LR=0.33$ is one\n",
    "third as likely to appear in a positive review than a negative review"
   ]
  },
  {
   "cell_type": "code",
   "execution_count": 20,
   "metadata": {},
   "outputs": [
    {
     "name": "stdout",
     "output_type": "stream",
     "text": [
      "LIKEHOOD RATIO OF 'fantastic': 4.06091371082\n",
      "LIKEHOOD RATIO OF 'boring': 0.216217429124\n",
      "LIKEHOOD RATIO OF 'the': 1.03406562348\n",
      "LIKEHOOD RATIO OF 'to': 0.943418253584\n"
     ]
    }
   ],
   "source": [
    "# Implement the nb.likelihod_ratio function and use it to investigate the likelihood ratio of \"fantastic\" and \"boring\"\n",
    "print \"LIKEHOOD RATIO OF 'fantastic':\", nb.likelihood_ratio('fantastic', 1.0)\n",
    "print \"LIKEHOOD RATIO OF 'boring':\", nb.likelihood_ratio('boring', 1.0)\n",
    "print \"LIKEHOOD RATIO OF 'the':\", nb.likelihood_ratio('the', 1.0)\n",
    "print \"LIKEHOOD RATIO OF 'to':\", nb.likelihood_ratio('to', 1.0)\n"
   ]
  },
  {
   "cell_type": "markdown",
   "metadata": {},
   "source": [
    "Does it make sense that $LR$('fantastic') $>$ $LR$('to')? \n",
    "\n",
    "Yes, because it is a word with an inherent positive affect, used primarily in contexts where a speaker is indicating great satisfaction, surprised happiness, joy, etc. in response to the subject. \"To\" is structural rather than affective, so its $LR$ should be close to 1."
   ]
  },
  {
   "cell_type": "markdown",
   "metadata": {},
   "source": [
    "** Question 2.12 (15 pts)** \n",
    "\n",
    "Find a review that your classifier got wrong. "
   ]
  },
  {
   "cell_type": "code",
   "execution_count": 22,
   "metadata": {},
   "outputs": [
    {
     "name": "stdout",
     "output_type": "stream",
     "text": [
      "FN: /home/tck/PycharmProjects/CS585HW1/large_movie_review_dataset/test/pos/11646_8.txt\n",
      "In /test/pos, but label is: neg \n",
      "\n",
      "Just to clarify, Matthew Poncelet wasn't a real person, but a character combination of 2 killers who were BOTH convicted and sentenced to die for a murder of two teenagers.<br /><br />I read the User Comments and they react as if Matthew was real. The character is based on a mixture of two killers, Elmo Patrick Sonnier and Robert Lee Willie (who murdered separate people) and the murder itself was based on the one Willie committed. The conflict of both Willie having someone else present and both parties swearing the other did the killing is worked into the story as well.<br /><br />Prejean's approach is unique in that she not only is ministering to the convicts as they wait for their death and aiding them in taking responsibility for their actions, she also reaches out to the victims' families, to help them know that the convict did, indeed feel remorse for what they did-effectively aiding both parties.<br /><br />Everyone posting here seems to have strong beliefs on the Death Sentence. It's not my place to say it's right or wrong-in theory punishing death with death makes some sort of Karmic sense, however denying a person their freedom for the rest of their days, although costly, makes more sense to me-being stuck in a small room 23/7 (with one hour of exercise)for the rest of their days to be reminded of the cruel thing they did seem a more apt punishment-they are technically alive, but denied living. Say someone killed someone so they could get out of the responsibility the person they killed required (like Susan Smith killing her poor kids by shoving her car into a lake). I find it fittingly ironic that they would not get that \"freedom\" they craved and would now have to spend the rest of their days imprisoned.<br /><br />Prejean's point comes through the story very well. She has my respect-she manages to find that balance-she isn't supporting a killer, she is guiding them to accepting what they did. If they didn't feel some kind of remorse, they wouldn't be asking for spiritual guidance.<br /><br />Ona final note, when Poncelet apologizes to Delacroix parent for killing his son, the parents of the girl who was also murdered mutters something about why he didn't apologize for her death. I think the point was that throughout the movie, Poncelet denies killing both kids. There is doubt in Prejean's mind he did both killings-there is a friend who was sentenced but not to death-my thought is that Poncelet killed the Delacroix boy and the other man murdered the girl-hence Poncelet was taking responsibility for what he did. Had he been responsible for the girl's death, he probably would have apologized for that as well.\n"
     ]
    }
   ],
   "source": [
    "# in this cell, print out a review that your classifier got wrong. Print out the text of the review along with the label\n",
    "for label in [POS_LABEL]:\n",
    "    for directory in [TEST_DIR]:\n",
    "        for fn in glob.glob(directory + \"/\" + label + \"/*txt\"):\n",
    "            file = open(fn)\n",
    "            doc = tokenize_doc(file.read())\n",
    "            res = nb.classify(doc, 1)\n",
    "            if res == NEG_LABEL:\n",
    "                print \"FN:\", fn\n",
    "                print \"In /test/pos, but label is:\", res, \"\\n\"\n",
    "                file.seek(0)\n",
    "                out = file.readlines()\n",
    "                for w in out:\n",
    "                    print w\n",
    "                break\n",
    "            file.close()\n",
    "        else:\n",
    "            continue\n",
    "        break\n"
   ]
  },
  {
   "cell_type": "markdown",
   "metadata": {},
   "source": [
    "What are two reasons your system might have misclassified this example? What improvements could you make that may help your system classify this example correctly? "
   ]
  },
  {
   "cell_type": "markdown",
   "metadata": {},
   "source": [
    "#1: The affect of the diction is overwhelmingly negative when considered simply as a bag of words: lots of \"kill,\" \"death,\" \"murder,\" \"punish,\" \"victim,\" etc. But the writer is clearly very engaged with the world of the film and has written about the film in such detail in order to defend the quality of its characterizations; hence, it's an implicitly positive review. At present, the classifier is just dumbly (naively?) building its pos/neg model on the frequency of word counts on labeled texts in the training set. It's incapable of detecting subtleties introduced at the compositional level. To improve this, another function might be written that checks for the presence of compositional tokens typically used to indicate approval discursively (for example, \"I find it fittingly ironic\" or \"point comes through very well\" or \"has my respect\": all of these indicate the writer's approval of how the film handled its material). The presence of these tokens could be included as weights in the $LR$. This is probably one of the simpler ways to introduce some compositional analysis, but such a function would be brittle, relying on a predetermined list of tokens selected by an expert. It would lack generalizability and add a considerable amount of computational complexity.\n",
    "\n",
    "#2. There are a considerable number of \"not\" and \"-n't\"s in this review. Out of curiosity, I generated $LR$s for both: \"not\" = 0.862887136273 and \"n't\" = 0.487664310252, so it seems \"n't\" is more strongly correlated with a negative review, but \"not\" is fairly close to parity. Perhaps excluding \"not\" from the $LR$ calculation would help; after all, \"not\" doesn't have an inherent affect, but serves a logical function, especially in informal double negatives in English: \"I'm not not happy with this film\" and \"I'm not unhappy with this film\" are both expressions of mild approval, but treating \"not\" as an inherently negative term would swing both statements toward a negative misclassification.\n",
    "\n",
    "#3. Expand the training set to include more nuanced reviews like this; that will inform the model that just because kill, kill, kill shows up in a review, it's not necessarily negative. This might have minimal effect unless a much larger body of nuanced texts were introduced into the labeled training set."
   ]
  },
  {
   "cell_type": "markdown",
   "metadata": {},
   "source": [
    "**Extra credit (up to 10 points) **\n",
    "\n",
    "If you don't want to do the extra credit, you can stop here! Otherwise... keep reading... \n",
    " \n",
    "In this assignment, we use whitespace tokenization to create a bag-of-unigrams representation for the movie reviews. It is possible to improve this represetation to improve your classifier's performance. Use your own code or an external library such as nltk to perform tokenization, text normalization, word filtering, etc. Fill out your work in `def tokenize_doc_and_more` (below) and then show improvement by running the following.\n",
    "\n",
    "`nb = NaiveBayes(PATH_TO_DATA, tokenizer=tokenize_doc_and_more)\n",
    "nb.train_model()\n",
    "nb.evaluate_classifier_accuracy(1.0)\n",
    "`\n",
    "\n",
    "Roughly speaking, the larger performance improvement, the more extra credit. However, doing a good job investigating, explaining and justifying your work with small experiments and comments is also extremely important. Make sure to describe what you did and analyze why your method works. Use this ipython notebook to show your work."
   ]
  },
  {
   "cell_type": "code",
   "execution_count": 13,
   "metadata": {
    "collapsed": true
   },
   "outputs": [],
   "source": [
    "def tokenize_doc_and_more(doc):\n",
    "    \"\"\"\n",
    "    Return some representation of a document.\n",
    "    At a minimum, you need to perform tokenization, the rest is up to you.\n",
    "    \"\"\"\n",
    "    # Implement me!\n",
    "    \n",
    "    import nltk, re, pprint\n",
    "    from nltk.tokenize import RegexpTokenizer\n",
    "    \n",
    "#     doc = doc.replace('<', ' <')\n",
    "#     doc = doc.replace('>', '> ')\n",
    "    doc = doc.replace('n\\'t', ' n\\'t')\n",
    "#     doc = doc.replace('<br />', ' ')\n",
    "    doc = doc.replace('!', ' ! ')\n",
    "    doc = doc.replace('?', ' ? ')\n",
    "\n",
    "    bow = defaultdict(float)\n",
    "    tokens = doc.split()\n",
    "    lowered_tokens = map(lambda t: t.lower(), tokens)\n",
    "    \n",
    "    common_set = ['the', 'of', 'and', 'a', 'to',\n",
    "                  'is']\n",
    "    \n",
    "    for token in lowered_tokens:\n",
    "        bow[token] += 1.0\n",
    "    \n",
    "    # remove whatever's after \"not\"?\n",
    "    # your code goes here\n",
    "    for w in common_set:\n",
    "        if w in bow:\n",
    "            del bow[w]\n",
    "    \n",
    "    return bow"
   ]
  },
  {
   "cell_type": "code",
   "execution_count": 14,
   "metadata": {
    "scrolled": true
   },
   "outputs": [
    {
     "name": "stdout",
     "output_type": "stream",
     "text": [
      "REPORTING CORPUS STATISTICS\n",
      "NUMBER OF DOCUMENTS IN POSITIVE CLASS: 600.0\n",
      "NUMBER OF DOCUMENTS IN NEGATIVE CLASS: 644.0\n",
      "NUMBER OF TOKENS IN POSITIVE CLASS: 30531.0\n",
      "NUMBER OF TOKENS IN NEGATIVE CLASS: 32249.0\n",
      "VOCABULARY SIZE: NUMBER OF UNIQUE WORDTYPES IN TRAINING CORPUS: 10527\n"
     ]
    },
    {
     "data": {
      "text/plain": [
       "58.568738229755176"
      ]
     },
     "execution_count": 14,
     "metadata": {},
     "output_type": "execute_result"
    }
   ],
   "source": [
    "nb = NaiveBayes(PATH_TO_DATA, tokenizer=tokenize_doc_and_more)\n",
    "nb.train_model()\n",
    "nb.evaluate_classifier_accuracy(2.4)"
   ]
  },
  {
   "cell_type": "markdown",
   "metadata": {},
   "source": [
    "Use cells at the bottom of this notebook to explain what you did in `better_tokenize_doc`. Include any experiments or explanations that you used to decide what goes in your function. "
   ]
  },
  {
   "cell_type": "markdown",
   "metadata": {
    "collapsed": true
   },
   "source": [
    "At first, I tried a noise-cleaning approach, filtering out the top identical terms in each set, most of which don't carry any inherent positive or negative affect. But after an initial boost, the accuracy started to decline as the set of top common terms increased. I abandoned this approach after about the top-60 common words, except for filtering for the top five or six words.\n",
    "\n",
    "Then I fiddled with removing the annoying HTML \"br /\" tags, since I could see from looking at some sample texts that they were joining random words together into big and often unique tokens that didn't carry any inherent information about the positivity of a review. Sadly, removing them only reduced accuracy! The grammar fiend in me was irked until I considered that the number of paragraphs a reviewer types in might have some relation to their emotional state while they write; perhaps the \"br /\" tags do carry some implicit emotional feature, then.\n",
    "\n",
    "Spurred by this thought, I tried breaking off \"n't\" as an independent token; perhaps a person writing a negative review might be more likely to use this negation? The word counts for \"n't\" in the positive and negative sets are 13,114 and 19,364 respectively, a difference of 67% and surely a good $LR$ indicator. Adding this as a separate token did improve accuracy.\n",
    "\n",
    "Then I thought to try exclamation marks and question marks as independent tokens; they carry emotional content in this kind of text. Counting them separately also helped boost accuracy.\n",
    "\n",
    "Finally, I fiddled with alpha and found that it made a small but noticeable difference, but only when increased. An alpha of 2.4 produced the best result with the other changes.\n",
    "\n",
    "For all that, I only improved accuracy by .888%. This was an interesting problem to play with -- I think I spent more time on it than on the rest of the homework combined -- but I can see that it's more complicated than I assumed at first. Perhaps improving the tokenizer will only take one so far when using a NB model."
   ]
  }
 ],
 "metadata": {
  "anaconda-cloud": {},
  "kernelspec": {
   "display_name": "Python 2",
   "language": "python",
   "name": "python2"
  },
  "language_info": {
   "codemirror_mode": {
    "name": "ipython",
    "version": 2
   },
   "file_extension": ".py",
   "mimetype": "text/x-python",
   "name": "python",
   "nbconvert_exporter": "python",
   "pygments_lexer": "ipython2",
   "version": "2.7.13"
  }
 },
 "nbformat": 4,
 "nbformat_minor": 1
}

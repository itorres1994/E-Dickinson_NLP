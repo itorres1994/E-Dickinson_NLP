{
 "cells": [
  {
   "cell_type": "markdown",
   "metadata": {},
   "source": [
    "## Problem set 1, Intro to NLP, 2017\n",
    "\n",
    "#### This is due on September 22nd at 11PM. Please see detailed submission instructions below.  100 points total.\n",
    "\n",
    "##### How to do this problem set:\n",
    "\n",
    "- What version of Python should I use? 2.7\n",
    "\n",
    "- Most of these questions require writing Python code and computing results, and the rest of them have textual answers. To generate the answers, you will have to fill out a supporting file, `hw_1.py`.\n",
    "\n",
    "- For all of the textual answers you have to fill out have placeholder text which says \"Answer in one or two sentences here.\" For each question, you need to replace \"Answer in one or two sentences here\" with your answer.\n",
    "\n",
    "- Write all the answers in this ipython notebook. Once you are finished (1) Generate a PDF via (File -> Download As -> PDF) and upload to Gradescope (2)Turn in `hw_1.py` and `hw_1.ipynb` on Moodle.\n",
    "  \n",
    "- **Important:** Check your PDF before you turn it in to gradescope to make sure it exported correctly. If ipyhton notebook gets confused about your syntax it will sometimes terminate the PDF creation routine early. You are responsible for checking for these errors. If your whole PDF does not print, try running `$jupyter nbconvert --to pdf hw_1.ipynb` to identify and fix any syntax errors that might be causing problems.\n",
    "\n",
    "- **Important:** When creating your final version of the PDF to hand in, please do a fresh restart and execute every cell in order. Then you'll be sure it's actually right. One convenient way to do this is by clicking `Cell -> Run All` in the notebook menu.\n",
    " \n",
    "- This assignment is designed so that you can run all cells in a few minutes of computation time. If it is taking longer than that, you probably have made a mistake in your code."
   ]
  },
  {
   "cell_type": "markdown",
   "metadata": {},
   "source": [
    "##### Academic honesty \n",
    "\n",
    "- We will audit the Moodle code from a few dozen students, chosen at random. The audits will check that the code you wrote and turned on Moodle generates the answers you turn in on your Gradescope PDF. If you turn in correct answers on your PDF without code that actually generates those answers, we will consider this a potential case of cheating. See the course page for honesty policies.\n",
    "\n",
    "- We will also run automatic checks of code on Moodle for plagiarism. Copying code from others is considered a serious case of cheating."
   ]
  },
  {
   "cell_type": "code",
   "execution_count": 1,
   "metadata": {
    "scrolled": true
   },
   "outputs": [],
   "source": [
    "# Run this cell! It sets some things up for you.\n",
    "\n",
    "# This code makes plots appear inline in this document rather than in a new window.\n",
    "import matplotlib.pyplot as plt\n",
    "from __future__ import division  # this line is important to avoid unexpected behavior from division\n",
    "\n",
    "# This code imports your work from hw_1.py\n",
    "from NaiveBayes import *\n",
    "\n",
    "%matplotlib inline\n",
    "plt.rcParams['figure.figsize'] = (5, 4) # set default size of plots\n",
    "\n",
    "# Some more magic so that the notebook will reload external python modules;\n",
    "# see http://stackoverflow.com/questions/1907993/autoreload-of-modules-in-ipython\n",
    "%load_ext autoreload\n",
    "%autoreload 2"
   ]
  },
  {
   "cell_type": "code",
   "execution_count": 2,
   "metadata": {},
   "outputs": [
    {
     "name": "stdout",
     "output_type": "stream",
     "text": [
      "Oh no! Something is wrong. Check your code which loads the reviews\n",
      "Oh no! Something is wrong. Check your code which loads the reviews\n"
     ]
    }
   ],
   "source": [
    "# download the IMDB large movie review corpus from the class webpage to a file location on your computer\n",
    "import os\n",
    "\n",
    "PATH_TO_DATA = './E-Dickinson_dataset'  # set this variable to point to the location of the IMDB corpus on your computer\n",
    "POS_LABEL = 'pos'\n",
    "NEG_LABEL = 'neg'\n",
    "TRAIN_DIR = os.path.join(PATH_TO_DATA, \"train\")\n",
    "TEST_DIR = os.path.join(PATH_TO_DATA, \"test\")\n",
    "\n",
    "for label in [POS_LABEL, NEG_LABEL]:\n",
    "    if len(os.listdir(TRAIN_DIR + \"/\" + label)) == 12500:\n",
    "        print \"Great! You have 12500 {} reviews in {}\".format(label, TRAIN_DIR + \"/\" + label)\n",
    "    else:\n",
    "        print \"Oh no! Something is wrong. Check your code which loads the reviews\""
   ]
  },
  {
   "cell_type": "code",
   "execution_count": 3,
   "metadata": {},
   "outputs": [
    {
     "name": "stdout",
     "output_type": "stream",
     "text": [
      "Right away, this film was ridiculous. Not that it didn't have redeeming aspects",
      " For example, the best thing about this film was the beautiful background scenery. Anyone not living on the East Coast should know the South doesn't have beautiful mountains like those found in the West. I knew it was Utah right off the bat, but perhaps Dalton couldn't suppress his English accent, so they had to excuse it by saying this was a southern town. Subverting his accent into a Southern one was easier. Sure the film has plot twists, but its phony sense of place was something I couldn't get past. It's not like Utah doesn't have meth labs... so why the writers thought it necessary to pretend it was in the South is beyond me. <br /><br />One other thing in action pictures always puzzles me. Why do they always make the \"cocking\" sound effect when the character pulls out an automatic handgun? It seemed every other sound effect in this movie was a \"chuk-chich\" signifying a 9mm was loaded and ready to fire. Of course, the weapons already had rounds chambered so this was unnecessary. <br /><br />Lastly, the pyrotechnics were WAY over the top. But hey, this film was targeted to a certain 'market segment' I suppose... It's too bad. Each of the actors can act, but this film was lame.\n"
     ]
    }
   ],
   "source": [
    "# Actually reading the data you are working with is an important part of NLP! Let's look at one of these reviews\n",
    "\n",
    "print open(TRAIN_DIR + \"/neg/3740_2.txt\").read()"
   ]
  },
  {
   "cell_type": "markdown",
   "metadata": {},
   "source": [
    "## Part One: Intro to NLP in Python: types, tokens and Zipf's law"
   ]
  },
  {
   "cell_type": "markdown",
   "metadata": {},
   "source": [
    "#### Types and tokens\n",
    "\n",
    "One major part of any NLP project is word tokenization. Word tokenization is the task of segmenting text into individual words, called tokens. In this assignment, we will use simple whitespace tokenization. You will have a chance to improve this for extra credit at the end of the assigment. Take a look at the `tokenize_doc` function in `hw_1.py`. **You should not modify tokenize_doc** but make sure you understand what it is doing."
   ]
  },
  {
   "cell_type": "code",
   "execution_count": 6,
   "metadata": {},
   "outputs": [
    {
     "name": "stdout",
     "output_type": "stream",
     "text": [
      "and\n",
      "both\n",
      "computer\n",
      "abstract.\n",
      "science\n",
      "is\n",
      "practical\n"
     ]
    }
   ],
   "source": [
    "# We have provided a tokenize_doc function in hw_1.py. Here is a short demo of how it works\n",
    "\n",
    "d1 = \"This SAMPLE doc has   words tHat  repeat repeat\"\n",
    "bow = tokenize_doc(d1)\n",
    "\n",
    "assert bow['this'] == 1\n",
    "assert bow['sample'] == 1\n",
    "assert bow['doc'] == 1\n",
    "assert bow['has'] == 1\n",
    "assert bow['words'] == 1\n",
    "assert bow['that'] == 1\n",
    "assert bow['repeat'] == 2\n",
    "\n",
    "bow2 = tokenize_doc(\"Computer science is both practical and abstract.\")\n",
    "for b in bow2:\n",
    "    print b"
   ]
  },
  {
   "cell_type": "markdown",
   "metadata": {},
   "source": [
    "**Question 1.1 (5 points)**\n",
    "\n",
    "Now we are going to count the word types and word tokens in the corpus. In the cell below, use the `word_counts` dictionary variable to store the count of each word in the corpus.\n",
    "Use the `tokenize_doc` function to break documents into tokens. \n",
    "\n",
    "`word_counts` keeps track of how many times a word type appears across the corpus. For instance, `word_counts[\"dog\"]` should store the number 723 -- the count of how many times the word `dog` appears in the corpus."
   ]
  },
  {
   "cell_type": "code",
   "execution_count": 3,
   "metadata": {},
   "outputs": [],
   "source": [
    "import glob\n",
    "word_counts = defaultdict(float)  # you might want to use a defaultdict instead https://docs.python.org/2/library/collections.html\n",
    "                  # defaultdicts are often useful for NLP in python\n",
    "\n",
    "\n",
    "for label in [POS_LABEL, NEG_LABEL]:\n",
    "    for directory in [TRAIN_DIR, TEST_DIR]:\n",
    "        for fn in glob.glob(directory + \"/\" + label + \"/*txt\"):\n",
    "            file = open(fn)\n",
    "            doc = tokenize_doc(file.read())\n",
    "            for k in doc:\n",
    "                word_counts[k] += doc[k]\n",
    "            file.close()"
   ]
  },
  {
   "cell_type": "code",
   "execution_count": 4,
   "metadata": {},
   "outputs": [
    {
     "name": "stdout",
     "output_type": "stream",
     "text": [
      "hrm. Something seems off. Double check your code\n"
     ]
    }
   ],
   "source": [
    "# you should see 990 instances of the word type \"dog\" in the corpus. (updated 9/13)\n",
    "if word_counts[\"dog\"] == 990:\n",
    "    print \"yay! there are {} total instances of the word type dog in the corpus\".format(word_counts[\"dog\"])\n",
    "else:\n",
    "    print \"hrm. Something seems off. Double check your code\""
   ]
  },
  {
   "cell_type": "markdown",
   "metadata": {},
   "source": [
    "**Question 1.2 (5 points)**\n",
    "\n",
    "Fill out the functions `n_word_types` and `n_word_tokens` in `hw_1.py`. These functions return the total number of word types and tokens in the corpus. **important** The autoreload \"magic\" that you setup early in the assignment should automatically reload functions as you make changes and save. If you run into trouble you can always restart the notebook and clear any .pyc files."
   ]
  },
  {
   "cell_type": "code",
   "execution_count": 5,
   "metadata": {},
   "outputs": [
    {
     "name": "stdout",
     "output_type": "stream",
     "text": [
      "there are 12658 word types in the corpus\n",
      "there are 95989.0 word tokens in the corpus\n"
     ]
    }
   ],
   "source": [
    "print \"there are {} word types in the corpus\".format(n_word_types(word_counts))\n",
    "print \"there are {} word tokens in the corpus\".format(n_word_tokens(word_counts))"
   ]
  },
  {
   "cell_type": "markdown",
   "metadata": {},
   "source": [
    "**Question 1.3 (5 points)**\n",
    "\n",
    "You should see a much higher number of tokens than types. Why is that? \n",
    "\n",
    "Because words repeat! Words, words, words, words - see? There are five \"words\" so far, and since a type defines a unique token in a corpus, whereas a token is an instance of a type, we can usually always expect far more tokens than types in a given corpus. The minimum proportion between the two will be 1:1, since a corpus can consist solely of unique words, but you can't have a type in a corpus without having at least one instance of that type. "
   ]
  },
  {
   "cell_type": "markdown",
   "metadata": {},
   "source": [
    "#### Zipf's Law\n",
    "\n",
    "**Question 1.4 (5 points)**\n",
    "\n",
    "In this section, you will verify a key statistical properties of text: [Zipf's Law](https://en.wikipedia.org/wiki/Zipf%27s_law).\n",
    "\n",
    "Zipf's Law describes the relations between the frequency rank of words and frequency value of words.  For a word $w$, its frequency is inversely proportional to its rank:\n",
    "\n",
    "$$count_w = K \\frac{1}{rank_w}$$\n",
    "or in other words\n",
    "$$\\log(count_w) = K - \\log(rank_w)$$\n",
    "\n",
    "for some constant $K$, specific to the corpus and how words are being defined.\n",
    "\n",
    "Therefore, if Zipf's Law holds, after sorting the words descending on frequency, word frequency decreases in an approximately linear fashion under a log-log scale.\n",
    "\n",
    "Please make such a log-log plot by ploting the rank versus frequency.  Use a scatter plot where the x-axis is the *log(rank)*, and y-axis is *log(frequency)*.  You should get this information from `word_counts`; for example, you can take the individual word counts and sort them.  dict methods `.items()` and/or `values()` may be useful.  (Note that it doesn't really matter whether ranks start at 1 or 0 in terms of how the plot comes out.) You can check your results by comparing your plots to ones on Wikipedia; they should look qualitatively similar.\n",
    "\n",
    "*Please remember to label the meaning of the x-axis and y-axis.*"
   ]
  },
  {
   "cell_type": "code",
   "execution_count": 6,
   "metadata": {},
   "outputs": [
    {
     "data": {
      "text/plain": [
       "Text(0,0.5,u'log(frequency)')"
      ]
     },
     "execution_count": 6,
     "metadata": {},
     "output_type": "execute_result"
    },
    {
     "data": {
      "image/png": "[encoded data removed]",
      "text/plain": [
       "<matplotlib.figure.Figure at 0x7fd28379c110>"
      ]
     },
     "metadata": {},
     "output_type": "display_data"
    }
   ],
   "source": [
    "import math\n",
    "x = []\n",
    "y = []\n",
    "X_LABEL = \"log(rank)\"\n",
    "Y_LABEL = \"log(frequency)\"\n",
    "\n",
    "# implement me! you should fill the x and y arrays. Add your code here\n",
    "\n",
    "wc_data = word_counts.items()\n",
    "wc_data.sort(key=lambda (w,c): -c)\n",
    "\n",
    "x = [math.log(i) for i in range(1, len(wc_data)+1)]\n",
    "y = [math.log(i[1]) for i in wc_data]\n",
    "\n",
    "plt.scatter(x, y)\n",
    "plt.xlabel(X_LABEL)\n",
    "plt.ylabel(Y_LABEL)"
   ]
  },
  {
   "cell_type": "markdown",
   "metadata": {},
   "source": [
    "**Question 1.5 (5 points)**\n",
    "\n",
    "You should see some discountinuities on the left and right sides of this figure.  Why are we seeing them on the left?  Why are we seeing them on the right?  On the right, what are those \"ledges\"?\n",
    "\n",
    "The ones on the left represent the handful of highest-ranked, most-frequent tokens. They don't line up nicely on a log-log plot because their frequencies are much, much larger than those of the mid-ranked tokens (the body of the line). The ones on the right represent the very large number of tokens that all have a low frequency: the last three ledges, for example, are the plots of tokens that have frequencies 3, 2, 1 respectively."
   ]
  },
  {
   "cell_type": "markdown",
   "metadata": {},
   "source": [
    "## Part Two: Naive Bayes"
   ]
  },
  {
   "cell_type": "markdown",
   "metadata": {},
   "source": [
    "This section of the homework will walk you through coding a Naive Bayes classifier that can distinguish between postive and negative reviews (at some level of accuracy)."
   ]
  },
  {
   "cell_type": "markdown",
   "metadata": {},
   "source": [
    "**Question 2.1 (5 pts) ** To start, implement the `update_model` function in `hw_1.py`. Make sure to read the function comments so you know what to update. Also review the NaiveBayes class variables in the `def __init__` method of the NaiveBayes class  to get a sense of which statistics are important to keep track of. Once you have implemented `update_model`, run the train model function using the code below. You’ll need to provide the path to the dataset you downloaded to run the code."
   ]
  },
  {
   "cell_type": "code",
   "execution_count": 7,
   "metadata": {},
   "outputs": [
    {
     "name": "stdout",
     "output_type": "stream",
     "text": [
      "REPORTING CORPUS STATISTICS\n",
      "NUMBER OF DOCUMENTS IN POSITIVE CLASS: 600.0\n",
      "NUMBER OF DOCUMENTS IN NEGATIVE CLASS: 644.0\n",
      "NUMBER OF TOKENS IN POSITIVE CLASS: 36759.0\n",
      "NUMBER OF TOKENS IN NEGATIVE CLASS: 38314.0\n",
      "VOCABULARY SIZE: NUMBER OF UNIQUE WORDTYPES IN TRAINING CORPUS: 10537\n",
      "Oh no! Something seems off. Double check your code before continuing. Maybe a mistake in update_model?\n"
     ]
    }
   ],
   "source": [
    "nb = NaiveBayes(PATH_TO_DATA, tokenizer=tokenize_doc)\n",
    "nb.train_model()\n",
    "\n",
    "if len(nb.vocab) == 252165:\n",
    "    print \"Great! The vocabulary size is {}\".format(252165)\n",
    "else:\n",
    "    print \"Oh no! Something seems off. Double check your code before continuing. Maybe a mistake in update_model?\""
   ]
  },
  {
   "cell_type": "markdown",
   "metadata": {},
   "source": [
    "#### Exploratory analysis\n",
    "\n",
    "Let’s begin to explore the count statistics stored by the update model function. Use the provided `top_n` function to find the top 10 most common words in the positive class and top 10 most common words in the negative class. You don't have to code anything to do this."
   ]
  },
  {
   "cell_type": "code",
   "execution_count": 9,
   "metadata": {},
   "outputs": [
    {
     "name": "stdout",
     "output_type": "stream",
     "text": [
      "\n",
      "3593\n",
      "Pos Seeds:\n",
      "set(['limited', 'clamoring', 'pardon', 'powders', 'blisters', 'dynasty', 'astray', 'mirage', 'oldest', 'hate', 'bestowing', 'consolidates', 'marching', 'canes', 'clasps', 'untravelled', 'paris', 'tippler', 'whoso', 'himmaleh', 'painters', '345', 'unroll', '347', '342', 'trousers', 'dukes', 'sway', 'admirations', 'applied', 'tarry', 'cruising', 'compassion', 'destitution', 'merchantmen', \"firmament's\", \"outcast's\", 'helmet', 'attireth', 'caput', 'reforms', 'jacob', 'refrains', 'ladders', 'scholar', 'screws', 'holiness', 'buttonhole', 'laurels', 'conceive', 'talismanic', 'wending', '298', '48', '297', 'harriet', '295', '291', 'landlords', 'faintest', 'eagle', 'lustre', 'stiffens', '270', 'elegant', 'crave', '273', 'charted', '276', '278', '279', 'sterile', 'meekly', 'captain', 'scowled', 'deliberate', 'gambols', 'chin', 'supplied', \"consciousness'\", 'unreality', 'dangles', 'glaciers', 'endorse', 'ebbs', 'numeral', 'emily', 'eves', 'mints', 'crouch', 'screams', 'reporter', 'blesseder', 'error', 'usurps', 'reported', 'protection', 'pursuit', 'path', '100', '101', '106', 'patches', 'separation', '821', 'watchers', 'settler', 'settles', 'culminate', 'reports', 'tankard', 'credit', 'kidd', 'sombre', 'superstitious', 'permit', 'bunker', \"evening's\", 'strews', 'lowlier', 'fantastic', 'poorest', 'straw', 'darlings', \"greatness'\", 'support', 'beak', 'forums', 'affirming', 'sarah', '1001', 'sternest', 'logician', 'occupying', 'cents', 'mightiest', 'overhead', 'tenant', 'survive', 'quibbled', 'zeroes', 'brings', 'moulder', 'acceded', 'warp', '99', 'jocoser', 'withholden', 'chimborazo', 'eternally', 'robbing', '93', 'schoolboys', '94', '97', '96', 'flora', 'language', 'pompadour', 'entertained', 'straits', 'tinder', 'palpitating', 'exhale', \"gabriel's\", 'gloria', 'ascetic', 'freshet', 'defer', 'bridal', 'quiver', '558', 'serpent', 'quaintest', '555', '554', '557', '550', 'dragons', 'mermaids', 'comparative', 'indies', 'soars', '756', 'premium', 'centipede', 'advancing', '1198', 'thessaly', 'complaining', 'auger', 'sitting', 'vagrant', '1194', 'stills', 'rhinoceros', 'twitching', 'kidderminster', 'estimable', 'ancestor', 'unvisited', 'swiftness', 'classify', 'quibble', '1177', '1176', '1175', \"whatsoe'er\", '1170', 'gossipped', 'swing', '1179', '1178', 'diagram', 'blacksmith', 'arch', '1005', 'shimmering', 'plies', 'vera', 'chilled', \"buttercup's\", 'casement', 'austin', 'exhibition', 'greet', 'childhood', 'baggage', 'maintain', '689', 'jumbled', 'ho', 'plied', 'misgives', '687', '686', '681', '680', '683', '682', 'fife', 'deck', 'seldomly', 'hallelujahs', 'profaned', 'befall', '620', 'fable', 'fetched', 'rewarded', 'ritardando', 'demurral', 'fir', '1221', 'defrauded', '1220', 'pines', 'matured', 'endeavoring', '400', 'admirable', \"thunder's\", 'confidently', 'eventually', 'tourist', 'thrones', 'powerful', 'enchants', 'entomology', 'glazes', 'caterpillar', 'detachment', '1020', 'sceptre', 'schools', 'parasols', 'bank', 'meat', 'spigot', 'notified', 'blushes', 'arrested', 'indiaman', 'mead', '371', '370', '373', '375', '374', 'lofty', 'whim', 'kneels', 'meets', 'hybla', 'emeralds', 'bowls', 'crocus', '392', '391', 'depositing', \"we'd\", '395', 'smites', 'flock', '398', 'whir', 'blinded', 'misfortune', 'gladdened', 'driving', 'excepting', 'fellows', 'particles', 'fellowship', 'encourage', 'daniel', 'conjectured', 'sufficeth', 'washes', 'strategist', 'subsiding', 'quaintly', 'endorsement', 'assured', 'veto', 'bouquet', 'admits', '247', '242', 'knit', '684', 'ate', 'bates', 'created', 'refugee', 'ritual', 'ist', 'creates', 'musicians', 'oppose', \"today's\", 'reserving', 'cellars', 'undecaying', 'penury', 'recite', 'imperator', 'toils', 'jessamines', 'enamoring', 'comforted', 'floors', 'delicious', 'fustian', '176', '175', '173', '172', '171', 'portable', 'lulled', 'bahamas', 'rhododendron', 'betrothed', 'top', 'airs', 'compromise', 'flippant', 'architect', 'farming', 'unbroken', '653', 'chanted', 'likest', 'escort', 'enthrall', 'lathed', 'unheard', '651', 'rectified', \"saint's\", 'requisite', 'mayest', 'brushed', 'coursers', 'susan', 'surer', 'bulletins', 'unconjectured', 'preaches', 'coward', 'craved', 'scrutinize', 'headlands', 'inheritors', 'nervous', 'enables', 'countess', 'bridge', '504', 'sees', 'broods', 'fasts', 'shyly', 'vastness', 'enchanted', 'rap', 'accompany', 'sounding', 'dozen', 'praising', 'cactus', 'corkless', 'alibi', 'convenient', 'fitting', 'practices', 'instructs', 'thundering', 'ambuscade', 'justest', 'propitious', 'powdered', 'salubrious', 'detained', 'wrists', \"thomson's\", 'dearer', 'object', 'anatomy', 'plenty', '802', 'rower', 'slides', 'assisting', 'don', 'fitter', 'consumed', 'metal', '805', 'battlement', 'tranquiller', 'briskly', 'swifter', '1142', '1143', 'pardoned', 'pope', 'dames', 'rapture', '1148', 'arrayed', 'prig', 'syntax', \"hemlock's\", 'regiments', 'icicles', 'appease', '692', 'orleans', 'eider', '691', '697', '694', '695', '698', '699', 'adze', 'aspire', 'dusker', '541', 'ebbing', '544', 'lodge', '549', 'axiom', 'wearing', 'tamborin', 'supremest', 'stow', 'breakers', 'da', 'meditate', 'churches', '765', 'dr', 'fabrics', 'bankruptcy', 'vicariously', \"owner's\", '17', 'excelling', 'impanelled', 'illegitimate', 'decoys', '416', 'scantest', 'rune', 'release', 'steal', '419', 'fragrant', 'magicians', 'inns', 'disaster', 'triumphed', 'imitate', 'nut', 'beg', 'unexpectedly', 'hairbreadth', 'depends', 'hero', 'atropos', 'hammer', 'outvisions', 'juliet', 'recordless', 'exponent', 'afloat', 'compensation', 'stealthy', 'mud', 'score', 'meanest', 'ailed', '367', 'faintgoing', '366', \"millner's\", 'infidel', 'amplitude', 'extend', 'admiring', 'pontoon', 'leaping', '380', '383', '384', '385', 'unfold', '387', 'carbon', 'debt', 'sipped', 'deposes', 'horsemen', 'disarms', 'paralyzing', 'adventures', 'demanded', 'receives', 'exceeds', 'distinction', 'federates', 'argue', 'chillest', 'preferment', 'libyan', 'widen', 'vail', 'confide', 'named', 'beckoning', 'condescending', 'cadences', 'drilled', '252', '250', '251', '257', '254', 'tucks', 'parley', 'bosporus', 'dinna', 'communion', 'sponges', 'expected', 'empery', 'thrice', 'honors', 'sprite', 'goodnight', 'fashionless', 'onyx', 'swerveless', '168', '164', '906', '166', 'spin', '161', '163', 'ordnance', 'commerce', 'exception', '907', 'affirm', 'apprehension', 'lilacs', 'reapers', 'pungent', 'dells', 'obeisance', 'ceilings', 'elves', 'rosemary', 'entertains', 'warbled', 'nows', 'seven', 'changed', 'plover', 'leaneth', 'saxton', 'honorable', 'feast', 'nightgowns', 'tissue', 'anticipating', 'exterior', 'inscrutable', 'exile', 'sapped', 'golds', 'hoists', 'alien', 'cools', 'entitles', 'suggest', 'stanza', 'indigence', 'fatal', 'muteness', 'harmony', 'establish', 'bid', 'contenteth', 'entitled', 'independent', 'excellenter', 'peaks', 'swell', '1234', 'endued', 'norwegian', 'confiding', 'supper', '500', 'kid', 'stupendous', 'matters', 'breadths', '1235', 'fashionable', 'boxes', '809', '808', 'resuming', 'qualities', 'centres', '803', 'echoes', '801', '800', '806', 'fittest', 'opinions', 'assembling', 'mingle', 'clemency', 'alluded', 'neighing', 'sleepy', 'maketh', 'sovereigns', 'facts', 'pierless', 'converges', 'scaffolds', 'succeeding', 'previous', 'dining', 'spectacles', 'unable', '323', 'regarded', 'occupants', 'folds', 'julep', 'obedient', 'board', 'falter', 'slave', 'breakfasted', 'showeth', 'atmospheres', '1158', 'casually', 'bands', '1157', '1156', 'bobadilo', 'awhile', 'chorister', 'discreet', 'dreamy', \"camel's\", 'partridge', 'unique', '328', 'advanced', 'vanity', 'shoulder', '59', '55', '54', '52', '535', '533', 'confront', '539', 'vats', 'superlative', 'honored', 'resurrections', 'orchis', 'mowers', 'deaf', 'vaulted', 'revel', '36', 'usher', 'election', 'paragraphs', 'advertise', 'meekest', '204', 'ungracious', 'embodied', 'perchance', 'ruffled', 'richer', 'soto', 'unavoidable', 'sowed', '429', '428', 'ruffles', \"elijah's\", 'shakespeare', 'summoned', 'pondered', 'sower', '425', '427', \"creature's\", 'pinched', 'core', 'columbus', 'sewing', 'prairies', 'overhear', 'incisive', 'filaments', 'caskets', 'presentiment', 'wept', 'indicatives', \"constancy's\", 'spangles', 'conceal', 'coral', 'phlegmatic', 'crucifix', 'worthily', 'meddle', 'ores', 'treble', 'unremembered', 'lief', 'froze', 'rudiment', 'washed', \"lapland's\", 'delighted', 'fern', 'accommodate', 'undermining', 'valleys', \"sovereign's\", 'chime', 'journeying', 'inhabit', '1165', 'rely', 'undiscovered', 'attainments', 'serfs', 'phials', 'frill', 'class', 'gig', 'repudiate', 'accordingly', 'victorious', 'authorized', 'crews', 'naught', 'marauder', 'tints', 'apricot', 'pirouette', 'snowy', 'landing', 'failure', 'hemisphere', '228', '227', '226', '225', '222', 'veiled', 'arrays', 'inside', 'bids', 'unvarying', 'dante', 'crystal', 'humbler', 'midnights', 'zodiac', 'emit', 'adorn', '152', 'sticks', '157', '159', 'flambeaux', \"beauty's\", 'meagre', 'subsist', 'tarnished', 'stirrings', 'floating', 'psalteries', 'constructed', \"kitchen'd\", 'homeliest', 'dotted', 'whereas', 'tip', 'interested', 'tantalize', 'frolic', 'dynasties', 'brothers', 'garland', 'attar', 'sorcery', 'preceding', 'convincing', 'transported', \"let's\", 'trepidation', 'comely', 'intent', 'sabres', 'dappled', 'troupe', 'entrust', 'fainting', 'withstands', 'crumbless', 'fastened', 'happening', 'apology', 'ripenings', 'yacht', 'beds', 'accosts', 'longed', 'addings', 'reendure', 'whetting', 'restored', 'precise', 'teneriffe', 'customary', \"lapwing's\", 'phantasms', 'perch', 'skip', 'rod', 'invent', 'themes', 'infinitude', 'skim', 'dowries', \"spirit's\", 'idolatry', 'primer', 'amplest', 'venice', 'uneven', 'grapples', \"peacock's\", 'hovers', 'hums', 'passage', '818', '819', 'praised', 'skirting', '810', '811', '815', '816', '817', 'feebly', 'retrimmed', '1250', 'penniless', 'droughtless', 'moldlife', 'stays', 'brows', 'feeble', 'partitions', 'oftentimes', 'peg', 'presented', 'posts', 'democrat', 'standards', 'stapled', 'settle', 'robber', 'steeple', 'lever', 'bridalled', '1128', 'upper', 'plummet', 'says', 'temples', 'contrasting', 'bravo', '1122', '1124', '1126', '1127', 'inland', 'cost', 'comforting', 'bales', 'bewildering', 'irritated', 'spectral', 'sappho', 'assistance', 'damask', 'shares', 'wolfe', 'wayward', '526', '527', '520', '1019', '522', 'goer', 'drunkard', 'oaks', 'celebrates', '529', 'remoteness', 'satisfy', 'supporting', 'dwarf', 'climbs', '304', 'conjuror', 'availed', 'russetly', 'hermetic', 'lustrous', 'rubbers', 'address', 'refused', 'appears', 'rarer', 'financiers', 'cuckoo', 'dusty', 'vibrating', 'commonly', 'meeker', 'usually', 'hospitality', '434', '432', '431', 'purchaser', 'retired', 'stubborn', 'etruscan', 'abash', 'retires', 'seashore', 'paralyzed', 'verge', 'slackens', 'overhears', 'scantilly', 'quenching', 'market', 'flavors', 'thro', 'epigea', 'primrose', 'working', 'vineyard', 'spontaneity', 'upheld', 'rowed', 'ripening', 'candidates', 'perceiveless', 'household', 'entrance', 'finitude', 'consoled', 'resurection', 'apparent', 'unpretending', 'consoles', 'drown', 'thenceforward', 'hesitated', 'rendered', 'fumbled', 'merchantman', 'tribunal', 'skaters', 'cap', 'reviews', 'sanctifies', 'quivers', 'incidents', 'phoebe', 'slowness', 'growing', '343', 'arrive', 'ribs', 'admired', 'dedicated', 'iodine', 'hears', 'mirrors', 'frogs', 'expanding', 'auxiliaries', 'agent', 'avocation', 'topic', \"wren's\", 'regale', '239', 'allowed', 'whirls', 'tress', '230', '232', '233', 'pink', 'inheritance', 'nonchalant', 'remit', 'secured', 'eloquent', 'pine', 'fete', 'chemical', 'cardinal', 'supremer', 'adobes', 'druidic', 'youth', 'securer', 'cavil', '147', 'product', '142', '143', '140', '83', 'sacrifice', 'rites', 'pauseless', 'hideth', 'unblushingly', 'improving', 'pilate', 'nomination', 'waggons', 'branches', 'unties', 'slightly', 'ordinance', '131', '123', 'swollen', \"object's\", 'pulled', 'gesture', 'refund', 'joins', 'gradual', 'magistrate', 'argues', 'putteth', 'stile', 'goodmorrow', \"maker's\", 'equip', 'merino', 'boroughs', 'hedge', 'constituted', 'derive', 'jib', 'haughty', \"he's\", 'muses', 'thrives', \"neighbor's\", 'hubbub', 'dustiest', 'spacious', '933', '932', '931', \"steeple's\", 'meridian', 'happened', \"fife's\", 'apron', 'trotwood', 'equipage', 'executors', 'nod', 'doll', 'drowsing', 'brigadier', 'records', 'touching', 'foreignhood', 'resource', 'leopards', 'rattles', 'matched', 'inheriting', 'streaks', 'servant', 'beach', 'corolla', 'sepal', 'chuckles', 'crypts', '829', '828', 'suspends', '825', '827', 'taleless', 'repaired', 'revere', 'girt', 'married', 'ruffle', 'surfeit', 'whosoever', 'busts', 'fr', 'ordain', 'persian', 'farewell', 'inhere', 'beetle', 'hurries', 'bauble', 'transfigured', 'flutes', '797', 'emerges', 'canvas', '794', '792', '791', '790', 'sunburnt', 'abide', '798', 'boundless', 'receiving', 'transmigration', \"miner's\", '1139', 'monster', '1133', '1132', '1137', 'rows', 'sparkled', 'plea', 'ore', 'cloven', 'resumption', 'contemplation', 'bobolinks', 'ministry', 'betides', 'impose', 'bargemen', \"planet's\", 'recompense', '1009', '1008', 'routes', '1006', '513', '1003', '1002', '517', '1000', '623', '622', '1225', '1224', '1223', '626', '625', '624', 'perturbless', '629', 'gallanter', 'disburse', 'clumsy', 'fetches', 'carry', 'chubby', '318', 'partook', 'impetuous', 'peddler', 'unsummoned', 'spurned', 'bite', 'households', 'returns', '2', 'inlands', 'cite', 'climes', 'larder', 'nutrition', 'upbraids', 'season', 'forward', 'prometheus', 'geraniums', \"here's\", 'greenwood', '11', '13', '12', 'affronted', '14', 'sailing', 'elected', '19', 'require', 'resemble', 'blemishless', 'finiteness', 'savant', 'distils', '676', 'protected', 'metre', 'amid', 'gigantic', 'synthesis', 'aragon', 'sublime', 'catching', 'tenure', 'lick', \"snow's\", 'slay', \"lark's\", 'auroran', 'jewels', 'laboreth', 'winding', 'tastes', 'slam', \"apprehension's\", 'elsewhere', 'conversion', 'wink', 'glimmers', 'foreigner', 'aside', 'instructed', 'sciences', 'ideal', 'silently', 'resembling', 'responsibility', 'swelled', '200', 'prick', 'goodbye', 'theatre', 'normal', '208', \"mercury's\", 'zigzag', 'insanity', 'visitors', 'sainted', \"losses'\", 'cleared', 'conspicuous', 'peaceful', 'rascality', 'enamel', \"honey's\", 'sale', 'bade', 'refining', 'anchors', 'unsteady', 'accented', 'quantity', 'intoxicate', \"gibraltar's\", 'walking', 'chapeaux', 'cheat', 'firmamental', 'unfading', 'trod', 'dandelions', 'shod', 'commissary', 'corner', 'tend', 'selectly', 'ratio', 'gulf', 'stained', 'husband', 'distaff', 'staid', 'stains', 'betrothal', 'signifying', 'shrill', 'subjugated', 'hooting', 'pauper', 'compelleth', \"moon's\", 'incivility', 'designated', \"sparrow's\", 'distinctly', 'awaiting', 'homestead', 'prime', 'beseech', 'prima', 'threading', \"neighbors'\", 'mapped', 'reorganizes', 'disparage', '924', 'reels', \"fuchsia's\", 'imposing', 'phraseless', 'committed', 'relative', 'espy', 'slashing', 'staunch', 'unaltered', 'diver', '832', '833', '836', 'troubadour', 'enlightening', '835', 'incite', '839', 'sites', '3', 'anodyne', 'reading', 'buckets', '785', 'recitation', 'elijah', 'peruke', 'hempen', \"who's\", 'stouter', 'dates', '787', '780', '781', '783', 'priests', '788', '789', 'scantly', 'enabling', 'totalness', 'concentrate', 'patrons', 'dated', \"anvil's\", 'delirium', '673', 'expression', 'familiarities', 'unobtained', 'afterwards', 'despaired', 'infiniter', '60', 'slain', 'strengthening', '64', '65', '66', 'babbling', 'stroking', 'evangelists', 'unopened', 'tilts', 'marl', 'repine', 'vacation', 'attendeth', '1038', '1039', 'practised', '508', 'mars', '1032', '507', '1030', '1031', '1036', '1037', 'exhaustion', '1035', 'superfine', '1213', '632', 'certainly', 'lanes', '1217', 'mong', '638', '1218', 'formed', 'implored', 'offers', 'spills', 'foreclosed', 'rustics', 'stems', 'abject', 'chorals', 'ruby', 'argent', 'captivity', 'countless', 'case', 'slumber', 'bequeaths', \"wind's\", 'sophocles', 'terrestial', '1104', '1105', 'programme', \"e'e\", 'forefinger', 'investigating', 'awakened', 'enamors', 'slippers', \"nicodemus'\", 'tilling', 'zenith', 'glanced', \"foxglove's\", 'strait', 'purse', 'commander', 'middle', \"patriarch's\", 'impaled', 'thrills', 'spaces', 'bags', 'develop', 'prithee', 'mouldered', 'shifts', 'arguments', 'ballet', 'events', 'unperceived', 'week', 'noble', 'extended', 'deft', 'assist', 'cheers', 'petticoat', 'fruit', 'despatched', 'climbing', \"host's\", 'bitterer', 'englandly', '133', 'supports', 'bondage', 'magical', 'costs', 'gorse', 'trains', \"diver's\", 'otherwise', 'bodies', 'distills', '214', '212', '210', '211', 'conform', 'sights', '219', 'thew', 'parian', 'slanting', 'therefrom', 'cloy', 'flavorless', 'sprang', '76', 'blot', 'dipped', 'dauntless', 'application', 'mandolin', \"we've\", 'jarred', 'pile', '4', '324', \"temptation's\", 'swim', 'modesties', 'hover', 'omnipotence', 'rules', 'stung', 'department', 'traffic', 'using', 'rebecca', 'satisfaction', 'ignominy', 'particle', 'clad', 'sieves', 'engross', 'interspersion', 'benefit', 'superiority', 'hallelujah', 'kennel', 'clap', 'decoy', 'apartments', 'imprisonment', 'pronounce', 'venerable', 'demeaning', 'diving', \"bee's\", 'perverse', 'insolvency', 'renounce', \"o'\", 'consciously', 'footing', 'beckons', 'vale', 'critical', '919', '915', '917', '916', '913', 'refer', 'ovens', 'metropolis', '1191', 'inspect', 'broker', 'confides', 'loaves', 'resign', 'fractured', 'prattle', 'guillotine', 'refers', 'feeds', '1190', 'potosi', '844', 'placard', '842', '841', 'roar', 'paints', 'choirs', 'insect', 'slender', \"existence's\", 'smouldering', 'bond', 'sanctifying', 'knits', 'chivalry', 'curling', \"stealth's\", 'whites', 'antidote', 'bountiful', 'garner', 'empress', 'earring', 'fritters', 'bedtime', 'unborn', 'tilted', 'jerusalem', 'feudal', 'shells', 'strictly', 'betrays', 'cato', 'brazilian', 'assumes', 'indorsed', '751', '750', 'deepened', 'continents', '755', 'worsted', 'baronial', 'fastidious', 'strikes', '506', 'plucks', 'intoxication', 'survived', '738', 'domingo', 'feather', 'spice', '1025', 'hire', 'october', \"almanac's\", '1022', \"flame's\", 'endears', \"sailor's\", 'bucket', 'artisans', '503', 'rags', 'sadness', 'scorning', 'impute', '1034', 'severally', '397', '501', 'obtains', '605', '604', '606', '1209', 'undertake', '603', '602', 'mundi', '1206', '608', 'watcher', 'toiled', 'britain', 'trundle', \"she'd\", 'walks', 'controlled', 'tranquil', 'moves', 'abasheth', 'cabinets', 'heather', 'discerned', 'waxing', 'thither', 'prism', '5', '1117', 'evenings', 'milking', '1118', 'passerby', 'briefly', '1219', \"a'\", 'shelter', 'aster', 'decree', 'carolled', '488', '484', '483', 'principally', 'pool', '480', 'applause', 'curve', 'gravitates', 'impossibility', 'mast', 'mass', 'boone', \"number's\", 'dyes', 'arrestless', 'bequeathing', 'surge', \"grandame's\", 'ale', 'neigh', 'worms', 'bravest', 'befriend', 'fairness', 'jolly', 'espied', 'sung', 'causes', 'cockade', 'gymnast', 'thoughtfullness', 'tomes', 'tail', 'erects', 'preserved', 'dressing', 'fountain', 'royally', 'pledges', 'appointment', 'returning', 'vassal', 'plausibility', 'puzzles', 'admonition', 'verb', 'minded', 'congenial', 'hems', 'subterranean', 'austerity', 'cunningly', 'groups', \"seraph's\", 'columbine', 'controvertible', 'confederates', 'laying', 'intricately', \"earl's\", 'alms', 'mistaking', 'becometh', 'vanquish', 'angleworm', 'fence', '195', 'abridge', '197', 'vacillating', '191', '192', 'gulfs', 'perception', 'carriages', 'rhymes', 'fiercer', 'squanders', 'imported', 'skeptic', 'swamps', 'imperceptible', 'crust', 'burgundy', 'patti', 'witnesses', 'coroner', 'pulpit', 'intersect', 'multitude', 'asiatic', 'prosaic', 'toes', 'escaping', '1101', 'yellower', 'neutralized', 'threads', 'praises', 'tragedy', 'balles', 'bestirs', '901', 'creeps', 'vespers', '905', 'enmity', '420', 'unrelieved', \"kingdom's\", \"bailiff's\", 'exeter', 'miniature', 'extremer', 'tuscarora', 'sunburned', 'misers', 'cataract', 'statures', \"lord's\", 'family', '271', 'caravan', 'transit', 'solitude', 'beclouded', 'regiment', 'seventeenth', 'helmsman', 'select', '855', '856', '857', '850', '852', '853', \"drama's\", 'contains', '859', 'mori', 'wavering', '6', 'hurrah', 'sincere', 'ballad', 'horses', 'redignified', 'flaw', 'cedars', 'crested', 'quickening', 'stable', 'constructs', \"christ's\", 'apprehensions', 'draughts', 'doon', 'mellow', 'pretense', 'aglow', 'carelessly', \"season's\", 'drearier', 'thickest', 'knocker', 'furloughs', 'bur', \"february's\", 'nine', 'subterfuge', \"so's\", \"tisn't\", 'grope', 'supercilious', 'tabernacles', '740', '741', '742', '743', 'prompt', '746', '748', '749', 'share', 'conspire', 'accept', 'deportments', 'prose', 'resurgam', 'cultivate', 'drest', 'zanzibar', '1050', 'maturing', '1052', '1053', '1055', '1056', '1058', '1059', 'fruition', 'enlarge', 'ratified', 'surpassed', 'untied', 'hallowing', 'sacred', 'reject', 'relinquished', \"'blossom\", 'telegraphic', 'waved', 'plant', 'abdicate', 'petite', '613', '611', '616', '617', '615', 'sceptic', 'mended', 'dimities', 'lighting', 'fe', 'crucifixial', 'waves', 'appealed', 'derives', 'barehead', 'dissolving', 'criticize', 'upholsterer', 'pigmy', 'shady', 'bathed', 'coal', 'opaquest', 'debonnaire', 'tentacles', 'spheric', '736', 'egg', 'infiniteness', 'replied', 'adorned', 'tanks', 'enhances', 'oblique', 'rounder', 'scientist', '499', 'brim', 'signs', '494', '495', 'suffer', '491', '24', \"juggler's\", 'discloser', '22', 'deeds', 'unity', '820', 'actually', 'symptoms', 'harmless', 'dross', 'faltering', 'bout', 'sheaves', 'crawls', 'dolls', '1069', 'nestled', 'worthier', 'musket', 'fee', 'speechless', 'moaning', 'frigid', 'adventurous', 'association', \"dandelion's\", 'frigate', 'trailed', 'level', 'philology', 'token', 'grayest', '1060', 'genoa', 'friendship', 'ports', 'begged', 'inlaid', 'jaws', 'energy', 'idea', '1064', 'exorbitant', 'countrymen', \"enemy's\", 'vivamus', 'ripple', 'chrysoprase', 'orient', 'twists', 'really', 'pellet', 'reverent', 'lovers', 'alcohol', 'wedlock', 'pontius', 'chivalries', 'crowing', 'denotes', 'minuets', 'misses', 'sustain', 'flowed', '7', 'brooches', 'fortitude', 'induced', 'shriven', 'earns', 'rumor', 'drifting', 'lights', 'toiling', 'livelong', 'bartsia', 'qualify', 'tenderest', \"cross'\", 'sere', 'beginning', 'bask', 'heroic', 'whippoorwill', 'english', 'perceptible', 'needing', 'persuading', 'spiciest', \"year's\", 'introduction', 'laureate', 'consequence', 'apocalypse', '1073', 'reinforced', 'antiquary', 'gurgled', 'gazed', 'seeming', \"orchis'\", 'vellum', '1085', 'valentine', 'moorings', 'sympathy', 'compensated', 'mist', '977', '976', '975', 'annealed', 'paint', 'probity', 'leading', 'cradles', 'hallowed', 'contra', '180', 'wonderful', 'forevermore', '184', '1121', 'mama', 'ton', '188', 'smoothed', 'temptations', 'bumble', 'pare', 'gnash', 'statement', 'overbold', 'draped', 'appreciation', 'assumption', 'scantily', 'bower', 'consult', 'prodigious', 'translation', 'rampant', 'unmentioned', '869', '868', 'reverential', 'b', '861', 'gotten', 'volcanoes', '865', 'dikes', '867', 'aristocracy', 'recording', 'marriage', 'kindle', 'ruddier', 'declare', '883', 'uniforms', '885', 'unscrutinized', 'juicy', 'extents', 'emperors', 'lawful', 'pedestrian', 'engulf', 'conjugate', 'surmising', 'blissful', 'confirms', 'oriole', 'option', 'stemless', '356', 'extorted', 'jeopardize', 'cargoes', '418', 'recognizing', 'jostle', 'plashless', \"reap'st\", 'peasants', 'banjo', '774', '776', '771', 'electric', 'coterie', '772', 'elm', 'drowns', '779', '778', 'unused', 'plunder', '74', 'adder', '70', 'gilt', 'pittance', 'bustled', 'extremely', 'soared', '78', 'salary', 'flambeau', '1041', 'chronicle', 'sturdy', 'blent', 'asters', 'barred', 'ingots', 'hindrance', 'warming', 'jordan', 'usual', 'tubes', 'harvests', 'western', 'thomas', 'rebels', '669', '668', '667', '666', '665', '664', '663', '660', 'hillside', 'sanctity', 'carefully', 'hopped', 'occupation', 'stubble', \"robber'd\", 'wraps', 'weeping', '525', 'tapestries', 'writer', 'hospitable', 'aground', 'positively', 'transcendental', 'credulous', 'archangels', 'vivider', 'hip', 'niggard', 'prowess', 'meanwhile', 'sunny', 'famous', 'remedy', 'owls', 'shylock', 'basement', 'during', 'savants', 'banner', '1016', 'molten', 'expositor', 'exhibiting', 'glorified', 'progressive', 'nicknamed', 'tumult', 'nibbles', '404', 'roughest', 'belles', 'surrendering', \"o'erspent\", 'couriers', 'replying', 'wheeling', 'doublet', 'approaching', 'sew', 'arcturus', '862', 'stump', 'leontoden', '311', 'grandfather', '317', '316', '864', 'aims', 'portrait', 'constellation', \"rhodora's\", '1231', 'knees', 'gravitation', 'glistening', 'visiting', 'pictures', 'blurs', 'inebriate', 'muslin', 'woo', 'happiness', 'theatricals', 'vitalize', 'solo', 'competent', 'peniel', 'poorer', \"berry's\", 'tramp', 'carbonates', 'princes', 'diminution', 'alters', 'endows', 'kneeled', 'legislature', 'hoisted', 'c', 'folding', 'adores', 'annual', 'interrogate', 'phosphorous', 'retarded', 'engrossed', 'possesseth', 'afar', 'finds', 'reside', 'sentenced', 'loaf', 'volcanic', 'barometer', 'hummed', 'drunk', 'reasons', 'hewn', 'lake', 'gypsy', 'contemporaneous', 'complied', 'decline', 'dum', 'create', 'overlook', 'add', 'cheeked', 'dug', 'suburbs', \"herschel's\", 'dropping', 'manycolored', 'orioles', 'slips', '659', 'dialogue', 'vat', 'partly', 'flints', 'silenced', 'wet', 'shrewd', 'vane', 'representative', 'porter', 'gag', '964', 'strictest', '961', 'grains', 'raw', '634', '757', 'lovest', '968', '969', 'pressed', 'leaning', 'kissing', 'gamboge', 'dominie', 'stipulus', 'cages', 'pack', \"star's\", 'shortened', 'mote', 'moth', 'leant', 'sentences', 'leans', 'ravelling', 'unafraid', 'lodged', 'loosened', 'timbrels', \"holiday'\", 'shunning', 'renounced', 'funny', 'guido', 'kills', '877', '875', '872', '873', '871', 'stimulated', 'peoples', 'products', 'advise', 'assuages', 'commune', 'literature', 'knitting', '895', \"vandyke's\", 'cigar', 'negotiate', 'soberly', '649', 'citadels', 'uses', 'stripe', 'sagacious', '1248', 'adrift', 'brussels', 'stack', 'tufts', 'tugs', 'surrogate', 'remaineth', 'spent', 'analysis', 'magnified', 'struggles', 'drowsiest', 'cheer', 'withdraw', 'capuchin', 'rears', 'recant', 'latitudeless', '768', '769', 'marshalling', '760', 'morsel', '767', '764', 'ignoble', 'intervals', 'elect', 'preciser', 'cocks', '1079', '1077', 'admission', '1072', 'exercising', '1070', '1071', 'provincially', 'questioned', 'wags', 'snap', 'jehovahs', 'ballots', 'pompeii', 'surprised', 'bin', '1095', '1096', '1097', '678', '679', '674', '675', 'couple', '677', '671', 'wives', 'hoods', 'game', 'flamingo', 'messengers', 'foreigners', 'sherry', 'hindred', 'lunacy', 'sophistries', 'gambrels', 'thews', 'vests', 'almanacs', 'follows', 'fagot', 'strife', 'continue', 'sifts', 'essential', 'refracted', 'frisk', 'aliment', 'obliged', 'fathers', 'undress', 'impeach', 'oval', 'added', 'admitted', 'sprightly', 'pale', 'vivimus', 'facing', 'balms', '773', 'stamens', 'affects', 'epicures', 'clematis', 'exceeding', 'per', 'prop', 'anno', 'providence', '1254', 'slash', 'heat', 'possibler', 'dating', 'terrestrial', 'rectitude', '1259', 'inserting', '309', 'unjaded', 'reddest', '300', 'odor', 'benefactor', 'obscures', 'perpendicular', '307', 'calyx', 'cheered', 'chanting', 'depths', 'drams', 'domenichino', 'portico', 'tracing', 'wrinkles', 'mesmeric', 'classics', 'anterior', 'fleets', 'snatches', 'depose', 'vine', 'frog', 'frames', \"could'st\", 'chirping', 'katie', 'diameters', 'sunsets', \"'scape\", 'learneth', 'spending', 'transcending', 'tingles', 'submit', 'worshipped', 'abbeys', 'caresses', \"bryant's\", 'deified', 'prowling', 'signified', 'bored', '980', 'strives', 'files', 'perplex', 'wakelessness', '1042', 'oils', \"waking's\", 'azof', '984', 'branch', 'hopes', 'capered', 'reel', 'duds', 'peeped', 'charmed', 'patriot', '1045', 'ringlet', \"lover's\", 'harrowing', 'calleth', 'matins', 'easel', \"space's\", 'beguiling', 'eccentric', 'constant', 'gravitations', 'defined', 'specified', 'precept', 'diverse', 'research', 'pasture', 'wove', 'chafes', 'nectars', 'steeper', '958', 'vitallest', 'waywardest', '950', '954', 'occasional', 'beryl', 'parlor', 'fructified', 'transmuted', 'retract', 'aprons', 'elements', 'lend', 'litigants', 'druid', 'visits', 'william', 'develops', \"heaven's\", 'lent', 'dram', \"orient's\", 'heroine', 'mood', 'bases', 'e', 'delineation', 'phaeton', 'cribs', 'vici', 'speculations', 'interdicted', 'responded', 'impatient', 'depth', 'summit', 'weights', 'enrolled', 'leaked', '719', 'sounded', 'demandeth', 'restraining', 'alighting', 'furze', 'cheerful', 'eccentricity', 'windy', 'chariot', 'sixpence', 'dainty', 'fleshless', 'luxuries', 'illegible', 'excludes', 'compose', \"sunrise'\", 'tincture', 'capapie', '1145', 'floss', 'send', 'pathos', 'carnivals', 'foolisher', '1262', 'brooms', 'countenances', 'pleasing', 'wailing', 'indicating', 'ingredient', '308', 'coquettish', 'torture', '718', 'hopper', '715', '714', 'rhyme', '711', '710', 'spoon', 'aspires', '716', 'frigates', '505', 'perches', 'wipe', 'recollected', 'tri', '1068', 'biggest', 'respectful', 'diverging', 'knight', '1063', \"they've\", \"eve's\", 'introductions', 'turbaned', 'kinsmen', \"octave's\", 'chrysophrase', 'havens', 'limitations', '593', '1084', '595', 'pledge', '1081', '598', 'thronging', 'perched', 'curtail', 'concludes', 'ode', 'folk', 'fancied', 'plays', 'evokes', 'transplanted', 'worshipping', 'weariest', 'expressed', 'henceforth', 'relent', 'indian', 'poles', 'scenery', 'lea', '449', '448', 'desires', '693', '441', '440', '447', 'brooch', 'sprung', 'perplexedly', 'asketh', \"investment's\", 'newness', 'convert', 'engage', 'chant', '31', '30', '37', 'titanic', '34', '1241', 'suggests', '1245', '1244', '646', '1249', 'opinion', 'nameless', '1027', 'courting', 'composed', 'felled', '339', 'lords', '334', '337', '336', '331', '330', 'private', '332', 'extravagance', 'practising', 'composer', 'limb', 'comprehendeth', 'tools', 'sermon', 'strapped', 'yclept', 'lens', 'pauses', 'processions', \"liberty's\", 'ices', 'saith', 'asteroid', '843', 'emeline', 'vehicle', 'doublons', 'forefathers', 'depreciate', 'judged', 'wades', 'initial', '845', 'infection', 'charming', 'apprenticed', 'sore', 'hueless', 'train', \"barabbas'\", 'tattered', 'baby', 'central', 'procuring', 'harvest', 'looketh', 'hints', \"thou'rt\", 'gust', 'resown', 'consort', 'tunnel', 'getting', 'reproduce', 'unknowns', 'exhilaration', 'crickets', 'drill', 'remanded', 'admiralty', 'performed', 'wedge', 'wharf', 'reserved', 'madonnas', 'raps', \"mak'st\", 'anemone', 'cowslip', 'legible', 'nears', '849', 'pieced', 'martyr', 'trumpet', 'contempt', 'lamb', 'hinders', 'tamper', 'tableau', 'sic', 'procured', 'swear', 'sentiments', 'forest', 'resoluter', 'mysteries', 'restitution', 'gale', 'filament', 'dnieper', 'plato', 'blocks', 'billows', 'philosophy', 'nullify', 'calvaries', 'consecrated', 'whistle', '946', '944', '945', 'avarice', '941', 'acquitted', 'courage', 'honestly', 'pyramids', 'eventide', 'oversets', 'terminable', 'waltzed', 'reeling', 'wedding', 'sightless', 'embers', 'poetry', 'symbols', 'alacrity', 'beguile', 'swain', '137', 'shreds', '138', 'trusts', 'ancienter', 'silk', 'exclusion', 'lettres', 'thence', 'undressed', 'broom', 'varies', 'banquet', 'heroism', 'babblers', 'inspecting', 'orange', 'clusters', 'blessing', 'crowds', 'spreading', 'belted', 'junction', 'pure', 'existences', 'gauging', '1212', 'fallible', 'stout', 'emerald', 'traverses', 'rotation', \"physician's\", 'landings', 'february', 'titian', 'sleeve', \"night's\", 'undertaking', 'kinsmanless', 'whither', 'blazing', 'sin', 'sufficiently', 'dwelleth', 'pleasures', 'flitted', 'unwind', 'ankles', '708', 'lilac', 'tents', 'doing', 'tepid', '706', '707', 'winked', 'staying', '702', '703', 'constitute', 'whipporwill', 'books', '1263', 'jagged', 'dowerless', '81', '86', 'wander', '84', '85', 'littered', \"billow's\", 'solemnizes', 'wholly', 'organdy', 'traversed', 'thrifty', 'scimitar', 'palmleaf', 'insolvent', 'stun', 'dive', 'announced', '584', '585', '580', 'maize', 'pours', 'galaxies', 'surely', 'peasantry', 'shortest', 'comrade', 'platoon', 'geometry', 'deprived', 'latitudes', 'yarn', \"credibility's\", 'plummetless', 'winged', 'wrote', 'hence', 'benediction', 'receding', 'distinguish', 'spilt', 'arterial', '459', 'incarnate', 'keyless', '450', '451', '453', '454', '455', '456', 'disposed', 'embarrassed', 'desireless', 'drinker', 'equinox', 'eminence', 'sockets', '766', 'demijohn', 'rushes', 'sadly', 'sicily', 'festival', 'system', '657', '654', 'maidens', 'famishing', 'acquiescence', 'wakens', 'travelled', 'fairest', '658', 'beard', 'baptizes', 'halves', 'vigorous', 'quarry', 'plausibly', 'exactly', 'lists', 'excursion', 'notices', 'vouch', 'beseemeth', 'untwist', 'baptized', 'fuzzy', 'july', 'blameless', 'holland', 'parched', 'notelessly', 'gentile', 'hillocks', 'omnifold', 'canticle', 'tenements', 'grander', 'disband', 'candles', 'gambol', 'faints', 'thwarted', 'pampas', 'tidy', 'curved', 'biscayan', 'silenter', 'jug', 'sings', 'clove', 'rosier', 'aprils', 'awed', '322', 'newfashioned', 'supplanted', '321', '326', 'declined', 'ashore', 'mis', 'scooping', 'tinting', 'adieu', 'tinctured', 'tilled', 'subsisting', 'wicks', 'gentility', 'deathless', 'necklace', 'masts', 'rigor', 'prisoner', 'learnt', 'cantons', 'gallery', 'ishmael', \"emigrant's\", \"tide's\", 'refreshing', 'epicure', 'bleaker', 'bred', 'enlist', 'perceiving', 'cranny', 'debar', 'brew', 'marge', 'sail', 'rainbows', 'hamlet', 'obsequious', 'thigh', 'burnished', 'jay', 'sparks', 'brighter', 'planted', 'undivine', 'prancing', 'attained', 'riding', 'bourbon', '994', 'capsules', '993', 'beat', 'massacre', 'flattens', 'unanointed', '121', '122', 'defaced', '126', '838', 'bead', '129', 'exultant', 'wring', 'endless', 'gray', '365', 'sowing', 'conditions', 'nutriment', 'dejected', 'comprising', 'lethargic', \"somebody's\", '130', 'gush', 'rein', 'generations', 'truer', 'withstand', 'requirement', 'pronoun', 'acquired', '1029', '134', 'shrouded', '1028', 'hanged', 'edition', 'computes', 'scholastic', 'slanted', 'sanity', 'allured', 'packed', 'venetian', \"girlhood's\", 'quainter', 'frankfort', 'mien', 'coveting', 'abstemiously', 'hock', 'deposed', \"jacket's\", 'enlarging', \"mower's\", 'monarchs', 'efflorescence', 'reproduced', 'jig', 'sorrow', 'monarchy', 'interfere', 'bolivian', 'gnomes', 'nightfall', 'batize', 'absentee', 'memento', 'bythyme', 'aslant', 'liturgies', 'supplants', 'fulfilled', 'streams', 'urging', 'cinder', 'highland', 'cornets', 'wrestlers', '579', '578', 'co', '386', 'lutes', \"e'er\", '573', '571', 'overcoat', '577', '575', '574', 'commend', 'typify', 'palate', 'redecked', 'confronts', 'feeblest', 'veni', 'flourishing', 'subdue', 'actualize', 'wills', 'induces', 'dazzling', 'immense', '733', '732', '737', 'eliza', 'poet', 'curtain', 'hottest', 'columnar', 'anomaly', 'artisan', 'hyacinth', 'battlements', 'beatrice', '469', 'proudest', '466', '461', '460', '463', 'commuted', '528', 'aforetime', 'bulb', 'napoleon', 'homes', 'splits', 'unlike', 'commandment', 'banquettings', 'persevered', 'westerly', 'aesthetics', 'modestly', 'apprehend', 'appalls', 'thus', 'shanties', 'encouragement', 'bystanders', 'swinging', 'hearted', 'sits', 'portray', 'inquest', 'kissed', 'finity', \"freshet's\", 'member', 'chants', 'flasks', 'merciful', 'auto', 'blooms', 'disseminating', 'esteeming', 'columbia', 'ungained', 'absorb', 'sureties', 'outcast', 'romeo', 'pouting', 'prickled', '720', 'cerements', 'betray', 'steals', 'numbered', 'retard', 'transaction', 'reflection', 'unsown', 'sauntering', 'builder', 'unimpeachable', 'patterns', 'theses', '351', '350', 'unfitted', 'diversify', 'muscle', '359', 'grandmama', \"finger's\", 'discord', 'wren', 'executive', 'sources', 'regulates', 'condescended', 'narcotics', 'gentlest', 'danced', 'vidi', 'clergyman', 'supply', 'deposits', 'capabilities', 'bench', '289', '288', 'emblems', 'combine', 'exempt', 'contempts', '283', '285', 'foundeth', 'ledge', 'government', 'masquerade', 'devised', '1116', \"butterfly's\", \"otter's\", 'cruz', '260', 'five', '266', '265', 'intimates', 'tick', \"who'd\", 'chaoses', 'inviting', 'broadcloth', 'sages', 'noted', 'opera', 'stagger', 'hosts', 'flickering', 'fiercest', 'divest', 'montcalm', 'workmen', 'page', 'heel', 'therein', '988', '989', 'carnations', '982', 'concave', 'portly', 'seraphs', 'library', 'antiquest', 'hush', 'wider', '117', 'growth', 'export', '110', '113', 'convex', 'kinds', 'scares', 'tiaras', 'gables', 'leaden', 'jays', 'competitor', 'shrub', 'exploring', 'gentlefolk', 'marched', 'prodigal', 'bustling', 'melody', 'earrings', 'hoarded', 'panes', 'obey', 'slight', 'oppress', 'poignant', 'expire', 'plumper', 'pulpy', 'gentians', 'furtive', 'sways', 'throne', 'actual', 'incline', 'influences', 'staked', 'freedom', 'merited', 'benumbed', 'seeds', '160', 'insufficient', 'introduced', 'outstripped', 'bugle', 'contending', 'gymnastic', 'reduceless', 'owe', 'cocoa', 'luna', 'artists', 'quaffing', 'gurgle', 'unwinds', 'stocks', 'rejoice', 'boanerges', 'elastic', 'brides', 'splintered', 'challenged', 'illusive', \"vane's\", 'intention', 'enticed', '481', 'glimmer', 'heresy', 'troubling', 'hoofs', 'interest', 'enchantment', '563', '564', '567', 'volume', 'strawberries', 'bun', 'goals', 'liquor', 'wince', 'pelteth', 'eat', 'phosphoric', 'marquis', '1188', '1189', 'flit', '1185', 'recede', '1183', '1180', '1181', '726', '727', '724', '725', '722', 'pippin', '721', 'minutes', 'display', 'strengthens', '729', 'sumptuousness', '1160', 'veiling', 'garter', 'tissues', 'dearth', 'denote', \"domini's\", \"queen's\", 'tumultuous', 'commentators', 'education', 'trailing', 'balcony', 'cavalry', \"magician's\", \"separation's\", \"fiction's\", '46', \"tradition's\", '44', '730', '40', 'adequately', 'unreluctantly', 'farness', 'meteor', 'tightest', 'redden', 'chemist', 'undrained', 'convicts', 'thrum', 'casque', 'inherently', 'stag', 'accomplish', 'seraphim', 'earthly', \"traveller's\", 'intercourse', 'mozart', 'ranks', 'dapperer', 'bakes', 'ripest', 'coquette', 'granitic', '473', '470', '471', 'compete', 'monstrous', '474', 'searched', '478', 'pods'])\n",
      "3611\n",
      "Neg Seeds:\n",
      "set(['aided', 'wound', 'legacies', 'comparatively', 'knelt', 'foul', 'narcotic', 'elegy', 'preface', 'yonder', 'adorning', 'ebbed', 'adown', 'disposers', 'finallest', \"soe'er\", '344', '346', 'bays', '340', 'voted', 'lore', 'portentous', 'tyrannies', 'chill', '348', 'beware', 'alternating', 'statute', 'cenotaph', 'appal', 'oceans', 'stipulate', 'vase', '967', 'tantalizing', 'leisurely', 'thriving', 'affect', 'stabbed', \"mist's\", 'winnowed', 'missionary', 'alpine', 'tickets', 'furrowed', 'strayed', 'conception', 'bronte', 'brimming', 'dungeoned', '299', '296', \"yesterday's\", '294', 'steadfastness', '292', '293', '290', 'dwindled', 'civility', 'ashine', 'sooty', 'preached', \"lightning's\", 'cordially', 'estimates', 'direct', 'pulse', 'inviolable', '272', 'persuade', '274', '275', '277', '582', 'emptiness', 'mason', 'ransack', '583', 'anemones', 'established', 'settlement', 'dangled', \"belief's\", 'ruthless', 'revolver', 'asia', \"bayonet's\", 'sunder', 'reverently', 'underneath', 'tips', 'undisputed', 'basks', 'simultaneously', 'herb', 'interrupting', 'stared', 'herd', '47', '108', '109', '1135', '102', '103', 'stares', 'shriek', '107', 'chink', '105', 'daughter', 'distinctness', 'taper', 'auction', 'mangle', 'envoy', 'piercing', 'buckles', \"a'n't\", 'abolition', 'dimness', 'incognito', 'changes', 'reckoned', 'verdure', 'topography', 'stray', 'pleiads', 'thrust', 'moral', 'amherst', 'coffers', 'swings', 'couch', 'coins', 'bundles', 'glimmering', 'rocking', 'untie', 'forbids', 'knoll', 'strike', 'deathlessness', 'twirled', '341', 'expiring', 'unhelped', \"dungeon's\", 'relay', 'wary', 'successful', 'reign', '98', 'pinching', 'tolerates', '91', '90', 'midst', '92', 'striving', 'slowest', 'shoot', 'cajoles', 'unbraiding', 'divorced', 'permits', 'pursue', '349', 'boldest', 'unshriven', 'mechanic', 'blooming', 'fames', 'piers', \"pain's\", '559', 'quivering', 'artillery', 'organized', 'discovery', '553', '552', 'currency', 'fronting', 'madonna', 'wrenched', 'appearance', '1199', 'provincial', \"o'erpowered\", 'hoe', 'bung', 'popocatapel', 'inhabitants', 'dimple', '1193', '1192', \"steel's\", 'workmanships', '1197', '1196', 'gentian', 'stupidity', 'allied', 'adjacent', 'dignified', 'raffle', 'classifying', '1215', '1174', '1173', '1172', '1171', 'shored', 'famish', 'earlier', 'vicious', 'communicate', 'customs', '1007', 'wrong', 'pushing', 'marshallings', 'greediness', 'brigand', 'foundering', '1004', 'overtaken', 'linnet', 'attracts', 'seduce', '514', 'greek', '89', 'specks', 'parish', '685', 'enfolds', 'inhabitant', 'democratic', 'schoolmates', 'modesty', 'snugly', 'office', \"toby's\", 'dreamed', 'funneled', 'whizzing', \"mantel's\", 'toads', 'suspend', 'ghastly', 'crumbs', 'dwelling', 'welcomes', 'fix', 'embarrasses', 'exhibits', 'comprehend', '407', '406', 'savors', 'convalescent', 'dimity', 'differently', '401', 'clause', 'corinthians', 'weeks', 'corruption', 'pentateuchal', 'possessing', '409', '408', 'coffee', 'prevented', 'weakness', '758', 'safe', \"truth's\", 'drinking', '1229', 'suitor', '1228', 'befalling', 'augustan', 'fetching', 'oxygen', 'swaying', '379', '378', 'transatlantic', 'spotless', 'leaned', 'shrewder', 'volcano', 'pantomine', '372', \"crier's\", 'meal', '377', '376', 'burial', 'preceded', 'schemes', 'telescope', 'jocund', 'garment', \"dower's\", 'gymnasium', '393', 'contracting', '390', 'gates', '396', '394', 'absconds', 'cathedral', '399', 'pounce', 'whining', 'overcame', 'restricted', '897', 'forty', \"stock's\", '898', 'remorse', 'newly', 'forth', 'siren', 'denounced', 'earths', 'gallows', \"despair's\", 'threatened', 'swaggers', '245', '244', 'pumpkins', '241', 'ayre', '243', 'enlightened', 'wanted', '249', '248', 'fret', 'gushes', 'aisle', 'enormous', 'unfulfilled', 'shelves', 'notching', 'pence', 'renew', 'disturbed', 'sprig', 'asphodel', 'repealed', 'rang', 'dunce', 'fantasy', 'spinning', '179', '178', '177', 'titled', 'tamarind', '174', 'gessler', 'speck', 'declaim', 'feeding', 'toy', 'omnipresence', 'rejects', 'protracted', \"etna's\", 'haggard', 'adroiter', 'scrutiny', 'master', 'witnessing', 'gowns', 'unnumbered', 'bethought', 'bitter', 'genesis', 'toe', 'consented', 'curtains', 'solemnly', 'paltry', 'midge', 'leaking', 'embellish', 'nearing', 'wasted', 'abated', 'peculiar', 'stocking', 'mercy', 'pyramidal', 'rabbi', 'target', 'icicle', 'solemnity', 'bitterness', 'seated', 'shower', 'louder', 'guilt', 'blaspheme', 'contrasted', 'acquisition', 'spoiler', 'dishonored', 'courtesies', 'rattle', 'portraits', 'modern', 'shoals', 'rat', 'shaggier', 'mitred', 'regulate', 'mint', \"adhesion's\", 'affairs', 'quieter', 'strength', 'adamantine', 'metallic', 'illocality', 'absorbed', 'laughed', 'explanation', \"girl's\", 'decalogues', \"peddler's\", 'stirrup', \"elf's\", 'replenished', 'troughs', 'mashed', 'rumble', 'involving', 'mashes', 'phantasm', 'peevish', 'expound', 'constancy', 'statelier', 'richard', 'neighborhoods', 'camp', 'vindicate', 'doe', 'definitely', 'consummate', 'forsook', 'entertaining', 'incomplete', '1067', 'planetary', '1140', '1141', '1146', '1147', '1144', 'unhooked', 'alight', '1149', 'nominated', 'eminent', 'undue', 'siroccos', 'failest', 'gauge', 'tempted', 'bearer', 'chaos', '690', '696', 'explain', 'bust', 'institution', '542', '543', 'lisps', 'joggling', '546', 'deepest', 'pursuing', 'folks', 'telegrams', '548', 'dullness', 'establishes', 'mouths', 'gored', 'repealless', 'pomposity', 'report', 'congealed', 'blundered', '991', 'etiquettes', 'briefer', \"andre's\", 'nicely', 'rowing', 'excel', 'dipping', '414', '415', 'eyelids', '417', '410', '411', '412', '413', 'ban', 'reposed', 'steam', 'ears', 'reprieves', 'enfranchised', 'resist', 'swindlers', 'cattle', 'miserable', 'resigned', 'clef', 'sevres', 'suspicious', \"eden'll\", 'shaven', 'ranged', 'rings', 'calamity', 'artificial', 'hallow', 'narrates', 'overgrown', 'endowal', '368', '369', 'scorn', '364', '362', '363', '360', '361', 'claws', 'crayons', 'splinter', 'invigorated', \"stubble's\", 'souvenir', 'stripped', '381', '382', 'laureates', '388', '389', 'picking', 'hundreds', 'tyranny', 'patented', 'climate', '1078', 'cow', \"spectre's\", 'coy', 'fault', 'incense', 'players', 'gasped', 'planned', 'homesickness', 'tinge', 'decayed', 'lenses', 'gushed', 'smuggled', 'abbreviate', 'gathering', 'fondled', '258', '259', 'infirm', 'majestic', '253', '256', 'shortness', 'priscilla', '255', 'paralyze', 'petty', 'basis', 'ropes', 'fro', 'quickly', 'tine', 'pronouncing', '116', '104', 'progenitor', 'captives', 'superhuman', 'tallest', 'exactness', 'leech', 'haranguer', '903', 'bereavement', 'sabachthani', 'craft', 'hoist', '169', 'dote', 'catch', '165', '167', '162', 'gracious', 'harms', 'sly', 'contemplated', 'dissect', \"earth's\", 'aim', 'abrupt', 'bloomed', 'poinards', 'aid', 'overtaking', 'anchor', 'skirts', 'paeans', 'wishfulness', 'equator', 'extemporizing', 'defeated', 'litanies', 'eighteen', 'jest', 'enfeebles', 'violin', 'bounteous', \"glory's\", 'complains', 'hone', 'memorial', 'emergency', 'drawers', 'deepens', 'tucking', 'sovereignties', 'oozed', 'plated', 'grapple', 'swarthy', 'unbereft', 'plates', 'convictions', 'emphatic', 'unconcern', 'exertion', 'fairly', '670', '1087', 'suburb', 'fuse', \"revelation's\", 'ravelled', 'jealous', 'nurtured', 'blamed', 'punctuate', '1086', 'embarrassments', 'possessed', '521', 'lonelier', 'deploys', 'alarms', 'milliner', 'smoked', '807', '33', '804', 'outlived', 'mourners', 'empire', 'plash', \"poet's\", 'forsakes', 'puncture', 'identify', 'battles', 'victim', 'extol', 'burgoyne', '992', 'agile', '320', \"tho'soever\", 'pharmacy', 'trampled', 'autumns', 'espoused', 'exorcised', 'designate', 'beholds', '119', '1159', '1155', '1154', '325', '1151', '1150', '1153', '1152', 'descending', 'mortised', 'distincter', 'scruple', '58', 'dignity', '329', 'rustle', 'mansions', 'visible', 'shade', '57', 'gifted', '51', \"table's\", '53', '537', '536', '534', '532', '531', '530', 'security', '538', 'mate', '56', 'squander', 'rustling', 'tenantless', 'inquisitor', 'unnecessary', 'scrabble', \"urchin's\", 'stealthily', 'rill', 'enemies', 'denies', 'unsuspecting', 'bottom', 'ebon', 'probed', 'dispelled', 'shrivelled', 'confusion', 'beating', 'baize', '426', 'wiping', \"conjecture's\", 'shakes', 'entice', 'illustration', 'procure', 'sleigh', 'sift', 'soberer', 'burs', 'softness', 'capacious', 'post', 'manufacturing', 'properties', 'chafe', \"something's\", 'rallying', 'boiling', 'attacks', 'dollars', 'accepts', 'plying', \"fame's\", 'blithe', 'crumpled', 'bearest', 'steadily', 'sob', 'formerly', 'barbs', 'puzzle', 'chooses', 'consummated', 'wrap', 'refined', 'emigrate', 'effaces', 'waits', 'subdivide', 'avail', 'derision', 'striding', 'fought', 'greatness', 'launching', 'birdling', 'attempted', 'heal', 'maddest', '229', 'astonished', 'blindness', '224', '223', '221', '220', 'counsel', 'vive', 'builds', 'happen', 'undefeated', 'bargain', 'twixt', 'anew', 'submitting', 'clawed', 'attaches', 'temper', 'hurriedly', '151', 'prayed', '153', \"dieman's\", '154', '156', '158', 'umpire', 'disclosing', 'wretched', 'covers', 'disease', 'unconspicuous', 'marksman', 'grappling', 'ship', 'cutlery', 'mole', 'unsuspended', 'angloflorentine', 'locality', 'skirted', \"moment's\", 'tossing', 'vanishes', 'crowns', 'til', 'tim', 'dialect', 'republic', 'holding', 'conferring', 'guineas', 'tripped', 'tardy', \"jesus'\", 'cureless', 'superposition', 'palms', 'pronounced', 'toad', 'dies', 'guiltless', 'asterisk', 'miscellaneous', 'maimed', 'coronal', 'invested', 'award', 'cambric', 'unfrequented', 'whets', 'spades', 'cheated', 'tested', 'telescopic', 'blushing', 'unsanctified', \"ladder's\", 'retrieveless', 'banquets', 'reception', 'fasten', 'pellets', 'erred', 'peacock', 'breaths', 'chain', 'whoever', 'peruse', 'roe', 'vermilion', 'obviate', \"fate's\", 'battle', 'abundant', 'anticipation', 'depend', 'religion', '95', 'bandaged', 'flash', 'sufferer', 'indolent', 'contemplating', 'finally', 'grappled', 'weigheth', 'gourmand', '812', '813', '814', 'abundance', 'deforming', 'demurred', 'figment', 'mourn', 'forked', 'blast', '423', 'coeval', '422', 'staples', 'banished', 'embarrassment', 'fragile', 'inscribes', 'noiseless', 'grimed', 'evades', 'grimace', 'team', 'speculation', 'woven', \"many's\", 'prevent', 'spiritual', \"extinction's\", 'slower', 'hesitating', '1120', 'pilfered', '1123', 'pore', '1125', \"clover's\", 'leagueless', 'vouches', 'perplexity', 'beseeching', 'helpless', 'tempest', 'substitute', 'unattempted', 'adds', 'gasping', 'anecdotes', 'thereat', '524', \"pizarro's\", '1018', 'babbles', '523', '1014', '1015', '1017', '1010', '1011', '1012', '1013', 'jury', '1232', 'beck', 'understanding', 'contemplate', \"gnat's\", \"hadn't\", 'dwindling', 'scaping', 'earthquake', 'box', 'sending', 'discount', 'institute', 'bruises', 'wherever', \"anybody's\", 'simultaneous', 'crumbled', 'cinnamon', '438', '439', '436', '437', '435', 'navigation', '433', '430', 'hastening', 'emerge', 'completeless', 'regardless', 'erudite', 'adreaming', \"a'self\", 'jolt', 'audacity', 'stings', 'traversing', 'swallowed', 'crisis', 'challenging', 'bended', 'spikenards', 'handled', 'sharper', 'turret', 'stoops', '747', 'fickle', 'emits', 'territories', 'unadorned', 'consciouser', 'sighted', 'haworth', 'scope', 'swagger', 'selects', 'whittles', 'perishes', 'hesitates', 'outweighs', 'bitterest', 'marbles', 'annuls', 'obelisk', 'assent', 'retrospection', 'repentance', 'malay', 'clue', 'minnows', 'goods', 'virtue', 'shafts', 'envelops', 'earldom', 'blinds', 'logarithm', 'bemoaning', 'piles', 'deformed', 'thousands', 'chastise', 'impel', 'pyrenees', 'hardest', 'gathers', 'values', 'resembles', 'following', 'chapter', 'slightest', 'imitation', 'braveries', '995', 'parishes', 'palls', 'confused', 'outvie', 'expectant', 'supremacy', 'locks', '996', '238', 'battered', 'sharp', '234', '235', '236', '237', '231', 'chid', 'listens', 'banditti', 'requirements', 'bankrupt', 'piled', 'divided', 'spreads', 'verriere', 'bronze', '918', 'sunday', 'biography', 'fourth', \"would'st\", 'gaping', 'divides', 'banker', '146', '144', '145', 'tippet', 'snapt', '1051', 'ducats', 'begging', 'southern', 'needs', '148', '149', 'perfidy', 'produce', 'unclaimed', 'poignancy', 'wainscot', 'stroked', 'contenteder', 'natural', 'omen', 'wanderings', 'maybe', 'futures', 'yielding', 'fluent', 'thunders', 'jail', 'crept', 'offend', 'flagged', 'legitimate', 'blanketless', 'seeing', '1195', 'pointed', 'inheres', 'clerks', 'motions', 'argued', 'solder', 'braid', 'blocked', 'tore', 'wiseness', 'demeans', 'police', 'thumb', 'blackbirds', 'troubles', 'vicinity', 'decreases', 'swang', 'forms', 'jessamine', '938', 'straggled', 'escutcheon', 'main', 'decades', 'parades', 'petition', '934', 'amulet', 'lesser', 'compelled', 'wealthy', 'courtship', 'wealths', 'assignable', 'execute', 'chuckled', 'january', 'peered', \"horror's\", 'fisherman', \"letter's\", 'timbuctoo', '824', 'quarter', 'cordiality', '823', '822', 'turtle', 'domain', 'square', 'retrieve', 'prompted', 'bursting', 'elephants', 'receipt', '618', 'populates', 'gird', 'fever', 'aloof', 'preappointed', 'counteract', 'pleiad', 'propitiate', 'reckons', 'abdication', '796', '795', '793', 'opened', 'recovered', 'irony', 'algebra', '799', 'treading', 'attracted', 'anywhere', \"shouldn't\", 'emerged', 'timidness', 'costumes', '1138', \"germ's\", '1131', '1130', '1136', 'cart', '1134', 'gnashed', 'patientest', 'poems', 'inhales', 'finishing', 'card', 'envies', 'barest', 'fonder', 'shopman', '519', '518', 'proffered', 'palaces', 'broached', '511', '510', '512', '515', 'neglect', '516', '1227', '1226', '621', 'placing', '627', '1222', 'madam', 'omitted', '628', 'enjoining', 'comprised', 'arduous', \"cleopatra's\", 'consecrate', 'habitation', 'gala', 'impossible', 'fourscore', 'interchange', 'wrath', 'effaced', 'slept', 'remotely', 'anyone', 'cooling', 'shiver', 'stifled', 'puppet', 'artless', 'fleshly', 'hug', 'vesuvian', 'sorer', 'sentinels', 'proving', 'hut', 'interdict', 'shrivers', 'whist', 'inmates', 'egglife', 'cypherless', 'specify', 'chiefly', '10', 'tawdry', '16', 'rival', 'curdled', '547', 'ooze', \"elephant's\", \"eiderduck's\", 'revering', 'addressing', 'illness', \"prospect's\", 'sorest', 'entomber', 'occupies', 'untold', 'entombed', 'mates', 'facilitate', 'invalidates', \"o'ertakenless\", 'blunder', 'occupied', 'surgery', 'invite', 'clung', 'hooded', 'nebo', 'vestments', 'knead', 'answering', 'potential', 'nazareth', 'wanting', 'caressed', 'convulsive', 'channel', '688', '201', 'wilted', '203', '202', '205', 'fundamental', '207', '206', '209', 'discerning', 'falls', 'plumbing', 'entreaty', 'printed', 'sheets', 'tract', 'tugging', \"cavern's\", 'annul', 'synonym', 'garments', \"sunset's\", 'bleating', 'drive', 'occidental', 'hurled', 'stockings', 'review', 'affirmed', 'laws', 'urge', 'lexicon', 'startle', 'cravat', 'discovered', 'chiselled', 'faster', \"mine'\", 'heeding', 'calumnies', 'fifth', 'geography', 'woos', 'compassed', 'treasure', 'robs', 'cloak', 'infers', 'aimlessly', 'pianos', 'tears', '26', 'incredulous', 'robe', 'dreaded', 'plump', 'lighted', 'affronts', 'closed', 'imps', 'contracts', 'freezing', 'rejoices', 'nearly', 'lighter', 'acuter', 'boundary', 'stroll', 'encroached', 'artist', 'golconda', 'workman', 'fainted', 'worried', '928', '929', 'predicted', 'landlord', '920', '921', '922', '923', '925', '926', '927', 'reveals', 'interspersed', 'encourages', 'incarcerated', 'anchored', \"leopard's\", 'ignores', 'hastened', 'sport', 'purest', 'bodiless', 'squandering', '830', '831', '837', '834', \"father'd\", 'ostensibly', 'subsequent', 'fascinated', 'exhilirate', 'glaze', 'cloudier', 'hist', 'wests', 'arrogant', 'affecting', 'import', 'geometric', 'moaned', 'spartan', 'caucus', 'lays', 'corridors', 'multiplied', 'retrieverless', 'stirring', 'fearless', 'recedes', 'splendors', 'hurts', 'suppressed', 'grieved', 'undermine', '784', '786', 'latch', 'crucifixal', 'fissure', '782', 'spared', \"broker's\", 'millionaire', 'demur', 'expended', 'decimals', 'madness', 'spoil', '150', 'infinites', 'hunched', 'gaiety', 'exploit', '63', 'clambered', 'stretched', 'learning', '67', '68', 'disgrace', 'writing', 'arts', 'umber', '405', 'mark', 'quailed', 'almighty', 'covert', '1033', 'rebuilt', 'unrecorded', '502', '402', 'wants', '631', '1210', '1211', '1216', '635', '1214', '637', 'robbed', '639', 'thousand', 'skilful', \"battle's\", 'dangerous', 'mocking', 'obscuring', 'careful', 'hostiler', 'solaces', 'shaft', 'sit', 'codicil', 'amend', 'bereft', 'sobbed', 'straighten', 'cask', '1106', '1107', 'notoriety', 'hame', '1102', '1103', '1100', 'mound', 'pittances', '1109', 'cordage', 'palliate', 'endowed', 'reviled', 'carrara', 'someone', 'audibler', 'everyday', 'currer', 'shuts', 'harsh', 'doctor', 'alphabet', 'bowl', 'trip', 'epoch', 'deference', 'struggling', 'numerals', 'pedantic', 'drowsiness', 'thunderbolt', 'mockery', \"fisherman's\", 'cauterize', 'muffled', \"farmers'\", 'driven', 'annulled', 'ushered', 'favorites', 'importunes', 'complained', 'eventual', 'intermittent', 'patchwork', 'vacant', \"terror's\", 'bailiff', 'resituated', 'relief', 'viands', 'moat', '216', '217', '215', '213', 'noah', \"beetle's\", 'fears', '218', 'shouts', 'kill', 'disperse', 'inaudible', 'passiver', '462', 'exhaled', 'bleats', 'heavier', 'joyful', 'momentum', 'styles', 'frown', 'offence', 'zephyr', 'admitting', 'caverns', 'earnest', 'listening', 'vacuum', 'vague', 'stuns', 'tremulous', 'distrustful', 'acquainted', 'burdock', 'pounds', \"a'chase\", 'reduces', '62', 'discarded', 'mock', 'recalls', \"chamois'\", 'inter', 'reduced', 'falsehood', 'afflict', 'exposed', 'unerudite', 'showman', 'exposes', 'entreat', 'astronomer', 'erase', 'prompter', '69', 'outstaring', 'gross', 'slice', \"there'll\", 'memories', 'style', 'chips', 'fringes', 'garret', '914', '911', '910', 'knife', '912', 'extremest', 'nails', 'ration', 'strained', 'throe', 'credits', 'hectic', 'assemble', 'devising', 'bazaar', 'fondness', '847', 'comparison', 'enameled', 'tease', 'zealous', 'island', 'fringe', 'potose', '848', 'informing', 'wolf', 'pockets', 'roam', 'corals', 'assassin', 'fallacy', 'stratagem', 'perturbed', 'amphitrite', 'whiter', 'image', 'blessed', 'prepares', 'rising', 'jasper', 'verily', 'speculated', 'abrogate', 'alas', 'faced', 'goliath', 'symptom', 'area', 'assumed', 'cicatrice', 'stark', 'seesawing', 'scrupulous', 'unspoken', 'futile', 'politeness', '1184', 'valley', '734', '753', '752', 'newmailed', \"child's\", 'postponeless', '759', 'regard', 'delayed', \"twouldn't\", 'shroud', 'foreheads', 'keepsakes', 'cypherer', \"deity's\", 'trying', 'cords', 'belated', 'handsome', 'preconcerted', '1024', 'bellows', '1021', 'annihilate', '1023', 'sears', 'default', 'reflex', 'lingers', 'flirt', 'gems', 'conceiveless', 'schoolboy', 'trips', 'eternities', 'precedes', '630', '607', '601', '1208', '1205', '1204', '1207', 'defences', '609', 'sales', '1203', '1202', 'impalpable', '633', 'grasped', 'file', 'aught', 'merest', \"satyr's\", 'incautious', 'subjugating', \"hounds'\", '636', 'rubbed', 'deserve', 'footless', 'unanswering', 'elemental', '1111', '1110', '1113', '1112', '1115', '1114', '1119', 'mathematics', 'earthen', 'forcing', 'fruitless', 'peat', 'slant', 'alban', 'gifts', 'temerity', 'indurated', 'bullets', '489', '487', '486', '485', 'prudent', '482', 'building', 'disdained', 'consternation', 'loyally', 'calls', 'sobbing', 'groom', 'roams', \"crusade's\", 'doubted', 'sawing', 'transports', '990', 'banishment', 'axles', 'externally', 'liar', 'consider', 'ceases', 'roi', 'caused', 'instincts', 'reportless', 'bosoms', 'imploring', 'suspected', 'disk', 'slunk', 'shattered', 'apartment', 'sparkling', \"beard's\", \"o'erlooking\", \"'twill\", 'barely', 'subsides', 'unladed', 'unmeaning', 'parcel', 'egyptian', 'horror', 'swallows', 'shamed', 'denoted', 'cypher', 'balancing', 'purrs', 'bubbles', 'securely', 'meanth', \"shepherd's\", 'lacerating', \"water's\", 'unsuspected', 'wantoned', 'trench', 'undone', 'heaves', 'quicker', '199', '198', 'colossal', '194', '196', '190', '193', 'endures', 'bohea', 'aristocrat', 'zero', 'invention', 'premature', 'chafing', 'flurriedly', 'chalk', 'dial', 'spry', 'wrecked', 'anniversary', '18', 'crush', 'attitudes', 'cupboards', 'coronet', 'unshaded', 'nurse', \"archangel's\", \"eagle's\", 'libation', 'propoundeth', \"cato's\", '421', 'modify', 'mazarin', 'ranges', 'promoted', 'concluding', 'november', 'untarnished', 'shops', 'unpuzzled', 'thrift', '902', 'interposed', '900', 'stupor', 'tortoise', '904', 'stopsensation', 'escapeless', '908', '909', 'unproved', 'soldier', '246', '1108', 'partaken', 'luck', 'tranquilly', '240', 'members', 'pin', \"ararat's\", 'crackling', 'requiring', 'dirk', 'aimed', 'trained', 'toys', 'extinction', 'armed', 'ringing', '854', '851', 'denominated', '858', 'slants', 'telescopes', 'implore', 'compensate', 'pervaded', 'taken', 'raft', 'injury', 'markets', 'achieving', 'demurer', 'gentlewomen', 'pricklier', 'darting', 'substances', 'presumes', '545', 'goads', 'suffused', 'excuse', 'grisly', 'deigned', 'factories', 'hammers', '424', 'fleece', 'debates', 'cluster', 'equation', 'patriarch', 'offended', \"horses'\", 'paragraph', 'den', 'wrestles', 'knocked', 'absently', 'marble', 'history', 'compare', 'bogs', '744', '745', 'gallop', 'meaner', 'stinging', 'terrible', 'states', 'sphere', 'ribaldry', 'instants', 'phosphor', 'intricate', 'despot', 'exclude', 'cornice', 'prisons', 'tapestry', 'huge', 'dazzle', '1054', 'gibbets', '1057', 'cellar', 'licked', 'incisions', 'glowing', 'deems', 'buenos', 'extinguished', 'surpasses', 'vigilance', 'creature', 'gash', 'absconded', '619', 'inconceivably', '612', '713', '610', 'pinnace', '614', 'questioning', 'complicate', 'tries', 'adventure', 'opening', 'infects', 'pleaded', 'ballads', 'diggers', 'bleak', 'alps', 'refuse', 'imagery', 'coax', 'deluge', 'coat', 'solidities', 'jove', 'dragon', 'fondest', 'felicity', 'dread', \"ribbon's\", 'turnpike', 'victors', 'secreting', 'infant', 'gauges', 'locking', 'glancing', 'auburn', 'mixing', 'attitude', '498', \"dilapidation's\", 'replies', '496', '497', '490', 'discouragement', '492', '493', 'saucy', '25', 'discloses', '27', '20', '21', 'possessions', '23', '28', '29', 'diminuation', 'hillsides', 'attended', 'stephen', 'jostled', \"haven't\", 'pleads', 'groping', 'gropes', 'tumbles', 'hunter', 'noticing', 'troubador', 'weeds', 'sweeping', 'towering', 'complain', 'easily', 'exiles', 'evade', 'oppositely', 'disdaining', 'mastered', \"isn't\", 'pleasanter', 'weighs', 'hare', 'winnow', 'barbed', 'sober', 'flickered', 'fist', 'suspecting', 'oppresses', 'event', 'taunted', 'leader', 'wondered', 'sharpest', 'surrounded', 'secures', 'publish', 'health', 'expiation', 'busier', 'darling', '170', 'occurs', 'henceforward', 'bass', 'risen', 'dirt', 'roofs', 'degreeless', 'porcelain', 'nosegays', 'reason', 'breathless', 'acorn', 'longcheated', 'straightened', 'debase', 'blister', 'pairs', 'reared', 'settlers', 'tenets', 'sicker', 'caption', 'withes', 'diffuses', 'beggary', 'arose', 'knots', 'newsboys', 'major', 'unqualified', 'simply', 'wilder', 'relate', 'contender', 'number', 'slipper', 'elder', 'hollows', '1082', 'utters', '974', '973', '972', '971', '970', 'divorce', '1080', 'entreated', '979', '978', 'pinned', '183', '181', '186', '187', \"petition's\", '185', 'rates', 'lisping', 'scheme', 'store', 'attendants', 'implements', 'muscles', 'calculations', 'downiest', 'importunity', 'treasures', '1089', 'ablow', 'doctors', 'albums', 'relieves', 'john', 'vitalizes', 'yieldeth', '860', '863', 'multifold', '61', 'purposeless', \"pleiad's\", 'flocks', 'compensates', 'stalk', \"savior's\", 'archness', 'stale', 'treated', 'remembers', 'tongues', '882', '881', '880', '887', '886', '884', 'strung', 'ditches', '889', '888', 'creases', 'caress', 'vitally', 'untraversed', \"monster's\", 'pageant', 'null', 'hopelessly', \"errand's\", \"evidence't\", 'carlo', 'suddenness', 'cave', 'histories', 'sordid', 'internal', 'useless', 'comprehended', 'unbared', 'populous', \"angel's\", '775', '777', 'quoth', '770', 'reckon', 'popular', 'eggs', 'flute', 'chart', 'disappeared', 'yawn', '75', '73', '72', '71', 'achievement', '1043', 'giggling', '1040', '1047', '1046', '1044', '1049', '1048', \"inspection's\", 'notch', 'widewandering', 'stones', 'festal', 'exterminate', 'babbler', 'swelling', 'degrades', '661', 'session', 'crayon', 'sliver', 'frocks', 'felon', \"crash's\", 'impregnability', 'overwhelmed', 'gilded', 'giant', 'aggravate', 'delinquent', 'anvil', 'ruin', 'rewalks', 'impotence', 'surveyed', 'money', \"ruby's\", '8', 'circle', \"flower's\", 'indifference', 'accurate', 'columns', \"sceptre's\", 'invoke', 'dandelion', 'landscapes', 'banned', \"comet's\", 'capsule', 'assaulted', 'twill', 'saluting', 'deaden', 'shines', 'devoured', 'keenest', 'sacrificed', 'cleaving', 'gloves', 'double', 'weaves', '319', 'signify', '313', '312', '310', 'nibble', \"suspense's\", '315', '314', 'venerate', 'bare', 'bard', 'surrendered', '1230', '866', 'preparation', 'learns', 'mechanically', 'probable', 'unrealized', 'myriad', 'playmates', '442', 'puzzlest', 'supersedes', 'doubly', 'latin', 'recently', 'missing', 'premises', 'timidly', '446', 'untouched', 'incident', 'succeed', 'scuttle', 'mirth', 'etna', 'dividend', 'caprices', 'cubes', \"wouldn't\", 'dumbly', 'gaunt', 'chastising', \"a'chirrup\", 'connection', 'tightens', 'gamblers', 'lash', \"was't\", 'flies', 'poltroon', 'pendulum', \"mine's\", 'deposit', 'manners', \"geneva's\", 'dances', 'dancer', 'liker', 'ghent', 'indefinite', 'expensive', 'smote', 'unaided', 'thimble', '403', 'quench', 'extravagant', 'adroitly', 'brick', 'dame', 'resting', 'heaviest', 'conceit', 'chatted', '39', 'gap', 'clergymen', 'compromised', 'opposites', 'burr', 'deport', 'gad', 'chatter', '965', '966', 'loom', '960', '962', '963', 'avalanches', 'hadst', 'rope', 'forgetting', 'fun', 'comrades', 'eclipses', 'flees', 'whimpers', 'concernless', 'costly', 'hoping', 'gamuts', 'guilty', 'danes', 'herein', 'reads', 'triple', 'chasm', 'rid', 'exult', 'aged', 'italy', 'shaw', '878', '879', '876', '874', 'problems', 'rosy', '870', 'wherein', 'ruler', '9', 'repudiates', 'forgiveness', 'sham', '890', '891', '892', '893', '894', 'pictorial', '896', 'forced', 'keys', '899', 'ultimate', 'leopard', 'flows', 'contrition', 'patriotic', 'absolved', 'moving', 'flitting', \"serpent's\", 'priceless', 'ceremonious', 'gambolled', '80', 'motionless', 'supersede', 'older', 'forfeited', 'italicized', 'wedged', 'involves', 'pricks', 'swiss', '267', 'appalled', 'comprise', 'winces', 'lads', 'pater', '762', 'telegram', 'shivering', '761', 'drummer', 'birthday', 'reviewed', 'inactive', 'winced', 'questions', 'alternative', 'praying', 'amply', 'letting', 'porch', 'sandal', 'cuffs', '1076', 'hated', '1074', '1075', 'speedily', 'eager', 'cherries', 'undistinguished', 'location', 'cash', 'prest', 'easter', 'reverted', '1094', 'complaint', \"emperor's\", '1090', '1091', '1092', '1093', '1098', '1099', '672', 'ruff', 'judgement', 'finding', 'redeem', 'awaken', 'salutes', 'formal', 'painted', 'knock', 'jots', \"o'ertook\", 'shaped', 'cogs', 'glove', 'shapes', 'individuals', 'yields', 'borrows', 'grandsires', \"stranger'd\", 'translated', 'tribes', 'spins', 'vitalless', 'parade', 'hinted', \"who've\", 'separated', 'sighs', 'pall', 'greener', 'playeth', 'delivered', 'gradually', 'culprit', 'decision', 'scalps', 'distracts', 'civilization', 'amities', 'pelf', 'durabler', \"'twasn't\", 'magnifies', 'rum', 'rub', '301', '302', '303', '305', '306', 'aloft', 'concealed', 'santa', 'vitals', 'ache', 'carol', 'subtract', 'tripping', 'rut', 'dormant', '77', 'thirsted', \"hair's\", 'gnome', 'anything', 'entailed', 'firing', \"contentment's\", 'recited', 'ambush', 'gianture', 'fluttering', 'bleeds', 'miracles', 'repair', 'fruitlesser', 'significant', 'stitched', 'integral', 'stintless', 'appropriate', 'ananias', 'coil', 'remembrance', 'ellipse', \"skater's\", 'striven', 'tasting', \"saturn's\", 'borer', 'cuticle', 'aggrandized', '79', 'summertime', 'spar', 'analyze', 'belonged', 'plunge', 'frenzied', 'graciously', 'retina', 'peers', 'searching', 'films', 'reed', 'flaunted', 'stillest', 'eagles', 'sofa', '556', 'junior', 'flickers', 'starkest', 'plaudit', 'redeemed', 'stalking', 'planet', 'husk', 'cautiously', 'clipt', 'sternly', '551', 'plaything', 'similar', 'reveille', 'noteless', 'curricle', 'partition', 'expedition', 'subtracting', 'willed', 'deprive', 'mightier', 'chat', 'surveying', 'gusts', 'prevail', 'liking', '959', 'paradox', 'suffuse', '951', 'utterest', '953', '952', '955', '957', '956', 'nap', 'dimmer', 'arithmetic', '115', 'claus', 'spurns', 'papa', 'kirtle', 'fervently', 'drab', 'gimlets', 'wrinkle', 'meals', 'leaflets', 'dimensions', '509', 'destinies', 'implies', 'threadless', 'rescued', 'strolled', 'ascertained', 'teases', 'presenting', 'harks', 'solemner', \"israel's\", 'evenly', 'essay', 'inflates', 'jason', 'discontent', 'splashing', \"omnipotence'\", 'commoner', 'existing', 'farms', 'broader', 'amiss', 'cases', 'issues', 'compact', 'shackles', 'peering', 'arid', 'arrogance', 'geranium', 'counterpass', 'scarlets', 'maryland', 'statured', \"show's\", 'flinging', '717', 'panting', 'prudence', '712', '662', 'alden', 'rebuked', 'putting', 'tambourin', 'accuse', 'simplehearted', 'artery', 'precinct', 'pard', 'physiognomy', 'sublimely', \"t'were\", '1061', 'marry', '1062', '1065', 'fewer', '1066', 'artifice', 'verdict', 'withheld', 'relation', 'inspection', '591', '590', 'encloses', '592', '1083', '594', '597', '596', '599', 'sackcloth', 'mediterranean', 'playmate', 'boots', '1088', 'jump', 'periphrasis', 'enclosed', 'picked', 'languor', 'benumbing', 'nests', 'click', 'unshared', 'waning', 'moan', \"man's\", \"altho'\", 'pleading', 'flowing', \"burdock's\", 'ammunition', '937', 'insecure', 'eminently', '443', 'strangles', 'industriousness', 'adoring', '445', '444', 'nimble', 'unthinking', 'gloat', 'unremitting', 'dissuade', 'tremor', 'buttoned', 'spires', 'remark', '38', 'receive', '32', '35', 'befits', '641', '640', '643', '642', '645', '644', '647', '648', 'typic', 'salvation', 'delays', 'hasps', \"ocean's\", 'reds', 'gossiped', '338', 'deputy', '335', 'disobey', 'conjecturing', '333', 'addressed', 'lodging', 'fiend', 'staple', 'galloped', 'ape', 'fed', 'ushers', 'nonchalance', '540', 'germ', 'contentment', \"teller's\", 'cram', 'noisy', \"sun's\", \"banquet's\", 'tempests', 'charcoal', 'palsied', '846', 'caviler', 'missile', 'carrying', 'prizes', 'wampum', 'notability', 'practicing', 'unarmed', 'meed', '840', 'pour', 'pyrites', 'panter', 'goalless', 'grin', 'coffin', 'control', 'pawn', 'slim', 'tax', 'pieces', 'escaped', 'beckoned', 'unapproached', 'condescend', \"mercy's\", 'offense', 'intuitions', 'paws', 'counting', 'varied', 'picturesque', \"insect's\", 'wares', 'mumbled', 'occur', 'regions', '155', 'manacles', 'paler', 'counterfeits', \"attention's\", 'await', 'catacomb', 'mixed', 'fatigue', 'discard', 'tier', 'marrow', 'trifling', '948', '949', '947', 'counter', 'lines', 'ferret', '940', 'boundlessness', 'scoop', 'chief', 'writ', 'commonest', 'holidays', 'haunted', 'furnish', 'longest', 'erasing', 'circumscribes', 'nearness', 'saturated', 'stamped', 'coolly', 'slumbereth', 'insight', 'nodding', 'toddled', '132', 'costume', '135', 'knocks', 'tiptoed', '139', 'tickling', 'industries', 'bridges', 'industrious', 'brood', 'whereon', 'tremendousness', 'surgeons', 'accredited', 'blistered', 'shudder', 'playfellow', 'degrees', 'yesterdays', 'silken', '182', 'dough', \"dollie's\", 'reimbursed', 'spell', 'flew', 'invitations', 'sweets', 'subtraction', 'unwhole', 'settest', 'cage', 'struggled', 'susceptive', 'flail', \"cannon's\", 'laconic', 'traced', 'slacked', 'identified', 'begs', \"disobedience'\", 'fuzz', 'accompanied', 'slacker', 'gazing', 'legions', 'prevailing', 'commonwealth', 'pitying', 'illuminate', 'quivered', 'scanty', '705', 'parties', '700', '701', 'sportsman', 'fractions', 'seesaw', 'decays', 'separating', 'addeth', 'tarrying', 'stimulants', '87', 'special', 'gallant', 'retaken', 'acknowledgment', \"children's\", \"music's\", 'confess', '141', 'bad', \"atom's\", 'potomac', 'discs', 'oriental', 'unprepared', 'plashing', 'suffices', '586', '587', '763', 'flanked', '581', 'ethiop', '588', '589', 'hazard', 'shun', 'van', 'philip', 'tulle', 'stab', 'assiduously', 'inadvertent', 'repairing', 'tongueless', 'barns', 'diminished', 'david', 'czars', 'chilly', \"bliss'\", 'hindering', 'wading', 'homelessness', 'retain', 'parallel', 'sorrowful', 'scare', 'timbers', '458', 'scalding', 'finest', 'soldered', 'blown', 'braced', '452', '457', 'microscopes', 'listless', 'alleys', 'lagging', 'affliction', 'disembodies', \"transport's\", 'humblest', 'publication', 'hyperbolic', 'vulgar', 'chased', 'relations', '656', 'merrier', '655', '652', '650', 'prouder', 'prone', 'shell', 'resists', 'chagrin', 'punish', 'completed', 'negro', 'reverses', 'swindled', 'liquid', 'prudenter', 'girdle', 'pointers', 'appealing', 'transgression', 'boyish', 'loves', 'agate', 'bet', 'crucify', 'beggared', 'wakes', '189', 'trusting', 'spelled', '943', 'unelected', 'prophetic', 'terribler', 'defending', 'interruptions', 'viewed', 'screw', 'demolishes', 'sprinkles', 'brokers', 'inform', 'skillful', '754', 'mills', 'gravity', 'purchasing', 'precipice', 'forbidden', 'sprinkled', '327', 'sufficiency', \"miser's\", 'autocratic', 'awes', 'blades', 'scalds', 'lodgings', 'unless', 'necromancer', 'repairs', 'technicality', 'taints', '565', 'clog', 'basket', 'cipher', 'segment', 'instil', 'discourage', 'upset', 'thanksgiving', 'prickly', 'colonnade', 'mechanical', 'wounded', 'saviors', 'anthracite', '50', 'ignite', 'insulators', 'chances', 'text', 'pleases', 'terminate', 'connect', 'traitor', 'seraph', 'rouge', 'trivial', 'chanced', 'dowered', 'tire', 'earned', 'unplausible', 'manacle', 'fumbles', 'enamelled', 'brayed', 'tribulation', 'inherited', 'employed', 'flinch', 'indignant', 'spun', '997', 'sued', 'handle', 'recollecting', 'quartering', 'bonds', 'crumbling', 'silas', '999', '998', '120', 'joint', '1026', '124', '125', \"maple's\", '127', '128', 'leases', 'spur', 'dwellings', 'organ', 'parlors', 'mortals', 'sauntered', 'summon', 'stuff', 'wish', 'ministered', 'excesses', 'fixed', \"food's\", '942', '136', 'guessing', 'farthest', 'superseding', 'prayers', 'racked', 'drills', 'turbulent', 'drowse', 'freeze', 'powder', 'racket', 'despoiled', 'etchings', 'contusion', 'surmised', 'pedigree', 'clearing', 'secrecy', 'intending', 'carriage', \"acorn's\", 'superb', \"did'st\", 'quickest', \"color's\", 'correctly', 'routine', 'tens', 'bramble', 'gethsemane', 'ability', 'amen', 'weak', 'specious', 'le', \"or'ter\", 'warranted', 'probing', 'denomination', 'staring', 'exclaim', 'diligent', 'rime', 'robberies', 'deer', 'spray', 'drug', 'admit', 'devour', 'grain', 'rust', 'kinsmanship', 'retrograde', 'conquered', 'murder', 'effacing', '572', '570', '576', 'distil', 'intervened', 'kings', 'withdrawn', '600', 'erased', 'berdardine', 'tread', 'estimating', '939', '731', 'poured', '735', 'chiefer', 'inadequate', '739', 'copied', 'waste', 'naples', 'angled', 'shoulders', 'senses', '468', '465', '464', '467', '1200', 'spaniel', 'nobleness', 'consecutive', 'repetition', 'behooveth', 'divisions', 'wearied', '930', '1129', 'coals', 'harder', '936', 'grinning', 'apparitions', '935', 'nevermore', 'wile', 'soundest', 'magnetize', 'agonized', 'stiffly', 'prosy', 'planets', \"can'st\", 'inflicts', \"peril's\", 'sustenance', 'weighed', 'sapling', 'askew', 'creak', 'claps', 'lambs', 'wreck', 'bandit', 'denial', 'harebell', 'tremble', 'blazed', 'vext', 'units', 'gets', 'brig', 'clamors', 'material', 'caesar', \"devil's\", 'coaches', 'heaped', 'fierce', 'mosaic', 'captivates', 'weld', 'intercede', 'trudge', 'escapade', '49', '357', '355', '354', '353', '352', 'deadly', 'ravine', 'outgrow', 'mausoleum', '358', 'reefs', 'restore', 'dollie', 'stores', 'cried', 'moments', '42', 'rambled', 'ambition', 'affright', 'mistaken', 'crier', 'concluded', 'batteries', 'marauding', 'memnon', 'surpass', 'hauled', 'paul', '41', 'web', 'oversleep', 'omit', 'cynic', 'surfaces', 'sickened', 'narrowing', 'toyed', 'peninsulas', 'unaccustomed', 'tawny', '281', '280', '282', 'balloons', '284', '287', '286', 'momently', 'rafter', 'wooed', 'increased', 'magnify', 'articles', 'rind', 'livid', '263', '262', '261', 'cedar', '264', 'immediately', '269', '268', 'predestined', 'thrill', 'insert', 'lincoln', 'necessary', 'caste', 'ransomed', 'swarm', 'pity', 'heed', 'james', 'pried', 'repressed', 'satirist', 'accessible', 'warmed', 'straightway', 'sequence', '983', 'twitter', '981', '986', '987', '985', 'ideals', '114', 'daylight', 'redress', '111', 'scatters', 'vicarious', '112', 'hissing', 'ballot', '118', 'recognition', \"shan't\", 'supple', 'leak', 'slipping', \"sportsman's\", 'cradle', 'passion', 'economical', 'anodynes', 'forgiven', 'bullion', 'suspense', 'fretted', 'fastenings', 'phantoms', 'hurls', 'pizarro', 'imperfectly', 'worthy', 'hesperides', 'paste', 'counties', 'hiding', 'outraged', \"cast's\", '826', 'linger', 'eases', 'spilled', 'recognized', 'andes', 'peradventure', 'sublimest', 'apostle', 'arrogantly', 'baseless', 'successor', '88', 'boggy', 'brews', 'screamed', 'included', 'weather', 'lung', 'swimmers', 'tabernacle', '709', 'aptitude', 'ridge', 'justifying', 'unrevealed', \"seller's\", '704', 'trigger', 'terminates', '568', '569', 'dingle', 'glid', '560', '561', '562', 'schoolroom', 'ultimates', '566', 'admonish', 'repeated', 'lowered', 'wealthier', 'grate', 'highest', 'basin', 'sewed', 'optizan', '1186', '1187', 'cells', '1182', 'phoebes', 'triumphant', 'warmth', 'placed', 'cruel', 'convince', '723', 'invest', 'labored', 'piece', '728', '1164', 'bearing', '1166', '1167', 'eagerness', '1161', '1162', '1163', 'devise', 'whisper', 'betrayed', '1168', '1169', '82', 'violate', 'globules', 'fleeting', 'proceeds', 'hungered', '472', 'renowned', 'avoided', 'variety', 'fortunate', 'gulfing', '45', 'oak', '43', 'detain', 'westminster', 'sick', 'perdition', \"cubit's\", 'dresses', 'rebelled', 'draught', 'tides', 'graspless', 'tumble', 'baffling', 'sped', 'wrenching', 'shrank', 'astronomy', 'disclosure', 'honorless', 'auxiliary', 'prevalent', 'eddied', '1201', 'frontier', 'subscribe', 'lasted', 'rule', 'eddies', \"dog's\", \"cinderella's\", '476', '477', '475', '479', 'expands', 'abhor', 'bereaved', 'augmented'])\n",
      "\n"
     ]
    }
   ],
   "source": [
    "functional_words = ['the', 'a', 'to', 'of', 'in', 'but', 'me', 'her', 'his', 'on', 'if', 'no', 'one','i', 'he', 'she', 'we', 'it', 'you', 'they', '\\'', 'will', 'may', 'might', 'must', 'am', 'is',\n",
    "                    'are', 'was', 'were', 'be', 'being', 'been', 'have', 'has', 'had', 'do', 'does', 'did', 'shall',\n",
    "                    'will', 'should', 'would', 'can', 'could', 'and', 'for', 'as', 'that', 'my', 'this', 'when', \n",
    "                    'who', 'with', 'by', 'so', 'at', 'or', 'yet', 'from', 'like', 'upon', 'all', 'how', 'thee','our','what'\n",
    "                    'nor', 'unto', 'still', 'too', 'its', 'there', 'then', 'now', 'yet', 'not', 'an', 'some', 'other']\n",
    "\n",
    "set_p = set()\n",
    "set_n = set()\n",
    "\n",
    "# print \"TOP 100 WORDS FOR CLASS \" + POS_LABEL + \":\"\n",
    "for tok, count in nb.all_n(POS_LABEL):\n",
    "    if tok not in functional_words:\n",
    "        set_p.add(tok)\n",
    "#         print '', tok, count\n",
    "print ''\n",
    "\n",
    "# print \"TOP 100 WORDS FOR CLASS \" + NEG_LABEL + \":\"\n",
    "for tok, count in nb.all_n(NEG_LABEL):\n",
    "    if tok not in functional_words:\n",
    "        set_n.add(tok)\n",
    "#         print '', tok, count\n",
    "\n",
    "pos_set = set_p.difference(set_n)\n",
    "neg_set = set_n.difference(set_p)\n",
    "print(len(pos_set))\n",
    "print('Pos Seeds:')\n",
    "print(pos_set)\n",
    "print(len(neg_set))\n",
    "print('Neg Seeds:')\n",
    "print(neg_set)\n",
    "print ''"
   ]
  },
  {
   "cell_type": "markdown",
   "metadata": {},
   "source": [
    "**Question 2.2 (5 points)**\n",
    "\n",
    "Will the top 10 words of the positive/negative classes help discriminate between the two classes? Do you imagine that processing other English text will result in a similar phenomenon?\n",
    "\n",
    "No way, since the most frequent words in English (and, probably, all human languages) have affectively neutral syntactic functions; they constitute the logical architecture of an utterance into which affective content can be embedded. For example: \"I am going to X\" only has one element, X, that can carry affect (\"scream,\" \"laugh,\" \"faint,\" \"die,\" \"sleep,\" etc.), while the rest of the words merely generate situational context for that affect. Processing other English text will almost certainly lead to the same phenomenon."
   ]
  },
  {
   "cell_type": "markdown",
   "metadata": {},
   "source": [
    "**Question 2.3 (5 pts) **\n",
    "\n",
    "The Naive Bayes model assumes that all features are conditionally independent given the class label. For our purposes, this means that the probability of seeing a particular word in a document with class label $y$ is independent of the rest of the words in that document. Implement the `p_word_given_label` function. This function calculates P (w|y) (i.e., the probability of seeing word w in a document given the label of that document is y)."
   ]
  },
  {
   "cell_type": "markdown",
   "metadata": {},
   "source": [
    "Use your `p_word_given_label` function to compute the probability of seeing the word “fantastic” given each sentiment label. Repeat the computation for the word “boring.” "
   ]
  },
  {
   "cell_type": "code",
   "execution_count": 15,
   "metadata": {},
   "outputs": [
    {
     "name": "stdout",
     "output_type": "stream",
     "text": [
      "P('fantastic'|pos): 0.000154458162793\n",
      "P('fantastic'|neg): 3.77720191813e-05\n",
      "P('boring'|pos): 6.18508616873e-05\n",
      "P('boring'|neg): 0.000287275265149\n"
     ]
    }
   ],
   "source": [
    "print \"P('fantastic'|pos):\",  nb.p_word_given_label(\"fantastic\", POS_LABEL)\n",
    "print \"P('fantastic'|neg):\",  nb.p_word_given_label(\"fantastic\", NEG_LABEL)\n",
    "print \"P('boring'|pos):\",  nb.p_word_given_label(\"boring\", POS_LABEL)\n",
    "print \"P('boring'|neg):\",  nb.p_word_given_label(\"boring\", NEG_LABEL)"
   ]
  },
  {
   "cell_type": "markdown",
   "metadata": {},
   "source": [
    "Which word has a higher probability given the positive class, fantastic or boring? Which word has a higher probability given the negative class? Is this what you would expect?\n",
    "\n",
    "\"Fantastic\" and \"boring\" have higher probabilities given positive and negative classes, respectively. Yes, definitely what would I expect, since ironic usage of these words, which would invert their affect, will be far less frequent than their customary usage in a given corpus of sufficient size."
   ]
  },
  {
   "cell_type": "markdown",
   "metadata": {},
   "source": [
    "**Question 2.4 (5 pts)**\n",
    "\n",
    "In the next cell, compute the probability of the word \"car-thievery\" in the positive training data and negative training data."
   ]
  },
  {
   "cell_type": "code",
   "execution_count": 16,
   "metadata": {},
   "outputs": [
    {
     "name": "stdout",
     "output_type": "stream",
     "text": [
      "P('car-thievery'|pos): 3.3798285075e-07\n",
      "P('car-thievery'|neg): 0.0\n"
     ]
    }
   ],
   "source": [
    "print \"P('car-thievery'|pos):\",  nb.p_word_given_label(\"car-thievery\", POS_LABEL)\n",
    "print \"P('car-thievery'|neg):\",  nb.p_word_given_label(\"car-thievery\", NEG_LABEL)"
   ]
  },
  {
   "cell_type": "markdown",
   "metadata": {},
   "source": [
    "What do you notice about \"P('car-thievery'|neg)\"? Why do you see this number? What would happen if we took the log of \"P('car-thievery'|neg)\"? What would happen if we multiplied \"P('car-thievery'|neg)\" by \"P('cliche'|neg)\"? Why might these operations cause problems for a Naive Bayes classifier?\n",
    "\n",
    "P('car-thievery'|neg) is 0 because the token must not occur in the negative class. If we took a log of 0, the heavens would split asunder, mass hysteria, dogs and cats sleeping together, etc. Multiplying any other P by 0 would yield 0, giving us no information about the corpus; it would render a Naive Bayes classifier useless because we assume conditional independence of features and so will eventually want to multiply probabilities together."
   ]
  },
  {
   "cell_type": "markdown",
   "metadata": {},
   "source": [
    "**Question 2.5 (5 pts)**\n",
    "\n",
    "We can address the issues from question 2.4 with psuedocounts. A psuedocount is a fixed amount added to the count of each word stored in our model. Psuedocounts are used to help smooth calculations involving words for which there is little data. Implement\n",
    "`p_word_given_label_and_psuedocount` and then run the next cell. Hint: look at the slides from the lecture on pseudocounts."
   ]
  },
  {
   "cell_type": "code",
   "execution_count": 17,
   "metadata": {},
   "outputs": [
    {
     "name": "stdout",
     "output_type": "stream",
     "text": [
      "P('car-thievery'|neg): 3.46532045897e-07\n"
     ]
    }
   ],
   "source": [
    "print \"P('car-thievery'|neg):\",  nb.p_word_given_label_and_pseudocount(\"car-thievery\", NEG_LABEL, 1.0)"
   ]
  },
  {
   "cell_type": "markdown",
   "metadata": {},
   "source": [
    "**Question 2.6 (getting ready for question 2.10)**\n",
    "\n",
    "*Prior and Likelihood* \n",
    "\n",
    "As noted before, the Naive Bayes model assumes that all words in a document are independent of one another given the document’s label. Because of this we can write the likelihood of a document as:\n",
    "\n",
    "$P(w_{d1},\\cdots,w_{dn}|y_d) = \\prod_{i=1}^{n}P(w_{di}|y_d)$\n",
    "\n",
    "However, if a document has a lot of words, the likelihood will become extremely small and we’ll encounter numerical underflow. Underflow is a common problem when dealing with prob- abilistic models; if you are unfamiliar with it, you can get a brief overview on [Wikipedia](https:/en.wikipedia.org/wiki/Arithmetic_underflow). To deal with underflow, a common transformation is to work in log-space.\n",
    "\n",
    "$\\log[P(w_{d1},\\cdots,w_{dn}|y_d)] = \\sum_{i=1}^{n}\\log[P(w_{di}|y_d)]$"
   ]
  },
  {
   "cell_type": "markdown",
   "metadata": {},
   "source": [
    "Implement the `log_likelihood` function (Hint: it should make calls to the p word given label and psuedocount function).\n",
    "Implement the `log_prior` function. This function takes a class label and returns the log of the fraction of the training documents that are of that label.\n",
    "\n",
    "There is nothing to print out for this question. But you will use these functions in a moment..."
   ]
  },
  {
   "cell_type": "markdown",
   "metadata": {},
   "source": [
    "**Question 2.7 (5 pts) **\n",
    "\n",
    "Naive Bayes is a model that tells us how to compute the posterior\n",
    "probability of a document being of some label (i.e.,\n",
    "$P(y_d|\\mathbf{w_d})$).  Specifically, we do so using bayes rule:\n",
    "\n",
    "  $P(y_d|\\mathbf{w_d}) = \\frac{P(y_d)P(\\mathbf{w_d}|y_d)}{P(\\mathbf{w_d})}$\n",
    "\n",
    "In the previous section you implemented functions to compute both\n",
    "the log prior ($\\log[P(y_d)]$) and the log likelihood\n",
    "($\\log[P( \\mathbf{w_d} |y_d)]$ ). Now, all your missing is the\n",
    "*normalizer*, $P(\\mathbf{w_d})$."
   ]
  },
  {
   "cell_type": "markdown",
   "metadata": {},
   "source": [
    "Derive the normalizer by expanding $P(\\mathbf{w_d})$. You will have to use \"MathJax\" to write out the equations. MathJax is very similar to LaTeX. 99% of the MathJax you will need to write for this course (and others at U Mass) is included in the first answer of [this](https://math.meta.stackexchange.com/questions/5020/mathjax-basic-tutorial-and-quick-reference) tutorial. MathJax and LaTeX can be annoying first, but once you get a little practice, using these tools will feel like second nature.\n",
    "\n",
    "\n",
    "$P(\\mathbf{w_d}) = P(\\mathbf{w_d}|y_d)P(y_d) + P(\\mathbf{w_d}|\\sim{y_d})P(\\sim{y_d})$"
   ]
  },
  {
   "cell_type": "markdown",
   "metadata": {},
   "source": [
    "**Question 2.8 (5 pts)**\n",
    "\n",
    "One way to classify a document is to compute the unnormalized log posterior for both labels and take the argmax (i.e., the label that yields the higher unnormalized log posterior). The unnormalized log posterior is the sum of the log prior and the log likelihood of the document. Why don’t we need to compute the log normalizer here?"
   ]
  },
  {
   "cell_type": "markdown",
   "metadata": {},
   "source": [
    "Since we're using argmax and evaluating a number of log posteriors (here, just two), and every log posterior has the same denominator (the log normalizer), we can ignore the log normalizer. Doing so will preserve proportionality among the log posteriors since we're effectively multiplying all of them by the common denominator."
   ]
  },
  {
   "cell_type": "markdown",
   "metadata": {},
   "source": [
    "**Question 2.9 (15 pts)**\n",
    "\n",
    "Implement the `unnormalized_log_posterior` function and the `classify` function. The `classify` function should use the unnormalized log posteriors but should not compute the normalizer. Once you implement the `classify` function, we'd like to evaluate its accuracy. `evaluate_classifier_accuracy` is implemented for you so you don't need to change that method."
   ]
  },
  {
   "cell_type": "code",
   "execution_count": 9,
   "metadata": {},
   "outputs": [
    {
     "name": "stdout",
     "output_type": "stream",
     "text": [
      "58.5687382298\n"
     ]
    }
   ],
   "source": [
    "print nb.evaluate_classifier_accuracy(1.0)"
   ]
  },
  {
   "cell_type": "markdown",
   "metadata": {},
   "source": [
    "**Question 2.10 (5 pts)**\n",
    "\n",
    "Try evaluating your model again with a pseudocount parameter of 500."
   ]
  },
  {
   "cell_type": "code",
   "execution_count": 10,
   "metadata": {},
   "outputs": [
    {
     "name": "stdout",
     "output_type": "stream",
     "text": [
      "48.2109227872\n"
     ]
    }
   ],
   "source": [
    "print nb.evaluate_classifier_accuracy(500.0)"
   ]
  },
  {
   "cell_type": "markdown",
   "metadata": {},
   "source": [
    "Does the accuracy go up or down when the pseudo count parameter is raised to 500? Why do you think this is?\n",
    "\n",
    "It goes down because as the pseudocount parameter (alpha) approaches infinity, it eclipses out the actual word counts in the corpus, which are comparatively tiny. I got it to hit 50% with an alpha of just over 5000."
   ]
  },
  {
   "cell_type": "markdown",
   "metadata": {},
   "source": [
    "**Question 2.11 (5 pts)**\n",
    "\n",
    "Our trained model can be queried to do exploratory data analysis. We\n",
    "saw that the top 10 most common words for each class were not very\n",
    "discriminative. Often times, a more descriminative statistic is a\n",
    "word's likelihood ratio. A word's likelihood ratio is defined as\n",
    "\n",
    "$LR(w)=\\frac{P(w|y=\\mathrm{pos})}{P(w|y=\\mathrm{neg})}$\n",
    "\n",
    "A word with $LR=5$ is five times more likely to appear in a positive\n",
    "review than it is in a negative review; a word with $LR=0.33$ is one\n",
    "third as likely to appear in a positive review than a negative review"
   ]
  },
  {
   "cell_type": "code",
   "execution_count": 20,
   "metadata": {},
   "outputs": [
    {
     "name": "stdout",
     "output_type": "stream",
     "text": [
      "LIKEHOOD RATIO OF 'fantastic': 4.06091371082\n",
      "LIKEHOOD RATIO OF 'boring': 0.216217429124\n",
      "LIKEHOOD RATIO OF 'the': 1.03406562348\n",
      "LIKEHOOD RATIO OF 'to': 0.943418253584\n"
     ]
    }
   ],
   "source": [
    "# Implement the nb.likelihod_ratio function and use it to investigate the likelihood ratio of \"fantastic\" and \"boring\"\n",
    "print \"LIKEHOOD RATIO OF 'fantastic':\", nb.likelihood_ratio('fantastic', 1.0)\n",
    "print \"LIKEHOOD RATIO OF 'boring':\", nb.likelihood_ratio('boring', 1.0)\n",
    "print \"LIKEHOOD RATIO OF 'the':\", nb.likelihood_ratio('the', 1.0)\n",
    "print \"LIKEHOOD RATIO OF 'to':\", nb.likelihood_ratio('to', 1.0)\n"
   ]
  },
  {
   "cell_type": "markdown",
   "metadata": {},
   "source": [
    "Does it make sense that $LR$('fantastic') $>$ $LR$('to')? \n",
    "\n",
    "Yes, because it is a word with an inherent positive affect, used primarily in contexts where a speaker is indicating great satisfaction, surprised happiness, joy, etc. in response to the subject. \"To\" is structural rather than affective, so its $LR$ should be close to 1."
   ]
  },
  {
   "cell_type": "markdown",
   "metadata": {},
   "source": [
    "** Question 2.12 (15 pts)** \n",
    "\n",
    "Find a review that your classifier got wrong. "
   ]
  },
  {
   "cell_type": "code",
   "execution_count": 22,
   "metadata": {},
   "outputs": [
    {
     "name": "stdout",
     "output_type": "stream",
     "text": [
      "FN: /home/tck/PycharmProjects/CS585HW1/large_movie_review_dataset/test/pos/11646_8.txt\n",
      "In /test/pos, but label is: neg \n",
      "\n",
      "Just to clarify, Matthew Poncelet wasn't a real person, but a character combination of 2 killers who were BOTH convicted and sentenced to die for a murder of two teenagers.<br /><br />I read the User Comments and they react as if Matthew was real. The character is based on a mixture of two killers, Elmo Patrick Sonnier and Robert Lee Willie (who murdered separate people) and the murder itself was based on the one Willie committed. The conflict of both Willie having someone else present and both parties swearing the other did the killing is worked into the story as well.<br /><br />Prejean's approach is unique in that she not only is ministering to the convicts as they wait for their death and aiding them in taking responsibility for their actions, she also reaches out to the victims' families, to help them know that the convict did, indeed feel remorse for what they did-effectively aiding both parties.<br /><br />Everyone posting here seems to have strong beliefs on the Death Sentence. It's not my place to say it's right or wrong-in theory punishing death with death makes some sort of Karmic sense, however denying a person their freedom for the rest of their days, although costly, makes more sense to me-being stuck in a small room 23/7 (with one hour of exercise)for the rest of their days to be reminded of the cruel thing they did seem a more apt punishment-they are technically alive, but denied living. Say someone killed someone so they could get out of the responsibility the person they killed required (like Susan Smith killing her poor kids by shoving her car into a lake). I find it fittingly ironic that they would not get that \"freedom\" they craved and would now have to spend the rest of their days imprisoned.<br /><br />Prejean's point comes through the story very well. She has my respect-she manages to find that balance-she isn't supporting a killer, she is guiding them to accepting what they did. If they didn't feel some kind of remorse, they wouldn't be asking for spiritual guidance.<br /><br />Ona final note, when Poncelet apologizes to Delacroix parent for killing his son, the parents of the girl who was also murdered mutters something about why he didn't apologize for her death. I think the point was that throughout the movie, Poncelet denies killing both kids. There is doubt in Prejean's mind he did both killings-there is a friend who was sentenced but not to death-my thought is that Poncelet killed the Delacroix boy and the other man murdered the girl-hence Poncelet was taking responsibility for what he did. Had he been responsible for the girl's death, he probably would have apologized for that as well.\n"
     ]
    }
   ],
   "source": [
    "# in this cell, print out a review that your classifier got wrong. Print out the text of the review along with the label\n",
    "for label in [POS_LABEL]:\n",
    "    for directory in [TEST_DIR]:\n",
    "        for fn in glob.glob(directory + \"/\" + label + \"/*txt\"):\n",
    "            file = open(fn)\n",
    "            doc = tokenize_doc(file.read())\n",
    "            res = nb.classify(doc, 1)\n",
    "            if res == NEG_LABEL:\n",
    "                print \"FN:\", fn\n",
    "                print \"In /test/pos, but label is:\", res, \"\\n\"\n",
    "                file.seek(0)\n",
    "                out = file.readlines()\n",
    "                for w in out:\n",
    "                    print w\n",
    "                break\n",
    "            file.close()\n",
    "        else:\n",
    "            continue\n",
    "        break\n"
   ]
  },
  {
   "cell_type": "markdown",
   "metadata": {},
   "source": [
    "What are two reasons your system might have misclassified this example? What improvements could you make that may help your system classify this example correctly? "
   ]
  },
  {
   "cell_type": "markdown",
   "metadata": {},
   "source": [
    "#1: The affect of the diction is overwhelmingly negative when considered simply as a bag of words: lots of \"kill,\" \"death,\" \"murder,\" \"punish,\" \"victim,\" etc. But the writer is clearly very engaged with the world of the film and has written about the film in such detail in order to defend the quality of its characterizations; hence, it's an implicitly positive review. At present, the classifier is just dumbly (naively?) building its pos/neg model on the frequency of word counts on labeled texts in the training set. It's incapable of detecting subtleties introduced at the compositional level. To improve this, another function might be written that checks for the presence of compositional tokens typically used to indicate approval discursively (for example, \"I find it fittingly ironic\" or \"point comes through very well\" or \"has my respect\": all of these indicate the writer's approval of how the film handled its material). The presence of these tokens could be included as weights in the $LR$. This is probably one of the simpler ways to introduce some compositional analysis, but such a function would be brittle, relying on a predetermined list of tokens selected by an expert. It would lack generalizability and add a considerable amount of computational complexity.\n",
    "\n",
    "#2. There are a considerable number of \"not\" and \"-n't\"s in this review. Out of curiosity, I generated $LR$s for both: \"not\" = 0.862887136273 and \"n't\" = 0.487664310252, so it seems \"n't\" is more strongly correlated with a negative review, but \"not\" is fairly close to parity. Perhaps excluding \"not\" from the $LR$ calculation would help; after all, \"not\" doesn't have an inherent affect, but serves a logical function, especially in informal double negatives in English: \"I'm not not happy with this film\" and \"I'm not unhappy with this film\" are both expressions of mild approval, but treating \"not\" as an inherently negative term would swing both statements toward a negative misclassification.\n",
    "\n",
    "#3. Expand the training set to include more nuanced reviews like this; that will inform the model that just because kill, kill, kill shows up in a review, it's not necessarily negative. This might have minimal effect unless a much larger body of nuanced texts were introduced into the labeled training set."
   ]
  },
  {
   "cell_type": "markdown",
   "metadata": {},
   "source": [
    "**Extra credit (up to 10 points) **\n",
    "\n",
    "If you don't want to do the extra credit, you can stop here! Otherwise... keep reading... \n",
    " \n",
    "In this assignment, we use whitespace tokenization to create a bag-of-unigrams representation for the movie reviews. It is possible to improve this represetation to improve your classifier's performance. Use your own code or an external library such as nltk to perform tokenization, text normalization, word filtering, etc. Fill out your work in `def tokenize_doc_and_more` (below) and then show improvement by running the following.\n",
    "\n",
    "`nb = NaiveBayes(PATH_TO_DATA, tokenizer=tokenize_doc_and_more)\n",
    "nb.train_model()\n",
    "nb.evaluate_classifier_accuracy(1.0)\n",
    "`\n",
    "\n",
    "Roughly speaking, the larger performance improvement, the more extra credit. However, doing a good job investigating, explaining and justifying your work with small experiments and comments is also extremely important. Make sure to describe what you did and analyze why your method works. Use this ipython notebook to show your work."
   ]
  },
  {
   "cell_type": "code",
   "execution_count": 13,
   "metadata": {},
   "outputs": [],
   "source": [
    "def tokenize_doc_and_more(doc):\n",
    "    \"\"\"\n",
    "    Return some representation of a document.\n",
    "    At a minimum, you need to perform tokenization, the rest is up to you.\n",
    "    \"\"\"\n",
    "    # Implement me!\n",
    "    \n",
    "    import nltk, re, pprint\n",
    "    from nltk.tokenize import RegexpTokenizer\n",
    "    \n",
    "#     doc = doc.replace('<', ' <')\n",
    "#     doc = doc.replace('>', '> ')\n",
    "    doc = doc.replace('n\\'t', ' n\\'t')\n",
    "#     doc = doc.replace('<br />', ' ')\n",
    "    doc = doc.replace('!', ' ! ')\n",
    "    doc = doc.replace('?', ' ? ')\n",
    "\n",
    "    bow = defaultdict(float)\n",
    "    tokens = doc.split()\n",
    "    lowered_tokens = map(lambda t: t.lower(), tokens)\n",
    "    \n",
    "    common_set = ['the', 'of', 'and', 'a', 'to',\n",
    "                  'is']\n",
    "    \n",
    "    for token in lowered_tokens:\n",
    "        bow[token] += 1.0\n",
    "    \n",
    "    # remove whatever's after \"not\"?\n",
    "    # your code goes here\n",
    "    for w in common_set:\n",
    "        if w in bow:\n",
    "            del bow[w]\n",
    "    \n",
    "    return bow"
   ]
  },
  {
   "cell_type": "code",
   "execution_count": 14,
   "metadata": {
    "scrolled": true
   },
   "outputs": [
    {
     "name": "stdout",
     "output_type": "stream",
     "text": [
      "REPORTING CORPUS STATISTICS\n",
      "NUMBER OF DOCUMENTS IN POSITIVE CLASS: 600.0\n",
      "NUMBER OF DOCUMENTS IN NEGATIVE CLASS: 644.0\n",
      "NUMBER OF TOKENS IN POSITIVE CLASS: 30531.0\n",
      "NUMBER OF TOKENS IN NEGATIVE CLASS: 32249.0\n",
      "VOCABULARY SIZE: NUMBER OF UNIQUE WORDTYPES IN TRAINING CORPUS: 10527\n"
     ]
    },
    {
     "data": {
      "text/plain": [
       "58.568738229755176"
      ]
     },
     "execution_count": 14,
     "metadata": {},
     "output_type": "execute_result"
    }
   ],
   "source": [
    "nb = NaiveBayes(PATH_TO_DATA, tokenizer=tokenize_doc_and_more)\n",
    "nb.train_model()\n",
    "nb.evaluate_classifier_accuracy(2.4)"
   ]
  },
  {
   "cell_type": "markdown",
   "metadata": {},
   "source": [
    "Use cells at the bottom of this notebook to explain what you did in `better_tokenize_doc`. Include any experiments or explanations that you used to decide what goes in your function. "
   ]
  },
  {
   "cell_type": "markdown",
   "metadata": {
    "collapsed": true
   },
   "source": [
    "At first, I tried a noise-cleaning approach, filtering out the top identical terms in each set, most of which don't carry any inherent positive or negative affect. But after an initial boost, the accuracy started to decline as the set of top common terms increased. I abandoned this approach after about the top-60 common words, except for filtering for the top five or six words.\n",
    "\n",
    "Then I fiddled with removing the annoying HTML \"br /\" tags, since I could see from looking at some sample texts that they were joining random words together into big and often unique tokens that didn't carry any inherent information about the positivity of a review. Sadly, removing them only reduced accuracy! The grammar fiend in me was irked until I considered that the number of paragraphs a reviewer types in might have some relation to their emotional state while they write; perhaps the \"br /\" tags do carry some implicit emotional feature, then.\n",
    "\n",
    "Spurred by this thought, I tried breaking off \"n't\" as an independent token; perhaps a person writing a negative review might be more likely to use this negation? The word counts for \"n't\" in the positive and negative sets are 13,114 and 19,364 respectively, a difference of 67% and surely a good $LR$ indicator. Adding this as a separate token did improve accuracy.\n",
    "\n",
    "Then I thought to try exclamation marks and question marks as independent tokens; they carry emotional content in this kind of text. Counting them separately also helped boost accuracy.\n",
    "\n",
    "Finally, I fiddled with alpha and found that it made a small but noticeable difference, but only when increased. An alpha of 2.4 produced the best result with the other changes.\n",
    "\n",
    "For all that, I only improved accuracy by .888%. This was an interesting problem to play with -- I think I spent more time on it than on the rest of the homework combined -- but I can see that it's more complicated than I assumed at first. Perhaps improving the tokenizer will only take one so far when using a NB model."
   ]
  }
 ],
 "metadata": {
  "anaconda-cloud": {},
  "kernelspec": {
   "display_name": "Python 2",
   "language": "python",
   "name": "python2"
  },
  "language_info": {
   "codemirror_mode": {
    "name": "ipython",
    "version": 2
   },
   "file_extension": ".py",
   "mimetype": "text/x-python",
   "name": "python",
   "nbconvert_exporter": "python",
   "pygments_lexer": "ipython2",
   "version": "2.7.14"
  }
 },
 "nbformat": 4,
 "nbformat_minor": 1
}
